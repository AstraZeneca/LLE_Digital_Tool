{
 "cells": [
  {
   "cell_type": "markdown",
   "id": "fc953c6b-cb08-411b-9914-753bfef326b2",
   "metadata": {},
   "source": [
    "### This is a notebook to show use of the python code supporting this publication"
   ]
  },
  {
   "cell_type": "code",
   "execution_count": 5,
   "id": "20d78c17-6c4a-4a0d-ba0c-b877c1ef0fc2",
   "metadata": {},
   "outputs": [],
   "source": [
    "#import modules\n",
    "import pandas as pd # pandas is used for manipulating data sets\n",
    "import numpy as np # numpy is used for working with arrays\n",
    "\n",
    "import plotly\n",
    "import plotly.graph_objects as go # plotly graph objects used for plots\n",
    "from plotly.subplots import make_subplots # plotly subplots\n",
    "import plotly.express as px # plotly express used for color palettes\n",
    "\n",
    "import rdkit\n",
    "from rdkit import Chem # import packages from RDKit for drawing molecules based on their SMILES code\n",
    "from rdkit.Chem import Draw"
   ]
  },
  {
   "cell_type": "code",
   "execution_count": 6,
   "id": "400de605-99e0-457f-a8cd-7bb28934e02d",
   "metadata": {},
   "outputs": [
    {
     "name": "stdout",
     "output_type": "stream",
     "text": [
      "1.5.3\n",
      "1.26.0\n",
      "2022.03.5\n",
      "5.17.0\n"
     ]
    }
   ],
   "source": [
    "print(pd.__version__)\n",
    "print(np.__version__)\n",
    "print(rdkit.__version__)\n",
    "print(plotly.__version__)"
   ]
  },
  {
   "cell_type": "markdown",
   "id": "9087bd95-19fa-4a8c-9d79-5e892d881bcb",
   "metadata": {},
   "source": [
    "### Define calculation functions"
   ]
  },
  {
   "cell_type": "code",
   "execution_count": 31,
   "id": "eaf1b305-6262-47f6-8d34-08ba68dc5718",
   "metadata": {},
   "outputs": [],
   "source": [
    "def GetCompoundData(name, pka_values):\n",
    "    '''This is a function that extracts compound data from a df with pka data.\n",
    "        It takes a string as the compound name and a df with the data. It slices the df to find the compound\n",
    "        data and manipulates it to calculate the number of forms, which is the neutral form, and their pKas.\n",
    "        It returns these three values.'''\n",
    "\n",
    "    # use the name to slice the data\n",
    "    pka_data = pka_values.loc[pka_values['AZ_numbers'] == name]\n",
    "\n",
    "    acd_acids = [value for value in pka_data.iloc[:, 4:8].values[0] if not pd.isnull(value)]\n",
    "    acd_bases = [value for value in pka_data.iloc[:, 0:4].values[0] if not pd.isnull(value)]\n",
    "\n",
    "    # find out which is the neutral form\n",
    "    if len(acd_bases) > 0:  # make sure that the compound can behave as a base at low pH and has an exp base value\n",
    "        neutral_form = len(acd_bases) + 1  # neutral form is the one after all the deprotonated forms\n",
    "\n",
    "    else:\n",
    "        neutral_form = 1  # if only acidic forms, then neutral form is the first one\n",
    "\n",
    "    pkas = acd_bases\n",
    "    pkas.extend(acd_acids)\n",
    "\n",
    "    pkas.sort()  # sort the values in ascending order\n",
    "\n",
    "    no_of_forms = len(pkas) + 1  # the no. of forms is the number of pka values +1\n",
    "\n",
    "    return no_of_forms, pkas, neutral_form\n",
    "\n",
    "# define function to update compound dictionary with values\n",
    "def RetrieveCompoundPhysChem(compound, pka_values):\n",
    "    ''' This is a function to update a compound dictionary with corresponding physchem data.\n",
    "        It takes a compound dictionary and a df with pka values, and returns an\n",
    "        updated compound dictionary object. '''\n",
    "\n",
    "    # get name and physchem data\n",
    "    name = compound.get('Name').lower().title()\n",
    "    physchem_values = GetCompoundData(name, pka_values)\n",
    "\n",
    "    forms = []  # create empty list for forms\n",
    "\n",
    "    form = 0  # set counter to 0\n",
    "    neutral_form = physchem_values[2]  # get neutral form\n",
    "\n",
    "    while form < (physchem_values[0]):  # loop runs while counter < number of forms\n",
    "        if (form + 1) == neutral_form:  #\n",
    "            forms.append(f'{name} (neutral form)')\n",
    "        else:\n",
    "            charge = neutral_form - (\n",
    "                    form + 1)  # calculates charge based on distance from neutral form\n",
    "            if charge > 0:\n",
    "                charge = (f'+{charge}')  # if charge positive, add a '+' infront\n",
    "            forms.append(f'{name} (q= {charge})')\n",
    "        form += 1  # add one to the counter\n",
    "\n",
    "    # update the compound dictionary\n",
    "    compound['pka_data'] = True\n",
    "    compound.update({'Forms': forms,\n",
    "                     'pka_values': physchem_values[1],\n",
    "                     'Kas': [10 ** -pka for pka in physchem_values[1]] if physchem_values[\n",
    "                         1] else [],  # 10 ** -35,  # to handle compounds which remain neutral\n",
    "                     'Neutral Form': physchem_values[2],\n",
    "                     'Extraction': f'Extraction of {name} [Form {physchem_values[2]}]'\n",
    "                     })\n",
    "\n",
    "    return compound\n",
    "\n",
    "# define function to get SMILES and chemical structures\n",
    "def RetrieveSmilesToMol(compound, structures):\n",
    "    ''' This is a function to update a compound dictionary with mol objects to visualise molecules.\n",
    "        It takes a compound dictionary and a df with SMILES and returns the updated compound dictionary object. '''\n",
    "\n",
    "    # use compound name to identify smiles structure\n",
    "    name = compound.get('Name').lower().title()\n",
    "    smi = structures.loc[structures['COMPOUND_NAME'] == name, 'SMILES_ISOMERIC'].values[0]\n",
    "\n",
    "    # update dictionary\n",
    "    compound.update({'Structure': Chem.MolFromSmiles(smi)})\n",
    "\n",
    "    return compound\n",
    "\n",
    "\n",
    "# define function to get the species list\n",
    "def SpeciesList(compound):\n",
    "    ''' This is a function to construct a list with the species mole fractions.\n",
    "        It takes a compound dictionary and returns a list with the mole fraction of\n",
    "        each form at each pH.'''\n",
    "\n",
    "    ph = np.arange(0.0, 14.1, 0.1)  # get the pH range\n",
    "    conc_H = 10 ** -ph  # calculate concentration of protons over the ph range\n",
    "    speciation_terms = [np.ones_like(ph)]  # first form speciation is 1 - needed for calculation\n",
    "\n",
    "    for ind, Ka in enumerate(compound['Kas']): # enumerate Kas to get position and value of each Ka\n",
    "        # calculate speciation term from cumulative product of Kas, divided by concentration to the power of (ind+1)\n",
    "        speciation_term = np.prod(compound['Kas'][:ind + 1]) / conc_H ** (ind + 1)\n",
    "        speciation_terms.append(speciation_term) # append new term to list\n",
    "\n",
    "    # get the sum of terms for below calculation\n",
    "    speciation_sum = sum(speciation_terms)\n",
    "\n",
    "    # get the species counts at each ph (fraction of each species / total)\n",
    "    species = [term / speciation_sum for term in speciation_terms]\n",
    "\n",
    "    return species\n",
    "\n",
    "\n",
    "# define speciation terms df\n",
    "def SpeciesDf(compound):\n",
    "    ''' This is a function to construct a dataframe with the species mole fractions.\n",
    "        It takes a compound dictionary and returns a dataframe.'''\n",
    "\n",
    "    sp = SpeciesList(compound) # get species\n",
    "\n",
    "    # constuct the df\n",
    "    species_df = pd.DataFrame(sp, index=compound['Forms']).T  # .T allows transposition of df, turns rows into columns and vice versa\n",
    "\n",
    "    return species_df\n",
    "\n",
    "\n",
    "# define extraction in aqueous layer\n",
    "def AqueousExtractionFraction(compound):\n",
    "    ''' This is a function to calculate the mole fraction of the compound in the aqueous layer.\n",
    "        It takes a compound dictionary as an argument and returns a list with the mole fraction of\n",
    "        each form in the aqueous layer'''\n",
    "\n",
    "    # retrieve the speciations again\n",
    "    species = SpeciesList(compound)\n",
    "\n",
    "    # use list comprehension to get the aqueous extracts of each form\n",
    "    aq_extractions = [1 / (1 + (compound['Kp'] * compound.get('Vr') * sp)) for sp in species]\n",
    "\n",
    "    return aq_extractions\n",
    "\n",
    "\n",
    "# define extraction in organic layers\n",
    "def OrganicExtractionFraction(compound):\n",
    "    ''' This is a function to calculate the mole fraction of the compound in the organic layer.\n",
    "        It takes a compound dictionary as an argument and returns a list with the mole fraction of\n",
    "        each form in the organic layer'''\n",
    "\n",
    "    # retrieve the speciations again\n",
    "    aqueous_extracts = AqueousExtractionFraction(compound)\n",
    "\n",
    "    # use list comprehension to get the org extracts for each form (1 - aq)\n",
    "    org_extractions = [1 - aq_extract for aq_extract in aqueous_extracts]\n",
    "\n",
    "    return org_extractions\n",
    "\n",
    "\n",
    "# define function to get fraction extracted for each compound\n",
    "def FractionExtracted(compound, system):\n",
    "    # change to fraction extracted\n",
    "    ''' This is a function to calculate the fraction extracted of each compound in its neutral form.\n",
    "    It returns a df with the fraction extracted of the isolate in the desired phase\n",
    "    and the fraction extracted of the impurity in the opposite phase (for each pH).'''\n",
    "\n",
    "    # for aqueous system\n",
    "    if system['Extraction Phase'] == 'Aqueous':\n",
    "\n",
    "        # get extraction efficiency for compound in neutral form in aq phase\n",
    "        extract = AqueousExtractionFraction(compound)[compound.get('Neutral Form') - 1]\n",
    "\n",
    "        if compound['Isolate'] == True:\n",
    "            raw_efficiency = extract  # if isolate, efficiency stays the same\n",
    "        else:\n",
    "            raw_efficiency = 1 - extract # if impurity, we do 1 - efficiency\n",
    "            # note that if ratio isn't edited, it is set to 1\n",
    "\n",
    "    # for organic system\n",
    "    else:\n",
    "        # get extraction efficiency for compound in neutral form in org phase\n",
    "        extract = OrganicExtractionFraction(compound)[compound.get('Neutral Form') - 1]\n",
    "\n",
    "        if compound['Isolate'] == True:\n",
    "            raw_efficiency = extract  # if isolate, efficiency stays the same\n",
    "        else:\n",
    "            raw_efficiency = 1 - extract # if impurity, we do 1 - efficiency\n",
    "\n",
    "    return raw_efficiency # return df\n",
    "\n",
    "# # define a function to get fraction extracted for each compound at a specific pH\n",
    "def FractionExtractedAtpH(compounds, system, ph):\n",
    "    # slice fraction extracted for given pH\n",
    "    ''' This is a function to calculate the fraction extracted for the desired compound in the desired phase\n",
    "        and the impurities in the rejected phase. It takes a compounds object (dictionary), a system\n",
    "        object (dictionary), and a pH value, and returns a dictionary of compound names and fraction extracted values. '''\n",
    "\n",
    "    ph_ = np.arange(0.0, 14.1, 0.1) # get the ph range\n",
    "    ind_ph = ph_.tolist().index(ph) # get the index of the ph of the extraction\n",
    "    fractions_extracted = {} # initialise a dictionary to hold the data\n",
    "\n",
    "    # loop through the compounds\n",
    "    for compound in compounds.values():\n",
    "        name = compound['Name'] # get name\n",
    "\n",
    "        # get the fraction extracted for the compound at the specified pH\n",
    "        desired_fraction = FractionExtracted(compound, system)[ind_ph]\n",
    "        fractions_extracted[f'{name}'] = desired_fraction # add entry to dictionary\n",
    "\n",
    "    return fractions_extracted # return dictionary\n",
    "\n",
    "# define function to get the extraction efficiency for the isolated compound\n",
    "def IsolateExtractionEfficiency(compounds, system):\n",
    "    #isolate extraction efficiency\n",
    "    ''' This is a function to calculate the isolation efficiency of the desired compound.\n",
    "        It takes a list of compounds, and a system dictionary as arguments and returns an array\n",
    "        with the mole fraction of the desired compound extracted into the phase specified by the system. '''\n",
    "\n",
    "    # initialise empty lists to hold extraction efficiency for each type of compound\n",
    "    n_main = []\n",
    "    n_imps = []\n",
    "\n",
    "    # append raw extraction efficiencies of isolate and impurity compounds to each list\n",
    "    for compound in compounds.values():\n",
    "        if compound['Isolate'] == True:\n",
    "            n_main.append(FractionExtracted(compound, system))\n",
    "\n",
    "        else:\n",
    "            n_imps.append(FractionExtracted(compound, system))\n",
    "\n",
    "    # flattens n_main array into an array containing the sum of the columns\n",
    "    sum_main = sum(n_main)\n",
    "\n",
    "    # if there are no impurities, only isolate extraction efficiency * 100\n",
    "    if len(n_imps) == 0:\n",
    "        efficiency = 100 * (sum_main)\n",
    "\n",
    "    else: # if impurities present, calculate mean of impurities\n",
    "        sum_imps = sum(n_imps) / len(n_imps)\n",
    "        efficiency = 100 * (sum_main * sum_imps)\n",
    "\n",
    "    return efficiency\n",
    "\n",
    "# define function to calculate the extraction efficiency at the extraction pH\n",
    "def ExtractionEfficiencyAtSystempH(compounds, system):\n",
    "    '''This is a function to calculate the extraction efficiency of the isolated compound at a the specified\n",
    "     extraction (aqueous phase) pH. '''\n",
    "\n",
    "    ph = np.arange(0.0, 14.1, 0.1)  # get the pH range\n",
    "    aqueous_pH = system['Extraction (Aqueous Phase) pH']  # get the system pH\n",
    "\n",
    "    # get the extraction efficiency of all compounds in system (isolate * impurities)\n",
    "    eff = IsolateExtractionEfficiency(compounds, system)\n",
    "\n",
    "    name = [compound['Name'].lower().title() for compound in compounds.values() if compound['Isolate']][0]  # get isolate name\n",
    "\n",
    "    # get index value of aq pH\n",
    "    # ind = ph.tolist().index(aqueous_pH) no longer works\n",
    "    ind = int(10 * aqueous_pH)\n",
    "    efficiency_at_ph = eff[ind]  # use it to get the extraction efficiency\n",
    "\n",
    "    return name, aqueous_pH, efficiency_at_ph\n",
    "\n",
    "\n",
    "# define function to calculate the maximum Extraction Efficiency independent of pH\n",
    "def MaximumExtractionEfficiency(compounds, system):\n",
    "    '''This is a function to calculate the maximum extraction efficiency of the desired compound in an\n",
    "        extraction system. It takes a compounds object (dictionary) and a system object (dictionary) and\n",
    "        it returns two values: the pH for the maximum efficiency, and the maximum extraction efficiency.'''\n",
    "\n",
    "    ph = np.arange(0.0, 14.1, 0.1)  # get the pH range\n",
    "\n",
    "    # get the extraction efficiency of all compounds in system (isolate * impurities)\n",
    "    eff_ = IsolateExtractionEfficiency(compounds, system)\n",
    "\n",
    "    ph_max_eff = ph[np.argmax(eff_)]  # get the pH at the max efficiency\n",
    "    max_eff = eff_.max()  # get the max efficiency\n",
    "\n",
    "    return ph_max_eff, max_eff\n",
    "\n",
    "# function to run exhaustive calculations\n",
    "def CalculateExhaustiveExtractions(solvents, compounds, system):\n",
    "    '''This is a function to iterate through every solvent at every pH, where Vr is set to 1.\n",
    "    (NB: This does not limit results based on org_rel_vol). It takes all solvents and compounds info and returns the\n",
    "    solvents which are missing logP or solubility data, and a df called full_concat_results.'''\n",
    "\n",
    "    # initialise empty lists to hold different lists of solvents\n",
    "    full_logp_available_solvents = []\n",
    "    full_logp_unavailable_solvents = []\n",
    "   \n",
    "    #  empty lists to hold results\n",
    "    full_results = []\n",
    "\n",
    "    # try / except loop so there's no error thrown if no results are available\n",
    "    try:\n",
    "        # figure out for which of the selected solvents we actually have logP values\n",
    "        for solvent in solvents['Preferred Name']:\n",
    "            if solvent in pivoted_solvents.index:\n",
    "                full_logp_available_solvents.append(solvent)\n",
    "            else:\n",
    "                # if no logP values, add solvent to the list of unavailable solvents\n",
    "                full_logp_unavailable_solvents.append(solvent)\n",
    "\n",
    "        # set vr = 1 for all compounds\n",
    "        for compound in compounds.values():\n",
    "            compound['Vr'] =  1.0\n",
    "\n",
    "            # get the name of the compound to isolate\n",
    "            if compound['Isolate'] == True:\n",
    "                desired = compound['Name'].lower().title()\n",
    "\n",
    "        # for each available solvent (ignored solvents missing logP data)\n",
    "        # update logP values then calculate ext eff\n",
    "        for solvent in full_logp_available_solvents:\n",
    "\n",
    "            sub_df = pd.DataFrame() # make temporary df to add to\n",
    "\n",
    "            # make row in temporary df for every solvent at every pH...\n",
    "            sub_df['pH'] = np.arange(0.0, 14.1, 0.1)\n",
    "            sub_df['Solvent'] = [solvent for val in sub_df['pH'].values]\n",
    "\n",
    "            # iterate through compounds and set logPs for that solvent\n",
    "            for compound in compounds.values():\n",
    "                name = compound.get('Name').lower().title() # get name\n",
    "\n",
    "                logp_value = pivoted_solvents.loc[solvent, name]\n",
    "                compound['Kp'] = 10 ** logp_value\n",
    "\n",
    "                # add the compound logP value to the sub_df\n",
    "                sub_df[f'{name}_logP'] = [logp_value for val in sub_df['pH'].values]\n",
    "\n",
    "            # get extraction efficiency and add new column\n",
    "            if system_panel_values['Extraction Phase'] == 'Aqueous':\n",
    "                sub_df[f'Extraction_eff_{desired}_aq'] = IsolateExtractionEfficiency(compounds,\n",
    "                                                                                     system)\n",
    "            else:\n",
    "                sub_df[f'Extraction_eff_{desired}_org'] = IsolateExtractionEfficiency(compounds,\n",
    "                                                                                      system)\n",
    "\n",
    "            # iterate through compounds and get fraction extracted\n",
    "            for compound in compounds.values():\n",
    "                name = compound.get('Name').lower().title() # get name\n",
    "\n",
    "                # add columns for fraction extracted for each compound\n",
    "                # here, we are measuring fraction extracted of the impurities in the DESIRED phase\n",
    "\n",
    "                if system_panel_values['Extraction Phase'] == 'Aqueous':\n",
    "                    sub_df[f'Fraction_extracted_{name}_aq'] = AqueousExtractionFraction(compound)[\n",
    "                        compound.get('Neutral Form') - 1]\n",
    "                else:\n",
    "                    sub_df[f'Fraction_extracted_{name}_org'] = OrganicExtractionFraction(compound)[\n",
    "                        compound.get('Neutral Form') - 1]\n",
    "\n",
    "            sub_df['Volume_ratio'] = [1.0 for val in sub_df['pH'].values] # make Vr column = 1.0\n",
    "            # calculate Aq_rel_vol and Total_rel_vol\n",
    "\n",
    "            full_results.append(sub_df) # append temporary df to results df\n",
    "\n",
    "        # merging Series and df object to single df and avoid index being added as column\n",
    "        full_concat_results = pd.concat(full_results).reset_index(drop=True)\n",
    "\n",
    "        # currently remove .dropna() below as some compound/solvent combos are missing solubility/PMI data\n",
    "        #full_concat_results = pd.concat(full_results).dropna().reset_index(drop=True)\n",
    "\n",
    "        # returns lists of solvents missing logP and solvents missing solubility values\n",
    "        # returns concatenated results df\n",
    "        return full_logp_unavailable_solvents, full_concat_results\n",
    "\n",
    "    except ValueError: # if there are no available solvents, there will be no concat results\n",
    "\n",
    "        # returns lists of solvents missing logP values\n",
    "        # returns None (in place of results)\n",
    "        return full_logp_unavailable_solvents,  None\n",
    "\n",
    "\n",
    "def CalculateExtractions(solvents, compounds, system, volume_ratio):\n",
    "    '''This is a function to iterate the calculations for every solvent, limited by the user's choice of \n",
    "    volume ratio range. It takes all solvents, compounds and volume ratio and returns the solvents which \n",
    "    are missing logP data, and a df called concat_results.'''\n",
    "\n",
    "    # initialise empty lists to hold different lists of solvents\n",
    "    available_solvents = []\n",
    "    logp_unavailable_solvents = []\n",
    "\n",
    "    # empty list to hold results\n",
    "    results = []\n",
    "\n",
    "    # try / except loop so that there's no error thrown if no results are available\n",
    "    try:\n",
    "\n",
    "        # figure out for which of the selected solvents we actually have logP values\n",
    "        for solvent in solvents['Preferred Name']:\n",
    "            if solvent in pivoted_solvents.index:\n",
    "                available_solvents.append(solvent)\n",
    "            else:\n",
    "                # if no logP values, add solvent to the list of unavailable solvents\n",
    "                logp_unavailable_solvents.append(solvent)\n",
    "\n",
    "        # get array of possible volume ratios\n",
    "        vrs = np.array([0.1, 0.2, 0.25, 0.33, 0.5, 1.0, 1.5, 2.0, 2.5, 3.0, 4.0, 5.0])\n",
    "\n",
    "        # iterate through Vr range user has selected\n",
    "        for vr in vrs[(vrs >= volume_ratio[0]) & (vrs <= volume_ratio[1])]:\n",
    "\n",
    "            # set Vr for all compounds\n",
    "            for compound in compounds.values():\n",
    "                compound['Vr'] = vr # set Vr for this iteration (needed in calculations)\n",
    "\n",
    "                # get the name of the compound to isolate\n",
    "                if compound['Isolate'] == True:\n",
    "                    desired = compound['Name'].lower().title()\n",
    "\n",
    "            # for each available solvent (ignores solvents missing  logP data)\n",
    "            # update logP values then calculate max ext eff\n",
    "            for solvent in available_solvents:\n",
    "\n",
    "                sub_df = pd.DataFrame() # make temporary df to add to\n",
    "\n",
    "                # iterate through compounds and set logPs for that solvent\n",
    "                for compound in compounds.values():\n",
    "                    name = compound.get('Name').lower().title()  # get name\n",
    "\n",
    "                    # get logP value and set compound Kp (for each solvent)\n",
    "                    logp_value = pivoted_solvents.loc[solvent, name]\n",
    "                    compound['Kp'] = 10 ** logp_value\n",
    "\n",
    "                    # add the compound logP value to the sub_df\n",
    "                    sub_df.loc[solvent, f'{name}_logP'] = logp_value\n",
    "\n",
    "                # come out of the loop and for each solvent:\n",
    "                # calculate the maximum efficiency and the ph at which it is observed\n",
    "                max_eff_ph, max_eff_ = MaximumExtractionEfficiency(compounds, system)\n",
    "\n",
    "                sub_df.loc[solvent, 'Max_eff_pH'] = max_eff_ph\n",
    "                sub_df.loc[solvent, 'Max_ext_eff'] = max_eff_\n",
    "\n",
    "                # calculate the fraction extracted for each compound\n",
    "                fractions_extracted_max_ph = FractionExtractedAtpH(compounds, system, max_eff_ph)\n",
    "\n",
    "                # if it's the desired compound in the desired phase create the column name accordingly\n",
    "                for f_ex in fractions_extracted_max_ph.items():  # here compound is a tuple\n",
    "                    if f_ex[0] == desired:\n",
    "                        if system_panel_values['Extraction Phase'] == 'Aqueous':\n",
    "                            sub_df.loc[solvent, f'{f_ex[0]}_fraction_aq'] = f_ex[1]\n",
    "                        else:\n",
    "                            sub_df.loc[solvent, f'{f_ex[0]}_fraction_org'] = f_ex[1]\n",
    "                    else:\n",
    "                        if system_panel_values['Extraction Phase'] == 'Aqueous':\n",
    "                            sub_df.loc[solvent, f'{f_ex[0]}_fraction_org'] = f_ex[1]\n",
    "                        else:\n",
    "                            sub_df.loc[solvent, f'{f_ex[0]}_fraction_aq'] = f_ex[1]\n",
    "\n",
    "                # use outcome of calculation to write the relevant columns\n",
    "                sub_df.loc[solvent, 'Volume_ratio'] = vr\n",
    "\n",
    "                results.append(sub_df) # append temporary df to results df\n",
    "\n",
    "        concat_results = pd.concat(results) # merging Series and df object to a single df\n",
    "        #concat_results = concat_results.dropna() # remove rows where at least one element is missing\n",
    "\n",
    "\n",
    "        # returns lists of solvents missing logP and solvents missing solubility values\n",
    "        # returns concatenated results df\n",
    "        return logp_unavailable_solvents, concat_results\n",
    "\n",
    "    except ValueError: # if there are no available solvents, there will be no concat results\n",
    "\n",
    "        # returns lists of solvents missing logP and solvents missing solubility values\n",
    "        # returns None (in place of results)\n",
    "        return logp_unavailable_solvents, None\n",
    "\n",
    "\n",
    "def PlotSpecies(compound):\n",
    "    ''' This is a function to plot the speciation curves for the forms of a compound.\n",
    "        It takes a compound dictionary as an argument and returns a plot.'''\n",
    "\n",
    "    df = SpeciesDf(compound)  # construct the speciation df\n",
    "    name = compound['Name'].lower().title()# get name\n",
    "    ph = np.arange(0.0, 14.1, 0.1)  # get the pH range\n",
    "\n",
    "    # style colors\n",
    "    mulberry = '#830051'\n",
    "    navy = '#003865'\n",
    "    limegreen = '#C4D600'\n",
    "    magenta = '#D0006F'\n",
    "    gold = '#F0AB00'\n",
    "    lightblue = '#68D2DF'\n",
    "    purple = '#3C1053'\n",
    "\n",
    "    colors = [navy, magenta, limegreen, lightblue, purple] # color list for threads on the speciation curve\n",
    "    colors = iter(colors) # make list iterable\n",
    "    fig = go.Figure()\n",
    "\n",
    "    for form in df.columns:\n",
    "        color = next(colors)  # iterate to next color\n",
    "        # add trace for each form in a different colour. form [1:-1] removes the brackets\n",
    "        fig.add_trace(go.Scatter(x = ph, y = df[f'{form}'], mode='lines', name=form, line_color=color))\n",
    "        fig.update_layout(title=dict(text=f'Speciation Curve for {name}', xanchor='left', yanchor='top'),\n",
    "                        xaxis_title='pH', yaxis_title='Species Mole Fraction', width=600,\n",
    "                        legend=dict(x=0.7, y=-0.35, traceorder='normal'),\n",
    "                        xaxis = dict(tickmode='array',\n",
    "                                    tickvals=[val for val in range(0, 15, 2)],\n",
    "                                    ticktext=[str(val) for val in range(0, 15, 2)]) # standardise tick labels\n",
    "                      )\n",
    "    return fig\n",
    "\n",
    "\n",
    "# define function to plot the fraction extracted curve for all compounds in compounds_panel_values (plotly)\n",
    "def PlotFractionExtracted(compounds, system):\n",
    "    ''' This is a function to plot the fraction extraction curve of a list of compounds vs the pH.\n",
    "        It takes a compounds dictionary and a boolean about which layer (aqueous or\n",
    "        organic) to monitor and returns a series of overlayed plots.\n",
    "        It essentially does the same job as the PlotExtraction function but for many compounds'''\n",
    "\n",
    "    fig = go.Figure()  # set up figure\n",
    "    ph = np.arange(0.0, 14.1, 0.1)  # get the pH range\n",
    "    phase = system['Extraction Phase']  # get phase\n",
    "    aqueous_pH = system['Extraction (Aqueous Phase) pH']  # get aq phase pH\n",
    "\n",
    "    # style colors\n",
    "    mulberry = '#830051'\n",
    "    navy = '#003865'\n",
    "    limegreen = '#C4D600'\n",
    "    magenta = '#D0006F'\n",
    "    gold = '#F0AB00'\n",
    "    lightblue = '#68D2DF'\n",
    "    purple = '#3C1053'\n",
    "\n",
    "    palette = [navy, magenta, mulberry, limegreen, lightblue, purple]  # list of colours for lines on plot\n",
    "    colors = iter(palette)  # make iterable\n",
    "\n",
    "    # loop through the compounds and make the plots\n",
    "    for compound in compounds.values():\n",
    "        try:\n",
    "            color = next(colors)  # iterate through the list each time a line is plotted\n",
    "        except:\n",
    "            colors = iter(palette)  # if gets to the end of the list of colours, restart the list\n",
    "            color = next(colors)  # restart the list\n",
    "\n",
    "        # if aqueous, use AqueousExtractionFraction\n",
    "        if phase == 'Aqueous':\n",
    "            extraction_form = compound.get('Extraction')\n",
    "            extract = AqueousExtractionFraction(compound)[compound.get('Neutral Form') - 1]\n",
    "            fig.add_trace(go.Scatter(x=ph, y=extract, mode='lines', name=f'{extraction_form[:-9]}',\n",
    "                                     hovertemplate='pH: %{x:.2f}, Frac_ex: %{y:.2f}',\n",
    "                                     line_color=color))\n",
    "\n",
    "        # if org, use OrganicExtractionFraction\n",
    "        else:\n",
    "            extraction_form = compound.get('Extraction')\n",
    "            extract = OrganicExtractionFraction(compound)[compound.get('Neutral Form') - 1]\n",
    "            fig.add_trace(go.Scatter(x=ph, y=extract, mode='lines', name=f'{extraction_form[:-9]}',\n",
    "                                     hovertemplate='pH: %{x:.2f}, Frac_ex: %{y:.2f}',\n",
    "                                     line_color=color))\n",
    "\n",
    "    # come out of the loop and show them all\n",
    "    fig.add_vline(x=aqueous_pH, line_dash=\"dash\", line_color=gold)\n",
    "    fig.update_layout(title=dict(text=f'Fraction Extracted into Desired Phase ({phase} Phase)', xanchor='left', yanchor='top'),\n",
    "                      xaxis_title='pH', yaxis_title='Fraction Extracted', width=580,\n",
    "                      legend=dict(x=0.58, y=-0.35, traceorder='normal'),\n",
    "                      xaxis=dict(tickmode='array',\n",
    "                                 tickvals=[val for val in range(0, 15, 2)],\n",
    "                                 ticktext=[str(val) for val in range(0, 15, 2)])\n",
    "                      )\n",
    "\n",
    "    return fig\n",
    "\n",
    "\n",
    "def PlotExtractionEfficiency(compounds, system):\n",
    "    ''' This is a function to plot the extraction efficiency curve for the isolate compound relative to all\n",
    "      the impurities listed. It takes the compound dictionary and system info dictionary and returns a single\n",
    "      curve on a plot.'''\n",
    "\n",
    "    fig = go.Figure()  # create figure\n",
    "    ph = np.arange(0.0, 14.1, 0.1)  # get the pH range\n",
    "    aqueous_pH = system['Extraction (Aqueous Phase) pH']  # get aq phase pH\n",
    "    solvent = system['Current Solvent']  # get solvent in system\n",
    "    phase = system['Extraction Phase']  # get phase\n",
    "\n",
    "    # style colors\n",
    "    mulberry = '#830051'\n",
    "    navy = '#003865'\n",
    "    limegreen = '#C4D600'\n",
    "    magenta = '#D0006F'\n",
    "    gold = '#F0AB00'\n",
    "    lightblue = '#68D2DF'\n",
    "    purple = '#3C1053'\n",
    "\n",
    "    # get the extraction efficiency of all compounds in system (isolate * impurities)\n",
    "    eff = IsolateExtractionEfficiency(compounds, system)\n",
    "\n",
    "    # gets the pH for maximum efficiency, and the maximum extraction efficiency\n",
    "    ph_max_eff, max_eff = MaximumExtractionEfficiency(compounds, system)\n",
    "\n",
    "    # get name of isolate\n",
    "    name = [compound['Name'].lower().title() for compound in compounds.values() if compound['Isolate']][0]\n",
    "\n",
    "    # add curve for extraction efficiency\n",
    "    fig.add_trace(go.Scatter(x=ph, y=eff, mode='lines', name=f'Extraction Efficiency (%) for <br>{name} in '\n",
    "                                                             f'{solvent}',\n",
    "                             hovertemplate='pH: %{x:.2f}, Efficiency: %{y:.1f}%',\n",
    "                             line_color=navy))\n",
    "\n",
    "    # add maximum eff as a blue star marker on graph\n",
    "    fig.add_trace(go.Scatter(x=[float(ph_max_eff)], y=[float(max_eff)], name='Maximum Extraction Efficiency',\n",
    "                             hovertemplate='pH: %{x:.2f}, Max_Eff: %{y:.1f}%',\n",
    "                             marker=dict(color=lightblue, size=8, symbol='star'), line=dict(width=0.8, color=navy)))\n",
    "\n",
    "    # add pH dotted line\n",
    "    fig.add_vline(x=aqueous_pH, line_dash=\"dash\", line_color=gold)\n",
    "\n",
    "    # update layout\n",
    "    fig.update_layout(\n",
    "        title=dict(text=f'Extraction Efficiency of {name} into Desired Phase ({phase} Phase)', xanchor='left', yanchor='top'),\n",
    "        xaxis_title='pH', yaxis_title='Extraction Efficiency (%)', width=580,\n",
    "        legend=dict(x=0.65, y=-0.35, traceorder='normal'), xaxis=dict(\n",
    "            tickmode='array',\n",
    "            tickvals=[val for val in range(0, 15, 2)],\n",
    "            ticktext=[str(val) for val in range(0, 15, 2)])\n",
    "        )\n",
    "    fig.update_yaxes(range=[-5, 105]) # ensure axis set to 100\n",
    "    return fig\n",
    "\n",
    "def load_local_data():\n",
    "\n",
    "    ''' Helper function to load data into environment.\n",
    "        Loads list of solvents, pKa data, LogP data, and structures.\n",
    "        Basic processing and return of respective objects.\n",
    "    '''\n",
    "\n",
    "    # import solvent data\n",
    "    solvents = pd.read_csv('solvents_full__wide_df.csv')\n",
    "    solvents = solvents.drop('Unnamed: 0', axis=1)\n",
    "\n",
    "    # take only water immiscible solvents\n",
    "    solvents = solvents.loc[solvents['MISCIBILITY'] == 'N']\n",
    "\n",
    "    # functional groups, start from ACID\n",
    "    functional_groups = solvents.columns[8:]\n",
    "\n",
    "    # read in predicted pka data\n",
    "    pred_pka = pd.read_csv('1_2_3_pKa_data.csv')\n",
    "    pred_pka = pred_pka.drop('Unnamed: 0', axis=1)\n",
    "\n",
    "    # load LogP data\n",
    "    pivoted_solvents = pd.read_csv('1_2_3_pred_logP_data.csv')\n",
    "    pivoted_solvents.index = pivoted_solvents['SOLVENT_2_COMMON_NAME']\n",
    "    pivoted_solvents = pivoted_solvents.drop('SOLVENT_2_COMMON_NAME', axis=1)\n",
    "\n",
    "    # load smiles\n",
    "    structures = pd.read_csv('1_2_3_structures.csv')\n",
    "\n",
    "    return solvents, functional_groups, pred_pka, pivoted_solvents, structures"
   ]
  },
  {
   "cell_type": "markdown",
   "id": "87bae56d-2a3f-4925-bca6-9a8e3713ae74",
   "metadata": {},
   "source": [
    "### Define the dictionary objects for the system and compounds"
   ]
  },
  {
   "cell_type": "code",
   "execution_count": 10,
   "id": "b0b30f7c-bfd2-4d4e-93dc-8df7a8c69d3b",
   "metadata": {},
   "outputs": [],
   "source": [
    "system_panel_values = {\n",
    "  \"Aqueous Phase\": 25,\n",
    "  \"Organic Phase\": 25,\n",
    "  \"Total Volume\": 50,\n",
    "  \"Aqueous Phase Proportion\": 50,\n",
    "  \"Organic Phase Proportion\": 50,\n",
    "  \"Relative Phase Volume\": 1,\n",
    "  \"Extraction (Aqueous Phase) pH\": 7,\n",
    "  \"Extraction Phase\": \"Aqueous\",\n",
    "  \"Current Solvent\": \"2-MeTHF\",\n",
    "  \"Number of compounds to separate\": 2\n",
    "}\n",
    "\n",
    "compounds_panel_values = {\n",
    "  \"c0\": {\n",
    "    \"Name\": \"PRODUCT 3\",\n",
    "    \"Isolate\": True,\n",
    "    \"Impurity\": False,\n",
    "    },\n",
    "  \"c1\": {\n",
    "    \"Name\": \"AMINE 2\",\n",
    "    \"Isolate\": False,\n",
    "    \"Impurity\": True,\n",
    "    },\n",
    "  \"c2\": {\n",
    "    \"Name\": \"ARYL BROMIDE 1\",\n",
    "    \"Isolate\": False,\n",
    "    \"Impurity\": True,\n",
    "    }\n",
    "}"
   ]
  },
  {
   "cell_type": "markdown",
   "id": "b6ebea5f-0ddc-4aa1-a875-7648a68f7a67",
   "metadata": {},
   "source": [
    "### Procedural Processing"
   ]
  },
  {
   "cell_type": "code",
   "execution_count": 11,
   "id": "910208e0-b98b-4b3e-aa2b-4e71658cd376",
   "metadata": {},
   "outputs": [],
   "source": [
    "# Define dat objects using helper function\n",
    "solvents, functional_groups, pred_pka, pivoted_solvents, structures = load_local_data()"
   ]
  },
  {
   "cell_type": "code",
   "execution_count": 12,
   "id": "b128ed42-5b84-4ba6-934c-ee1b82a7774d",
   "metadata": {},
   "outputs": [],
   "source": [
    "for compound in compounds_panel_values.values():\n",
    "    try:\n",
    "        name = compound.get('Name').lower().title()  # get name to search for PPP data\n",
    "        compound = RetrieveCompoundPhysChem(compound, pred_pka)  # add physchem data for compound to dictionary\n",
    "        compound = RetrieveSmilesToMol(compound, structures)  # add mol data to dictionary\n",
    "        compound['Vr'] = system_panel_values['Relative Phase Volume']\n",
    "        logp_value = pivoted_solvents.loc[system_panel_values['Current Solvent'], name]\n",
    "        compound['Kp'] = 10 ** logp_value\n",
    "        compound['validity'] = True\n",
    "    except:  # if any of the above fails, compound and system will not be valid\n",
    "        compound['validity'] = False\n",
    "        system_panel_values['Check'] = False"
   ]
  },
  {
   "cell_type": "code",
   "execution_count": 13,
   "id": "619ca6ef-bb54-491c-a4d1-904fd57f0b4c",
   "metadata": {},
   "outputs": [
    {
     "data": {
      "text/plain": [
       "{'c0': {'Name': 'PRODUCT 3',\n",
       "  'Isolate': True,\n",
       "  'Impurity': False,\n",
       "  'pka_data': True,\n",
       "  'Forms': ['Product 3 (q= +3)',\n",
       "   'Product 3 (q= +2)',\n",
       "   'Product 3 (q= +1)',\n",
       "   'Product 3 (neutral form)'],\n",
       "  'pka_values': [4.0, 7.81, 9.24],\n",
       "  'Kas': [0.0001, 1.5488166189124828e-08, 5.754399373371567e-10],\n",
       "  'Neutral Form': 4,\n",
       "  'Extraction': 'Extraction of Product 3 [Form 4]',\n",
       "  'Structure': <rdkit.Chem.rdchem.Mol at 0x1f4cbc22940>,\n",
       "  'Vr': 1,\n",
       "  'Kp': 524224.7605556614,\n",
       "  'validity': True},\n",
       " 'c1': {'Name': 'AMINE 2',\n",
       "  'Isolate': False,\n",
       "  'Impurity': True,\n",
       "  'pka_data': True,\n",
       "  'Forms': ['Amine 2 (q= +2)', 'Amine 2 (q= +1)', 'Amine 2 (neutral form)'],\n",
       "  'pka_values': [4.35, 9.27],\n",
       "  'Kas': [4.466835921509635e-05, 5.370317963702532e-10],\n",
       "  'Neutral Form': 3,\n",
       "  'Extraction': 'Extraction of Amine 2 [Form 3]',\n",
       "  'Structure': <rdkit.Chem.rdchem.Mol at 0x1f4ca7bfd60>,\n",
       "  'Vr': 1,\n",
       "  'Kp': 2.5338609585132845,\n",
       "  'validity': True},\n",
       " 'c2': {'Name': 'ARYL BROMIDE 1',\n",
       "  'Isolate': False,\n",
       "  'Impurity': True,\n",
       "  'pka_data': True,\n",
       "  'Forms': ['Aryl Bromide 1 (q= +1)', 'Aryl Bromide 1 (neutral form)'],\n",
       "  'pka_values': [9.03],\n",
       "  'Kas': [9.332543007969924e-10],\n",
       "  'Neutral Form': 2,\n",
       "  'Extraction': 'Extraction of Aryl Bromide 1 [Form 2]',\n",
       "  'Structure': <rdkit.Chem.rdchem.Mol at 0x1f4ca7bfb20>,\n",
       "  'Vr': 1,\n",
       "  'Kp': 529192.9746044268,\n",
       "  'validity': True}}"
      ]
     },
     "execution_count": 13,
     "metadata": {},
     "output_type": "execute_result"
    }
   ],
   "source": [
    "# check that it worked\n",
    "compounds_panel_values"
   ]
  },
  {
   "cell_type": "markdown",
   "id": "86891f1c-dbad-47df-906a-74701f84a439",
   "metadata": {},
   "source": [
    "### Visualisations"
   ]
  },
  {
   "cell_type": "code",
   "execution_count": 23,
   "id": "45712d23-9087-48f9-b840-7f4744f81f60",
   "metadata": {},
   "outputs": [
    {
     "data": {
      "application/vnd.plotly.v1+json": {
       "config": {
        "plotlyServerURL": "https://plot.ly"
       },
       "data": [
        {
         "line": {
          "color": "#003865"
         },
         "mode": "lines",
         "name": "Product 3 (q= +3)",
         "type": "scatter",
         "x": [
          0,
          0.1,
          0.2,
          0.30000000000000004,
          0.4,
          0.5,
          0.6000000000000001,
          0.7000000000000001,
          0.8,
          0.9,
          1,
          1.1,
          1.2000000000000002,
          1.3,
          1.4000000000000001,
          1.5,
          1.6,
          1.7000000000000002,
          1.8,
          1.9000000000000001,
          2,
          2.1,
          2.2,
          2.3000000000000003,
          2.4000000000000004,
          2.5,
          2.6,
          2.7,
          2.8000000000000003,
          2.9000000000000004,
          3,
          3.1,
          3.2,
          3.3000000000000003,
          3.4000000000000004,
          3.5,
          3.6,
          3.7,
          3.8000000000000003,
          3.9000000000000004,
          4,
          4.1000000000000005,
          4.2,
          4.3,
          4.4,
          4.5,
          4.6000000000000005,
          4.7,
          4.800000000000001,
          4.9,
          5,
          5.1000000000000005,
          5.2,
          5.300000000000001,
          5.4,
          5.5,
          5.6000000000000005,
          5.7,
          5.800000000000001,
          5.9,
          6,
          6.1000000000000005,
          6.2,
          6.300000000000001,
          6.4,
          6.5,
          6.6000000000000005,
          6.7,
          6.800000000000001,
          6.9,
          7,
          7.1000000000000005,
          7.2,
          7.300000000000001,
          7.4,
          7.5,
          7.6000000000000005,
          7.7,
          7.800000000000001,
          7.9,
          8,
          8.1,
          8.200000000000001,
          8.3,
          8.4,
          8.5,
          8.6,
          8.700000000000001,
          8.8,
          8.9,
          9,
          9.1,
          9.200000000000001,
          9.3,
          9.4,
          9.5,
          9.600000000000001,
          9.700000000000001,
          9.8,
          9.9,
          10,
          10.100000000000001,
          10.200000000000001,
          10.3,
          10.4,
          10.5,
          10.600000000000001,
          10.700000000000001,
          10.8,
          10.9,
          11,
          11.100000000000001,
          11.200000000000001,
          11.3,
          11.4,
          11.5,
          11.600000000000001,
          11.700000000000001,
          11.8,
          11.9,
          12,
          12.100000000000001,
          12.200000000000001,
          12.3,
          12.4,
          12.5,
          12.600000000000001,
          12.700000000000001,
          12.8,
          12.9,
          13,
          13.100000000000001,
          13.200000000000001,
          13.3,
          13.4,
          13.5,
          13.600000000000001,
          13.700000000000001,
          13.8,
          13.9,
          14
         ],
         "y": [
          0.9999000099974517,
          0.9998741233033035,
          0.9998415357917485,
          0.999800513565115,
          0.9997488744269711,
          0.999683872186892,
          0.9996020512311676,
          0.9994990637903208,
          0.9993694404500783,
          0.999206302124262,
          0.9990009988464268,
          0.9987426572437907,
          0.9984176143313833,
          0.9980087102151299,
          0.997494406360368,
          0.9968476892776725,
          0.9960347119455675,
          0.9950131174115661,
          0.9937299815696947,
          0.9921193065307162,
          0.9900989947180014,
          0.9875672408050478,
          0.9843983000581343,
          0.9804376368567248,
          0.975496539456383,
          0.9693464244363943,
          0.9617132690834748,
          0.9522729261701959,
          0.9406485113213614,
          0.926411605178714,
          0.90908962907824,
          0.8881822937754683,
          0.8631902126193726,
          0.8336581839077506,
          0.7992337486861165,
          0.7597379867289599,
          0.7152401932815369,
          0.6661221614240389,
          0.6131136408725563,
          0.5572812826542456,
          0.4999612823600579,
          0.4426402654517424,
          0.38680496236787415,
          0.33379186131615085,
          0.28466803448148964,
          0.240163704901277,
          0.200661119366461,
          0.16622995564079632,
          0.13669157899563142,
          0.1116937158817472,
          0.0907812621650767,
          0.0734548605613039,
          0.059214203874226004,
          0.047586666638756235,
          0.03814376835713063,
          0.030508559583807642,
          0.02435683097533657,
          0.019414504852929466,
          0.015452952304697825,
          0.01228342670030836,
          0.009751368587701238,
          0.007731020577167695,
          0.00612057587739924,
          0.004837946663626175,
          0.0038171560751555133,
          0.003005312346061098,
          0.002360102037904328,
          0.0018477322644291395,
          0.0014412529789842067,
          0.0011191958832068004,
          0.0008644739074621596,
          0.0006634931423540362,
          0.000505436865241139,
          0.00038168860014736446,
          0.00028536784687244545,
          0.00021095808666359085,
          0.0001540116629835382,
          0.00011091976672883747,
          7.873770497270357e-05,
          5.505595897622503e-05,
          3.7906906292498e-05,
          2.569662081726873e-05,
          1.7151899531265402e-05,
          1.1274900185553744e-05,
          7.300924139621703e-06,
          4.6578946876171e-06,
          2.9281141435511924e-06,
          1.8136749553327882e-06,
          1.1067286499077044e-06,
          6.651790440314475e-07,
          3.936901613249647e-07,
          2.2941663264446752e-07,
          1.3162959598579294e-07,
          7.437745091456402e-08,
          4.140968969446254e-08,
          2.2733356861880135e-08,
          1.2318406691600198e-08,
          6.595977654906656e-09,
          3.4945170909562585e-09,
          1.8341837592687928e-09,
          9.54988889679437e-10,
          4.9382491011073e-10,
          2.538867567047742e-10,
          1.2990305929999982e-10,
          6.620269805683136e-11,
          3.362948781921457e-11,
          1.7037858417415103e-11,
          8.613464090915517e-12,
          4.346987431178386e-12,
          2.1907537118579667e-12,
          1.1028409018894624e-12,
          5.546806736142217e-13,
          2.787802828440516e-13,
          1.4003371710397903e-13,
          7.030804061107396e-14,
          3.5287380749730336e-14,
          1.770549428014946e-14,
          8.881709255086076e-15,
          4.454565773129114e-15,
          2.2338336458057086e-15,
          1.120071866809431e-15,
          5.615661084149168e-16,
          2.815295894945284e-16,
          1.411308306697338e-16,
          7.074563316028099e-17,
          3.5461850788997816e-17,
          1.777503489040315e-17,
          8.909420117269646e-18,
          4.465605978907328e-18,
          2.238231462898128e-18,
          1.1218235024620273e-18,
          5.622637107943972e-19,
          2.8180739343432304e-19,
          1.4124145280618873e-19,
          7.07896809764531e-20,
          3.547938918192319e-20,
          1.7782017885896536e-20,
          8.912200362110874e-21,
          4.4667128978949884e-21,
          2.2386721617180826e-21,
          1.1219989561822148e-21
         ]
        },
        {
         "line": {
          "color": "#D0006F"
         },
         "mode": "lines",
         "name": "Product 3 (q= +2)",
         "type": "scatter",
         "x": [
          0,
          0.1,
          0.2,
          0.30000000000000004,
          0.4,
          0.5,
          0.6000000000000001,
          0.7000000000000001,
          0.8,
          0.9,
          1,
          1.1,
          1.2000000000000002,
          1.3,
          1.4000000000000001,
          1.5,
          1.6,
          1.7000000000000002,
          1.8,
          1.9000000000000001,
          2,
          2.1,
          2.2,
          2.3000000000000003,
          2.4000000000000004,
          2.5,
          2.6,
          2.7,
          2.8000000000000003,
          2.9000000000000004,
          3,
          3.1,
          3.2,
          3.3000000000000003,
          3.4000000000000004,
          3.5,
          3.6,
          3.7,
          3.8000000000000003,
          3.9000000000000004,
          4,
          4.1000000000000005,
          4.2,
          4.3,
          4.4,
          4.5,
          4.6000000000000005,
          4.7,
          4.800000000000001,
          4.9,
          5,
          5.1000000000000005,
          5.2,
          5.300000000000001,
          5.4,
          5.5,
          5.6000000000000005,
          5.7,
          5.800000000000001,
          5.9,
          6,
          6.1000000000000005,
          6.2,
          6.300000000000001,
          6.4,
          6.5,
          6.6000000000000005,
          6.7,
          6.800000000000001,
          6.9,
          7,
          7.1000000000000005,
          7.2,
          7.300000000000001,
          7.4,
          7.5,
          7.6000000000000005,
          7.7,
          7.800000000000001,
          7.9,
          8,
          8.1,
          8.200000000000001,
          8.3,
          8.4,
          8.5,
          8.6,
          8.700000000000001,
          8.8,
          8.9,
          9,
          9.1,
          9.200000000000001,
          9.3,
          9.4,
          9.5,
          9.600000000000001,
          9.700000000000001,
          9.8,
          9.9,
          10,
          10.100000000000001,
          10.200000000000001,
          10.3,
          10.4,
          10.5,
          10.600000000000001,
          10.700000000000001,
          10.8,
          10.9,
          11,
          11.100000000000001,
          11.200000000000001,
          11.3,
          11.4,
          11.5,
          11.600000000000001,
          11.700000000000001,
          11.8,
          11.9,
          12,
          12.100000000000001,
          12.200000000000001,
          12.3,
          12.4,
          12.5,
          12.600000000000001,
          12.700000000000001,
          12.8,
          12.9,
          13,
          13.100000000000001,
          13.200000000000001,
          13.3,
          13.4,
          13.5,
          13.600000000000001,
          13.700000000000001,
          13.8,
          13.9,
          14
         ],
         "y": [
          9.999000099974516e-05,
          0.00012587669424219433,
          0.00015846420436162073,
          0.00019948642872030063,
          0.00025112556325900844,
          0.00031612779762472303,
          0.00039794874429511227,
          0.0005009361707941196,
          0.000630559488301038,
          0.0007936977780917422,
          0.0009990009988464267,
          0.0012573425110470402,
          0.0015823852801870753,
          0.0019912891695029467,
          0.002505592664843313,
          0.0031523091783932544,
          0.003965285609457176,
          0.004986878717383512,
          0.00627001230301566,
          0.007880683773924224,
          0.009900989947180014,
          0.012432734953049245,
          0.015601661644324302,
          0.01956230268997368,
          0.024503365214450405,
          0.030653425429593054,
          0.03828649484385764,
          0.047726703352538834,
          0.05935090867925735,
          0.07358748949696967,
          0.090908962907824,
          0.11181552599395697,
          0.13680642917795055,
          0.16633667579165315,
          0.20075844089291955,
          0.24025024630142905,
          0.28474224961344924,
          0.3338519233419335,
          0.3868485547095312,
          0.4426642574956307,
          0.4999612823600579,
          0.557251078460515,
          0.6130445516670212,
          0.6660023219274341,
          0.7150537732985558,
          0.7594643187925794,
          0.7988463047107945,
          0.8331233161359494,
          0.8624655569588833,
          0.8872147216614378,
          0.907812621650767,
          0.9247419058042277,
          0.9384818861726534,
          0.9494788263929728,
          0.9581281418292099,
          0.9647653641579081,
          0.9696629063241033,
          0.9730301979482977,
          0.9750153750551237,
          0.9757072647221056,
          0.975136858770124,
          0.9732778263700033,
          0.9700459042031766,
          0.9652972659762745,
          0.9588262552137504,
          0.9503632093777233,
          0.9395735445276359,
          0.9260598220930965,
          0.9093691523440444,
          0.8890088902183417,
          0.8644739074621597,
          0.8352883774606622,
          0.8010634469395669,
          0.7615688799272627,
          0.7168116225479999,
          0.6671080446881383,
          0.6131314738261525,
          0.5559157104140844,
          0.4968013324004204,
          0.4373250270463733,
          0.37906906292498,
          0.3235012894409858,
          0.27183928804879565,
          0.22496383445271048,
          0.18339092283796526,
          0.14729556314068526,
          0.11657032367468413,
          0.09089907335623092,
          0.06982985700059158,
          0.05283704958210851,
          0.03936901613249647,
          0.02888184287243672,
          0.020861885060429047,
          0.014840252489327747,
          0.010401643767654263,
          0.007188918654495908,
          0.004904046033720239,
          0.0033058197939299784,
          0.0022048912239504143,
          0.0014569439476599278,
          0.0009549888896794369,
          0.0006216887283153705,
          0.0004023833923574287,
          0.0002591906788204577,
          0.0001662936589782805,
          0.00010634577805360688,
          6.782893606848236e-05,
          4.316958239673806e-05,
          2.7427636460650957e-05,
          1.7401775286558075e-05,
          1.1028409018894626e-05,
          6.983015954440524e-06,
          4.418369724719223e-06,
          2.7940399856258285e-06,
          1.7660581323698136e-06,
          1.1158849583072797e-06,
          7.048684231121454e-07,
          4.451399291438342e-07,
          2.8106409910259093e-07,
          1.774397136540556e-07,
          1.1200718668094308e-07,
          7.069698442858993e-08,
          4.46194329866251e-08,
          2.8159302791557452e-08,
          1.777049960238642e-08,
          1.1214021853827222e-08,
          7.076368846708115e-09,
          4.465287621797553e-09,
          2.8176068899462467e-09,
          1.7778904468282176e-09,
          1.1218235024620274e-09,
          7.078480736487554e-10,
          4.4663461943927044e-10,
          2.8181374809564436e-10,
          1.7781563913564452e-10,
          1.1219567980641536e-10,
          7.079148827285976e-11,
          4.466681045018335e-11,
          2.8183053086112553e-11,
          1.7782405063439174e-11,
          1.1219989561822148e-11
         ]
        },
        {
         "line": {
          "color": "#C4D600"
         },
         "mode": "lines",
         "name": "Product 3 (q= +1)",
         "type": "scatter",
         "x": [
          0,
          0.1,
          0.2,
          0.30000000000000004,
          0.4,
          0.5,
          0.6000000000000001,
          0.7000000000000001,
          0.8,
          0.9,
          1,
          1.1,
          1.2000000000000002,
          1.3,
          1.4000000000000001,
          1.5,
          1.6,
          1.7000000000000002,
          1.8,
          1.9000000000000001,
          2,
          2.1,
          2.2,
          2.3000000000000003,
          2.4000000000000004,
          2.5,
          2.6,
          2.7,
          2.8000000000000003,
          2.9000000000000004,
          3,
          3.1,
          3.2,
          3.3000000000000003,
          3.4000000000000004,
          3.5,
          3.6,
          3.7,
          3.8000000000000003,
          3.9000000000000004,
          4,
          4.1000000000000005,
          4.2,
          4.3,
          4.4,
          4.5,
          4.6000000000000005,
          4.7,
          4.800000000000001,
          4.9,
          5,
          5.1000000000000005,
          5.2,
          5.300000000000001,
          5.4,
          5.5,
          5.6000000000000005,
          5.7,
          5.800000000000001,
          5.9,
          6,
          6.1000000000000005,
          6.2,
          6.300000000000001,
          6.4,
          6.5,
          6.6000000000000005,
          6.7,
          6.800000000000001,
          6.9,
          7,
          7.1000000000000005,
          7.2,
          7.300000000000001,
          7.4,
          7.5,
          7.6000000000000005,
          7.7,
          7.800000000000001,
          7.9,
          8,
          8.1,
          8.200000000000001,
          8.3,
          8.4,
          8.5,
          8.6,
          8.700000000000001,
          8.8,
          8.9,
          9,
          9.1,
          9.200000000000001,
          9.3,
          9.4,
          9.5,
          9.600000000000001,
          9.700000000000001,
          9.8,
          9.9,
          10,
          10.100000000000001,
          10.200000000000001,
          10.3,
          10.4,
          10.5,
          10.600000000000001,
          10.700000000000001,
          10.8,
          10.9,
          11,
          11.100000000000001,
          11.200000000000001,
          11.3,
          11.4,
          11.5,
          11.600000000000001,
          11.700000000000001,
          11.8,
          11.9,
          12,
          12.100000000000001,
          12.200000000000001,
          12.3,
          12.4,
          12.5,
          12.600000000000001,
          12.700000000000001,
          12.8,
          12.9,
          13,
          13.100000000000001,
          13.200000000000001,
          13.3,
          13.4,
          13.5,
          13.600000000000001,
          13.700000000000001,
          13.8,
          13.9,
          14
         ],
         "y": [
          1.5486617527348108e-12,
          2.4543999250353746e-12,
          3.889834952634053e-12,
          6.164719995227936e-12,
          9.769918116987141e-12,
          1.5483269949018408e-11,
          2.453732067294195e-11,
          3.888502581939537e-11,
          6.162062019946249e-11,
          9.764615898494466e-11,
          1.5472693493235155e-10,
          2.451622505211295e-10,
          3.884295255323973e-10,
          6.153671825328742e-10,
          9.747886615905737e-10,
          1.5439342676777662e-09,
          2.444975287744559e-09,
          3.871050225345945e-09,
          6.127289398357771e-09,
          9.695359139706847e-09,
          1.533481777387783e-08,
          2.4241901108426187e-08,
          3.8297537937824084e-08,
          6.045329465227408e-08,
          9.532915272703685e-08,
          1.5013398516504806e-07,
          2.360726135951806e-07,
          3.704771586360123e-07,
          5.799991705891964e-07,
          9.053239025060605e-07,
          1.4080131255973628e-06,
          2.180228995284226e-06,
          3.358199614261483e-06,
          5.140294694584404e-06,
          7.810409674601171e-06,
          1.1766948198649244e-05,
          1.755706479304475e-05,
          2.5915159287511924e-05,
          3.780428065351147e-05,
          5.4459601195172606e-05,
          7.74348342932054e-05,
          0.0001086553006045584,
          0.00015048459266891714,
          0.00020581439334957963,
          0.0002781881989116445,
          0.0003719695374106911,
          0.0004925646387401915,
          0.0006467095719466655,
          0.0008428334440526067,
          0.001091512565065068,
          0.0014060352752712176,
          0.0018031030112023402,
          0.002303699853196919,
          0.0029341700804705753,
          0.0037275510186104625,
          0.004725216410248297,
          0.005978893015299219,
          0.007553118855500123,
          0.00952821315508059,
          0.012003821772423777,
          0.015103081725772825,
          0.018977405138118037,
          0.02381180329671288,
          0.029830537320643457,
          0.03730266994839573,
          0.04654677706602292,
          0.05793363514370183,
          0.07188512667254464,
          0.08886693832596375,
          0.10937198746102005,
          0.13389115544936048,
          0.16286825320323356,
          0.19663775852319396,
          0.23534728311837172,
          0.2788720816277726,
          0.32673539051854933,
          0.3780538022451706,
          0.43152796729752435,
          0.48549275344213194,
          0.5380273234698342,
          0.5871084643737906,
          0.6307772422312704,
          0.667286324006852,
          0.6952047100899564,
          0.7134734816613125,
          0.721422470132553,
          0.7187667894318546,
          0.7056014359699443,
          0.6824033539499994,
          0.6500377204273361,
          0.6097538645624416,
          0.5631510535588113,
          0.5120985525583169,
          0.458607644851181,
          0.40467090077659146,
          0.35209800911348077,
          0.30238102732905375,
          0.256613308313221,
          0.21547017722031647,
          0.17924326396301213,
          0.14791026632122914,
          0.12121964096361766,
          0.09877341007433711,
          0.08009757709089595,
          0.06469574066883468,
          0.052085909619914425,
          0.04182298296140841,
          0.03351026386153276,
          0.02680330723219288,
          0.021408860691747116,
          0.017080983168628303,
          0.013615795948790185,
          0.010845811556061126,
          0.008634409005839859,
          0.006870763421761438,
          0.005465368174307476,
          0.004346183466609352,
          0.0034553858649420265,
          0.0027466629911746514,
          0.0021829853841047633,
          0.0017347859216907755,
          0.0013784813330726528,
          0.0010952771996507972,
          0.0008702056479951741,
          0.0006913526594431241,
          0.0005492390383939456,
          0.0004363253662208543,
          0.000346616664133815,
          0.00027534703268770216,
          0.00021872830946584304,
          0.00017374988840997968,
          0.00013801937438531666,
          0.00010963579823911716,
          8.708877385595075e-05,
          6.917831110977762e-05,
          5.495106759382638e-05,
          4.3649677843381226e-05,
          3.467248282095526e-05,
          2.7541528475922782e-05,
          2.187713761948522e-05,
          1.737770629737473e-05
         ]
        },
        {
         "line": {
          "color": "#68D2DF"
         },
         "mode": "lines",
         "name": "Product 3 (neutral form)",
         "type": "scatter",
         "x": [
          0,
          0.1,
          0.2,
          0.30000000000000004,
          0.4,
          0.5,
          0.6000000000000001,
          0.7000000000000001,
          0.8,
          0.9,
          1,
          1.1,
          1.2000000000000002,
          1.3,
          1.4000000000000001,
          1.5,
          1.6,
          1.7000000000000002,
          1.8,
          1.9000000000000001,
          2,
          2.1,
          2.2,
          2.3000000000000003,
          2.4000000000000004,
          2.5,
          2.6,
          2.7,
          2.8000000000000003,
          2.9000000000000004,
          3,
          3.1,
          3.2,
          3.3000000000000003,
          3.4000000000000004,
          3.5,
          3.6,
          3.7,
          3.8000000000000003,
          3.9000000000000004,
          4,
          4.1000000000000005,
          4.2,
          4.3,
          4.4,
          4.5,
          4.6000000000000005,
          4.7,
          4.800000000000001,
          4.9,
          5,
          5.1000000000000005,
          5.2,
          5.300000000000001,
          5.4,
          5.5,
          5.6000000000000005,
          5.7,
          5.800000000000001,
          5.9,
          6,
          6.1000000000000005,
          6.2,
          6.300000000000001,
          6.4,
          6.5,
          6.6000000000000005,
          6.7,
          6.800000000000001,
          6.9,
          7,
          7.1000000000000005,
          7.2,
          7.300000000000001,
          7.4,
          7.5,
          7.6000000000000005,
          7.7,
          7.800000000000001,
          7.9,
          8,
          8.1,
          8.200000000000001,
          8.3,
          8.4,
          8.5,
          8.6,
          8.700000000000001,
          8.8,
          8.9,
          9,
          9.1,
          9.200000000000001,
          9.3,
          9.4,
          9.5,
          9.600000000000001,
          9.700000000000001,
          9.8,
          9.9,
          10,
          10.100000000000001,
          10.200000000000001,
          10.3,
          10.4,
          10.5,
          10.600000000000001,
          10.700000000000001,
          10.8,
          10.9,
          11,
          11.100000000000001,
          11.200000000000001,
          11.3,
          11.4,
          11.5,
          11.600000000000001,
          11.700000000000001,
          11.8,
          11.9,
          12,
          12.100000000000001,
          12.200000000000001,
          12.3,
          12.4,
          12.5,
          12.600000000000001,
          12.700000000000001,
          12.8,
          12.9,
          13,
          13.100000000000001,
          13.200000000000001,
          13.3,
          13.4,
          13.5,
          13.600000000000001,
          13.700000000000001,
          13.8,
          13.9,
          14
         ],
         "y": [
          8.911618219501707e-22,
          1.7780555661009848e-21,
          3.547571640107738e-21,
          7.078045588035196e-21,
          1.4121828203224375e-20,
          2.8174919620318934e-20,
          5.621175421523267e-20,
          1.1214563946302765e-19,
          2.237309491574805e-19,
          4.463290603327461e-19,
          8.903605774184269e-19,
          1.776043503304196e-18,
          3.542519376114195e-18,
          7.065360591754527e-18,
          1.4089982995352083e-17,
          2.8094985125306056e-17,
          5.601114798510588e-17,
          1.1164230800083054e-16,
          2.2246843157692036e-16,
          4.431634156834635e-16,
          8.824266578876975e-16,
          1.756170490352569e-15,
          3.4927769719939734e-15,
          6.940966918642664e-15,
          1.3779254866317172e-14,
          2.731989417113764e-14,
          5.408111141895447e-14,
          1.0684677966950925e-13,
          2.1058497062579765e-13,
          4.1381286361156895e-13,
          8.102269847636405e-13,
          1.5794362853820588e-12,
          3.062714448927308e-12,
          5.901847969148297e-12,
          1.1289476769487298e-11,
          2.1412325740301217e-11,
          4.0220911811934136e-11,
          7.474013579372843e-11,
          1.3725904681659925e-10,
          2.4892840517449547e-10,
          4.455909619339522e-10,
          7.871380701069998e-10,
          1.3724357967011131e-09,
          2.363065410805036e-09,
          4.021042864590701e-09,
          6.768732866029925e-09,
          1.1284003977871496e-08,
          1.865130778867706e-08,
          3.0601432736180583e-08,
          4.989175023074808e-08,
          8.090888506959013e-08,
          1.306232661034474e-07,
          2.1009992367382082e-07,
          3.3688780039800946e-07,
          5.387950489784058e-07,
          8.598480358846808e-07,
          1.3696852608108167e-06,
          2.178343272612193e-06,
          3.459485097781555e-06,
          5.4868051624168076e-06,
          8.690916401876673e-06,
          1.37479147109646e-05,
          2.1716622711212934e-05,
          3.425003945589475e-05,
          5.391876269842014e-05,
          8.470121019256938e-05,
          0.0001327182907579569,
          0.0002073189699298654,
          0.00032265635100765523,
          0.0004999264374313849,
          0.000770463181017795,
          0.0011798761937502117,
          0.0017933576719980286,
          0.0027021483542181103,
          0.004030927977354875,
          0.005945606706648723,
          0.008660712265693267,
          0.012445402521662484,
          0.017627176452474993,
          0.024592593524816336,
          0.033784565794936834,
          0.04569577170692644,
          0.060857236044820996,
          0.0798201805571475,
          0.10312829457658267,
          0.13127730883207414,
          0.16465995877931788,
          0.20349767699886945,
          0.24776568232075907,
          0.2971245648115114,
          0.3508767256149005,
          0.4079668741521192,
          0.46703943075165805,
          0.5265520282820404,
          0.5849274140460645,
          0.6407130494986665,
          0.6927149143188194,
          0.7400808652968713,
          0.782324928061216,
          0.8192997902551442,
          0.8511347438341026,
          0.8781586698142421,
          0.9008242062794186,
          0.9196432321003806,
          0.9351379656059843,
          0.9478077445684024,
          0.9581091880854852,
          0.9664465665474571,
          0.9731692651269994,
          0.9785737375307755,
          0.9829079884212499,
          0.9863772210347006,
          0.9891497700739353,
          0.9913627969540345,
          0.9931274705200359,
          0.9945335159406988,
          0.9956531116649497,
          0.99654416899512,
          0.9972530559447218,
          0.9978168371761793,
          0.9982651020711214,
          0.9986214479699423,
          0.998904678180916,
          0.999129766192702,
          0.9993086295700572,
          0.9994507497475842,
          0.9995636675574102,
          0.9996533788705786,
          0.9997246501497055,
          0.9997812699126437,
          0.9998262489897666,
          0.9998619799177666,
          0.9998903637551263,
          0.9999129109443302,
          0.9999308215110746,
          0.9999450488202105,
          0.9999563502513651,
          0.9999653274725122,
          0.999972458443341,
          0.9999781228445981,
          0.9999826222824827
         ]
        }
       ],
       "layout": {
        "height": 360,
        "legend": {
         "traceorder": "normal",
         "x": 0.7,
         "y": -0.35
        },
        "template": {
         "data": {
          "bar": [
           {
            "error_x": {
             "color": "#2a3f5f"
            },
            "error_y": {
             "color": "#2a3f5f"
            },
            "marker": {
             "line": {
              "color": "#E5ECF6",
              "width": 0.5
             },
             "pattern": {
              "fillmode": "overlay",
              "size": 10,
              "solidity": 0.2
             }
            },
            "type": "bar"
           }
          ],
          "barpolar": [
           {
            "marker": {
             "line": {
              "color": "#E5ECF6",
              "width": 0.5
             },
             "pattern": {
              "fillmode": "overlay",
              "size": 10,
              "solidity": 0.2
             }
            },
            "type": "barpolar"
           }
          ],
          "carpet": [
           {
            "aaxis": {
             "endlinecolor": "#2a3f5f",
             "gridcolor": "white",
             "linecolor": "white",
             "minorgridcolor": "white",
             "startlinecolor": "#2a3f5f"
            },
            "baxis": {
             "endlinecolor": "#2a3f5f",
             "gridcolor": "white",
             "linecolor": "white",
             "minorgridcolor": "white",
             "startlinecolor": "#2a3f5f"
            },
            "type": "carpet"
           }
          ],
          "choropleth": [
           {
            "colorbar": {
             "outlinewidth": 0,
             "ticks": ""
            },
            "type": "choropleth"
           }
          ],
          "contour": [
           {
            "colorbar": {
             "outlinewidth": 0,
             "ticks": ""
            },
            "colorscale": [
             [
              0,
              "#0d0887"
             ],
             [
              0.1111111111111111,
              "#46039f"
             ],
             [
              0.2222222222222222,
              "#7201a8"
             ],
             [
              0.3333333333333333,
              "#9c179e"
             ],
             [
              0.4444444444444444,
              "#bd3786"
             ],
             [
              0.5555555555555556,
              "#d8576b"
             ],
             [
              0.6666666666666666,
              "#ed7953"
             ],
             [
              0.7777777777777778,
              "#fb9f3a"
             ],
             [
              0.8888888888888888,
              "#fdca26"
             ],
             [
              1,
              "#f0f921"
             ]
            ],
            "type": "contour"
           }
          ],
          "contourcarpet": [
           {
            "colorbar": {
             "outlinewidth": 0,
             "ticks": ""
            },
            "type": "contourcarpet"
           }
          ],
          "heatmap": [
           {
            "colorbar": {
             "outlinewidth": 0,
             "ticks": ""
            },
            "colorscale": [
             [
              0,
              "#0d0887"
             ],
             [
              0.1111111111111111,
              "#46039f"
             ],
             [
              0.2222222222222222,
              "#7201a8"
             ],
             [
              0.3333333333333333,
              "#9c179e"
             ],
             [
              0.4444444444444444,
              "#bd3786"
             ],
             [
              0.5555555555555556,
              "#d8576b"
             ],
             [
              0.6666666666666666,
              "#ed7953"
             ],
             [
              0.7777777777777778,
              "#fb9f3a"
             ],
             [
              0.8888888888888888,
              "#fdca26"
             ],
             [
              1,
              "#f0f921"
             ]
            ],
            "type": "heatmap"
           }
          ],
          "heatmapgl": [
           {
            "colorbar": {
             "outlinewidth": 0,
             "ticks": ""
            },
            "colorscale": [
             [
              0,
              "#0d0887"
             ],
             [
              0.1111111111111111,
              "#46039f"
             ],
             [
              0.2222222222222222,
              "#7201a8"
             ],
             [
              0.3333333333333333,
              "#9c179e"
             ],
             [
              0.4444444444444444,
              "#bd3786"
             ],
             [
              0.5555555555555556,
              "#d8576b"
             ],
             [
              0.6666666666666666,
              "#ed7953"
             ],
             [
              0.7777777777777778,
              "#fb9f3a"
             ],
             [
              0.8888888888888888,
              "#fdca26"
             ],
             [
              1,
              "#f0f921"
             ]
            ],
            "type": "heatmapgl"
           }
          ],
          "histogram": [
           {
            "marker": {
             "pattern": {
              "fillmode": "overlay",
              "size": 10,
              "solidity": 0.2
             }
            },
            "type": "histogram"
           }
          ],
          "histogram2d": [
           {
            "colorbar": {
             "outlinewidth": 0,
             "ticks": ""
            },
            "colorscale": [
             [
              0,
              "#0d0887"
             ],
             [
              0.1111111111111111,
              "#46039f"
             ],
             [
              0.2222222222222222,
              "#7201a8"
             ],
             [
              0.3333333333333333,
              "#9c179e"
             ],
             [
              0.4444444444444444,
              "#bd3786"
             ],
             [
              0.5555555555555556,
              "#d8576b"
             ],
             [
              0.6666666666666666,
              "#ed7953"
             ],
             [
              0.7777777777777778,
              "#fb9f3a"
             ],
             [
              0.8888888888888888,
              "#fdca26"
             ],
             [
              1,
              "#f0f921"
             ]
            ],
            "type": "histogram2d"
           }
          ],
          "histogram2dcontour": [
           {
            "colorbar": {
             "outlinewidth": 0,
             "ticks": ""
            },
            "colorscale": [
             [
              0,
              "#0d0887"
             ],
             [
              0.1111111111111111,
              "#46039f"
             ],
             [
              0.2222222222222222,
              "#7201a8"
             ],
             [
              0.3333333333333333,
              "#9c179e"
             ],
             [
              0.4444444444444444,
              "#bd3786"
             ],
             [
              0.5555555555555556,
              "#d8576b"
             ],
             [
              0.6666666666666666,
              "#ed7953"
             ],
             [
              0.7777777777777778,
              "#fb9f3a"
             ],
             [
              0.8888888888888888,
              "#fdca26"
             ],
             [
              1,
              "#f0f921"
             ]
            ],
            "type": "histogram2dcontour"
           }
          ],
          "mesh3d": [
           {
            "colorbar": {
             "outlinewidth": 0,
             "ticks": ""
            },
            "type": "mesh3d"
           }
          ],
          "parcoords": [
           {
            "line": {
             "colorbar": {
              "outlinewidth": 0,
              "ticks": ""
             }
            },
            "type": "parcoords"
           }
          ],
          "pie": [
           {
            "automargin": true,
            "type": "pie"
           }
          ],
          "scatter": [
           {
            "fillpattern": {
             "fillmode": "overlay",
             "size": 10,
             "solidity": 0.2
            },
            "type": "scatter"
           }
          ],
          "scatter3d": [
           {
            "line": {
             "colorbar": {
              "outlinewidth": 0,
              "ticks": ""
             }
            },
            "marker": {
             "colorbar": {
              "outlinewidth": 0,
              "ticks": ""
             }
            },
            "type": "scatter3d"
           }
          ],
          "scattercarpet": [
           {
            "marker": {
             "colorbar": {
              "outlinewidth": 0,
              "ticks": ""
             }
            },
            "type": "scattercarpet"
           }
          ],
          "scattergeo": [
           {
            "marker": {
             "colorbar": {
              "outlinewidth": 0,
              "ticks": ""
             }
            },
            "type": "scattergeo"
           }
          ],
          "scattergl": [
           {
            "marker": {
             "colorbar": {
              "outlinewidth": 0,
              "ticks": ""
             }
            },
            "type": "scattergl"
           }
          ],
          "scattermapbox": [
           {
            "marker": {
             "colorbar": {
              "outlinewidth": 0,
              "ticks": ""
             }
            },
            "type": "scattermapbox"
           }
          ],
          "scatterpolar": [
           {
            "marker": {
             "colorbar": {
              "outlinewidth": 0,
              "ticks": ""
             }
            },
            "type": "scatterpolar"
           }
          ],
          "scatterpolargl": [
           {
            "marker": {
             "colorbar": {
              "outlinewidth": 0,
              "ticks": ""
             }
            },
            "type": "scatterpolargl"
           }
          ],
          "scatterternary": [
           {
            "marker": {
             "colorbar": {
              "outlinewidth": 0,
              "ticks": ""
             }
            },
            "type": "scatterternary"
           }
          ],
          "surface": [
           {
            "colorbar": {
             "outlinewidth": 0,
             "ticks": ""
            },
            "colorscale": [
             [
              0,
              "#0d0887"
             ],
             [
              0.1111111111111111,
              "#46039f"
             ],
             [
              0.2222222222222222,
              "#7201a8"
             ],
             [
              0.3333333333333333,
              "#9c179e"
             ],
             [
              0.4444444444444444,
              "#bd3786"
             ],
             [
              0.5555555555555556,
              "#d8576b"
             ],
             [
              0.6666666666666666,
              "#ed7953"
             ],
             [
              0.7777777777777778,
              "#fb9f3a"
             ],
             [
              0.8888888888888888,
              "#fdca26"
             ],
             [
              1,
              "#f0f921"
             ]
            ],
            "type": "surface"
           }
          ],
          "table": [
           {
            "cells": {
             "fill": {
              "color": "#EBF0F8"
             },
             "line": {
              "color": "white"
             }
            },
            "header": {
             "fill": {
              "color": "#C8D4E3"
             },
             "line": {
              "color": "white"
             }
            },
            "type": "table"
           }
          ]
         },
         "layout": {
          "annotationdefaults": {
           "arrowcolor": "#2a3f5f",
           "arrowhead": 0,
           "arrowwidth": 1
          },
          "autotypenumbers": "strict",
          "coloraxis": {
           "colorbar": {
            "outlinewidth": 0,
            "ticks": ""
           }
          },
          "colorscale": {
           "diverging": [
            [
             0,
             "#8e0152"
            ],
            [
             0.1,
             "#c51b7d"
            ],
            [
             0.2,
             "#de77ae"
            ],
            [
             0.3,
             "#f1b6da"
            ],
            [
             0.4,
             "#fde0ef"
            ],
            [
             0.5,
             "#f7f7f7"
            ],
            [
             0.6,
             "#e6f5d0"
            ],
            [
             0.7,
             "#b8e186"
            ],
            [
             0.8,
             "#7fbc41"
            ],
            [
             0.9,
             "#4d9221"
            ],
            [
             1,
             "#276419"
            ]
           ],
           "sequential": [
            [
             0,
             "#0d0887"
            ],
            [
             0.1111111111111111,
             "#46039f"
            ],
            [
             0.2222222222222222,
             "#7201a8"
            ],
            [
             0.3333333333333333,
             "#9c179e"
            ],
            [
             0.4444444444444444,
             "#bd3786"
            ],
            [
             0.5555555555555556,
             "#d8576b"
            ],
            [
             0.6666666666666666,
             "#ed7953"
            ],
            [
             0.7777777777777778,
             "#fb9f3a"
            ],
            [
             0.8888888888888888,
             "#fdca26"
            ],
            [
             1,
             "#f0f921"
            ]
           ],
           "sequentialminus": [
            [
             0,
             "#0d0887"
            ],
            [
             0.1111111111111111,
             "#46039f"
            ],
            [
             0.2222222222222222,
             "#7201a8"
            ],
            [
             0.3333333333333333,
             "#9c179e"
            ],
            [
             0.4444444444444444,
             "#bd3786"
            ],
            [
             0.5555555555555556,
             "#d8576b"
            ],
            [
             0.6666666666666666,
             "#ed7953"
            ],
            [
             0.7777777777777778,
             "#fb9f3a"
            ],
            [
             0.8888888888888888,
             "#fdca26"
            ],
            [
             1,
             "#f0f921"
            ]
           ]
          },
          "colorway": [
           "#636efa",
           "#EF553B",
           "#00cc96",
           "#ab63fa",
           "#FFA15A",
           "#19d3f3",
           "#FF6692",
           "#B6E880",
           "#FF97FF",
           "#FECB52"
          ],
          "font": {
           "color": "#2a3f5f"
          },
          "geo": {
           "bgcolor": "white",
           "lakecolor": "white",
           "landcolor": "#E5ECF6",
           "showlakes": true,
           "showland": true,
           "subunitcolor": "white"
          },
          "hoverlabel": {
           "align": "left"
          },
          "hovermode": "closest",
          "mapbox": {
           "style": "light"
          },
          "paper_bgcolor": "white",
          "plot_bgcolor": "#E5ECF6",
          "polar": {
           "angularaxis": {
            "gridcolor": "white",
            "linecolor": "white",
            "ticks": ""
           },
           "bgcolor": "#E5ECF6",
           "radialaxis": {
            "gridcolor": "white",
            "linecolor": "white",
            "ticks": ""
           }
          },
          "scene": {
           "xaxis": {
            "backgroundcolor": "#E5ECF6",
            "gridcolor": "white",
            "gridwidth": 2,
            "linecolor": "white",
            "showbackground": true,
            "ticks": "",
            "zerolinecolor": "white"
           },
           "yaxis": {
            "backgroundcolor": "#E5ECF6",
            "gridcolor": "white",
            "gridwidth": 2,
            "linecolor": "white",
            "showbackground": true,
            "ticks": "",
            "zerolinecolor": "white"
           },
           "zaxis": {
            "backgroundcolor": "#E5ECF6",
            "gridcolor": "white",
            "gridwidth": 2,
            "linecolor": "white",
            "showbackground": true,
            "ticks": "",
            "zerolinecolor": "white"
           }
          },
          "shapedefaults": {
           "line": {
            "color": "#2a3f5f"
           }
          },
          "ternary": {
           "aaxis": {
            "gridcolor": "white",
            "linecolor": "white",
            "ticks": ""
           },
           "baxis": {
            "gridcolor": "white",
            "linecolor": "white",
            "ticks": ""
           },
           "bgcolor": "#E5ECF6",
           "caxis": {
            "gridcolor": "white",
            "linecolor": "white",
            "ticks": ""
           }
          },
          "title": {
           "x": 0.05
          },
          "xaxis": {
           "automargin": true,
           "gridcolor": "white",
           "linecolor": "white",
           "ticks": "",
           "title": {
            "standoff": 15
           },
           "zerolinecolor": "white",
           "zerolinewidth": 2
          },
          "yaxis": {
           "automargin": true,
           "gridcolor": "white",
           "linecolor": "white",
           "ticks": "",
           "title": {
            "standoff": 15
           },
           "zerolinecolor": "white",
           "zerolinewidth": 2
          }
         }
        },
        "title": {
         "text": "Speciation Curve for Product 3",
         "xanchor": "left",
         "yanchor": "top"
        },
        "width": 600,
        "xaxis": {
         "autorange": true,
         "range": [
          0,
          14
         ],
         "tickmode": "array",
         "ticktext": [
          "0",
          "2",
          "4",
          "6",
          "8",
          "10",
          "12",
          "14"
         ],
         "tickvals": [
          0,
          2,
          4,
          6,
          8,
          10,
          12,
          14
         ],
         "title": {
          "text": "pH"
         },
         "type": "linear"
        },
        "yaxis": {
         "autorange": true,
         "range": [
          -0.055554590126804596,
          1.0555372124092872
         ],
         "title": {
          "text": "Species Mole Fraction"
         },
         "type": "linear"
        }
       }
      },
      "image/png": "[encoded data removed]",
      "text/html": [
       "<div>                            <div id=\"059476d3-d55f-4aa1-aa8b-a724b028ad66\" class=\"plotly-graph-div\" style=\"height:525px; width:600px;\"></div>            <script type=\"text/javascript\">                require([\"plotly\"], function(Plotly) {                    window.PLOTLYENV=window.PLOTLYENV || {};                                    if (document.getElementById(\"059476d3-d55f-4aa1-aa8b-a724b028ad66\")) {                    Plotly.newPlot(                        \"059476d3-d55f-4aa1-aa8b-a724b028ad66\",                        [{\"line\":{\"color\":\"#003865\"},\"mode\":\"lines\",\"name\":\"Product 3 (q= +3)\",\"x\":[0.0,0.1,0.2,0.30000000000000004,0.4,0.5,0.6000000000000001,0.7000000000000001,0.8,0.9,1.0,1.1,1.2000000000000002,1.3,1.4000000000000001,1.5,1.6,1.7000000000000002,1.8,1.9000000000000001,2.0,2.1,2.2,2.3000000000000003,2.4000000000000004,2.5,2.6,2.7,2.8000000000000003,2.9000000000000004,3.0,3.1,3.2,3.3000000000000003,3.4000000000000004,3.5,3.6,3.7,3.8000000000000003,3.9000000000000004,4.0,4.1000000000000005,4.2,4.3,4.4,4.5,4.6000000000000005,4.7,4.800000000000001,4.9,5.0,5.1000000000000005,5.2,5.300000000000001,5.4,5.5,5.6000000000000005,5.7,5.800000000000001,5.9,6.0,6.1000000000000005,6.2,6.300000000000001,6.4,6.5,6.6000000000000005,6.7,6.800000000000001,6.9,7.0,7.1000000000000005,7.2,7.300000000000001,7.4,7.5,7.6000000000000005,7.7,7.800000000000001,7.9,8.0,8.1,8.200000000000001,8.3,8.4,8.5,8.6,8.700000000000001,8.8,8.9,9.0,9.1,9.200000000000001,9.3,9.4,9.5,9.600000000000001,9.700000000000001,9.8,9.9,10.0,10.100000000000001,10.200000000000001,10.3,10.4,10.5,10.600000000000001,10.700000000000001,10.8,10.9,11.0,11.100000000000001,11.200000000000001,11.3,11.4,11.5,11.600000000000001,11.700000000000001,11.8,11.9,12.0,12.100000000000001,12.200000000000001,12.3,12.4,12.5,12.600000000000001,12.700000000000001,12.8,12.9,13.0,13.100000000000001,13.200000000000001,13.3,13.4,13.5,13.600000000000001,13.700000000000001,13.8,13.9,14.0],\"y\":[0.9999000099974517,0.9998741233033035,0.9998415357917485,0.999800513565115,0.9997488744269711,0.999683872186892,0.9996020512311676,0.9994990637903208,0.9993694404500783,0.999206302124262,0.9990009988464268,0.9987426572437907,0.9984176143313833,0.9980087102151299,0.997494406360368,0.9968476892776725,0.9960347119455675,0.9950131174115661,0.9937299815696947,0.9921193065307162,0.9900989947180014,0.9875672408050478,0.9843983000581343,0.9804376368567248,0.975496539456383,0.9693464244363943,0.9617132690834748,0.9522729261701959,0.9406485113213614,0.926411605178714,0.90908962907824,0.8881822937754683,0.8631902126193726,0.8336581839077506,0.7992337486861165,0.7597379867289599,0.7152401932815369,0.6661221614240389,0.6131136408725563,0.5572812826542456,0.4999612823600579,0.4426402654517424,0.38680496236787415,0.33379186131615085,0.28466803448148964,0.240163704901277,0.200661119366461,0.16622995564079632,0.13669157899563142,0.1116937158817472,0.0907812621650767,0.0734548605613039,0.059214203874226004,0.047586666638756235,0.03814376835713063,0.030508559583807642,0.02435683097533657,0.019414504852929466,0.015452952304697825,0.01228342670030836,0.009751368587701238,0.007731020577167695,0.00612057587739924,0.004837946663626175,0.0038171560751555133,0.003005312346061098,0.002360102037904328,0.0018477322644291395,0.0014412529789842067,0.0011191958832068004,0.0008644739074621596,0.0006634931423540362,0.000505436865241139,0.00038168860014736446,0.00028536784687244545,0.00021095808666359085,0.0001540116629835382,0.00011091976672883747,7.873770497270357e-05,5.505595897622503e-05,3.7906906292498e-05,2.569662081726873e-05,1.7151899531265402e-05,1.1274900185553744e-05,7.300924139621703e-06,4.6578946876171e-06,2.9281141435511924e-06,1.8136749553327882e-06,1.1067286499077044e-06,6.651790440314475e-07,3.936901613249647e-07,2.2941663264446752e-07,1.3162959598579294e-07,7.437745091456402e-08,4.140968969446254e-08,2.2733356861880135e-08,1.2318406691600198e-08,6.595977654906656e-09,3.4945170909562585e-09,1.8341837592687928e-09,9.54988889679437e-10,4.9382491011073e-10,2.538867567047742e-10,1.2990305929999982e-10,6.620269805683136e-11,3.362948781921457e-11,1.7037858417415103e-11,8.613464090915517e-12,4.346987431178386e-12,2.1907537118579667e-12,1.1028409018894624e-12,5.546806736142217e-13,2.787802828440516e-13,1.4003371710397903e-13,7.030804061107396e-14,3.5287380749730336e-14,1.770549428014946e-14,8.881709255086076e-15,4.454565773129114e-15,2.2338336458057086e-15,1.120071866809431e-15,5.615661084149168e-16,2.815295894945284e-16,1.411308306697338e-16,7.074563316028099e-17,3.5461850788997816e-17,1.777503489040315e-17,8.909420117269646e-18,4.465605978907328e-18,2.238231462898128e-18,1.1218235024620273e-18,5.622637107943972e-19,2.8180739343432304e-19,1.4124145280618873e-19,7.07896809764531e-20,3.547938918192319e-20,1.7782017885896536e-20,8.912200362110874e-21,4.4667128978949884e-21,2.2386721617180826e-21,1.1219989561822148e-21],\"type\":\"scatter\"},{\"line\":{\"color\":\"#D0006F\"},\"mode\":\"lines\",\"name\":\"Product 3 (q= +2)\",\"x\":[0.0,0.1,0.2,0.30000000000000004,0.4,0.5,0.6000000000000001,0.7000000000000001,0.8,0.9,1.0,1.1,1.2000000000000002,1.3,1.4000000000000001,1.5,1.6,1.7000000000000002,1.8,1.9000000000000001,2.0,2.1,2.2,2.3000000000000003,2.4000000000000004,2.5,2.6,2.7,2.8000000000000003,2.9000000000000004,3.0,3.1,3.2,3.3000000000000003,3.4000000000000004,3.5,3.6,3.7,3.8000000000000003,3.9000000000000004,4.0,4.1000000000000005,4.2,4.3,4.4,4.5,4.6000000000000005,4.7,4.800000000000001,4.9,5.0,5.1000000000000005,5.2,5.300000000000001,5.4,5.5,5.6000000000000005,5.7,5.800000000000001,5.9,6.0,6.1000000000000005,6.2,6.300000000000001,6.4,6.5,6.6000000000000005,6.7,6.800000000000001,6.9,7.0,7.1000000000000005,7.2,7.300000000000001,7.4,7.5,7.6000000000000005,7.7,7.800000000000001,7.9,8.0,8.1,8.200000000000001,8.3,8.4,8.5,8.6,8.700000000000001,8.8,8.9,9.0,9.1,9.200000000000001,9.3,9.4,9.5,9.600000000000001,9.700000000000001,9.8,9.9,10.0,10.100000000000001,10.200000000000001,10.3,10.4,10.5,10.600000000000001,10.700000000000001,10.8,10.9,11.0,11.100000000000001,11.200000000000001,11.3,11.4,11.5,11.600000000000001,11.700000000000001,11.8,11.9,12.0,12.100000000000001,12.200000000000001,12.3,12.4,12.5,12.600000000000001,12.700000000000001,12.8,12.9,13.0,13.100000000000001,13.200000000000001,13.3,13.4,13.5,13.600000000000001,13.700000000000001,13.8,13.9,14.0],\"y\":[9.999000099974516e-05,0.00012587669424219433,0.00015846420436162073,0.00019948642872030063,0.00025112556325900844,0.00031612779762472303,0.00039794874429511227,0.0005009361707941196,0.000630559488301038,0.0007936977780917422,0.0009990009988464267,0.0012573425110470402,0.0015823852801870753,0.0019912891695029467,0.002505592664843313,0.0031523091783932544,0.003965285609457176,0.004986878717383512,0.00627001230301566,0.007880683773924224,0.009900989947180014,0.012432734953049245,0.015601661644324302,0.01956230268997368,0.024503365214450405,0.030653425429593054,0.03828649484385764,0.047726703352538834,0.05935090867925735,0.07358748949696967,0.090908962907824,0.11181552599395697,0.13680642917795055,0.16633667579165315,0.20075844089291955,0.24025024630142905,0.28474224961344924,0.3338519233419335,0.3868485547095312,0.4426642574956307,0.4999612823600579,0.557251078460515,0.6130445516670212,0.6660023219274341,0.7150537732985558,0.7594643187925794,0.7988463047107945,0.8331233161359494,0.8624655569588833,0.8872147216614378,0.907812621650767,0.9247419058042277,0.9384818861726534,0.9494788263929728,0.9581281418292099,0.9647653641579081,0.9696629063241033,0.9730301979482977,0.9750153750551237,0.9757072647221056,0.975136858770124,0.9732778263700033,0.9700459042031766,0.9652972659762745,0.9588262552137504,0.9503632093777233,0.9395735445276359,0.9260598220930965,0.9093691523440444,0.8890088902183417,0.8644739074621597,0.8352883774606622,0.8010634469395669,0.7615688799272627,0.7168116225479999,0.6671080446881383,0.6131314738261525,0.5559157104140844,0.4968013324004204,0.4373250270463733,0.37906906292498,0.3235012894409858,0.27183928804879565,0.22496383445271048,0.18339092283796526,0.14729556314068526,0.11657032367468413,0.09089907335623092,0.06982985700059158,0.05283704958210851,0.03936901613249647,0.02888184287243672,0.020861885060429047,0.014840252489327747,0.010401643767654263,0.007188918654495908,0.004904046033720239,0.0033058197939299784,0.0022048912239504143,0.0014569439476599278,0.0009549888896794369,0.0006216887283153705,0.0004023833923574287,0.0002591906788204577,0.0001662936589782805,0.00010634577805360688,6.782893606848236e-05,4.316958239673806e-05,2.7427636460650957e-05,1.7401775286558075e-05,1.1028409018894626e-05,6.983015954440524e-06,4.418369724719223e-06,2.7940399856258285e-06,1.7660581323698136e-06,1.1158849583072797e-06,7.048684231121454e-07,4.451399291438342e-07,2.8106409910259093e-07,1.774397136540556e-07,1.1200718668094308e-07,7.069698442858993e-08,4.46194329866251e-08,2.8159302791557452e-08,1.777049960238642e-08,1.1214021853827222e-08,7.076368846708115e-09,4.465287621797553e-09,2.8176068899462467e-09,1.7778904468282176e-09,1.1218235024620274e-09,7.078480736487554e-10,4.4663461943927044e-10,2.8181374809564436e-10,1.7781563913564452e-10,1.1219567980641536e-10,7.079148827285976e-11,4.466681045018335e-11,2.8183053086112553e-11,1.7782405063439174e-11,1.1219989561822148e-11],\"type\":\"scatter\"},{\"line\":{\"color\":\"#C4D600\"},\"mode\":\"lines\",\"name\":\"Product 3 (q= +1)\",\"x\":[0.0,0.1,0.2,0.30000000000000004,0.4,0.5,0.6000000000000001,0.7000000000000001,0.8,0.9,1.0,1.1,1.2000000000000002,1.3,1.4000000000000001,1.5,1.6,1.7000000000000002,1.8,1.9000000000000001,2.0,2.1,2.2,2.3000000000000003,2.4000000000000004,2.5,2.6,2.7,2.8000000000000003,2.9000000000000004,3.0,3.1,3.2,3.3000000000000003,3.4000000000000004,3.5,3.6,3.7,3.8000000000000003,3.9000000000000004,4.0,4.1000000000000005,4.2,4.3,4.4,4.5,4.6000000000000005,4.7,4.800000000000001,4.9,5.0,5.1000000000000005,5.2,5.300000000000001,5.4,5.5,5.6000000000000005,5.7,5.800000000000001,5.9,6.0,6.1000000000000005,6.2,6.300000000000001,6.4,6.5,6.6000000000000005,6.7,6.800000000000001,6.9,7.0,7.1000000000000005,7.2,7.300000000000001,7.4,7.5,7.6000000000000005,7.7,7.800000000000001,7.9,8.0,8.1,8.200000000000001,8.3,8.4,8.5,8.6,8.700000000000001,8.8,8.9,9.0,9.1,9.200000000000001,9.3,9.4,9.5,9.600000000000001,9.700000000000001,9.8,9.9,10.0,10.100000000000001,10.200000000000001,10.3,10.4,10.5,10.600000000000001,10.700000000000001,10.8,10.9,11.0,11.100000000000001,11.200000000000001,11.3,11.4,11.5,11.600000000000001,11.700000000000001,11.8,11.9,12.0,12.100000000000001,12.200000000000001,12.3,12.4,12.5,12.600000000000001,12.700000000000001,12.8,12.9,13.0,13.100000000000001,13.200000000000001,13.3,13.4,13.5,13.600000000000001,13.700000000000001,13.8,13.9,14.0],\"y\":[1.5486617527348108e-12,2.4543999250353746e-12,3.889834952634053e-12,6.164719995227936e-12,9.769918116987141e-12,1.5483269949018408e-11,2.453732067294195e-11,3.888502581939537e-11,6.162062019946249e-11,9.764615898494466e-11,1.5472693493235155e-10,2.451622505211295e-10,3.884295255323973e-10,6.153671825328742e-10,9.747886615905737e-10,1.5439342676777662e-09,2.444975287744559e-09,3.871050225345945e-09,6.127289398357771e-09,9.695359139706847e-09,1.533481777387783e-08,2.4241901108426187e-08,3.8297537937824084e-08,6.045329465227408e-08,9.532915272703685e-08,1.5013398516504806e-07,2.360726135951806e-07,3.704771586360123e-07,5.799991705891964e-07,9.053239025060605e-07,1.4080131255973628e-06,2.180228995284226e-06,3.358199614261483e-06,5.140294694584404e-06,7.810409674601171e-06,1.1766948198649244e-05,1.755706479304475e-05,2.5915159287511924e-05,3.780428065351147e-05,5.4459601195172606e-05,7.74348342932054e-05,0.0001086553006045584,0.00015048459266891714,0.00020581439334957963,0.0002781881989116445,0.0003719695374106911,0.0004925646387401915,0.0006467095719466655,0.0008428334440526067,0.001091512565065068,0.0014060352752712176,0.0018031030112023402,0.002303699853196919,0.0029341700804705753,0.0037275510186104625,0.004725216410248297,0.005978893015299219,0.007553118855500123,0.00952821315508059,0.012003821772423777,0.015103081725772825,0.018977405138118037,0.02381180329671288,0.029830537320643457,0.03730266994839573,0.04654677706602292,0.05793363514370183,0.07188512667254464,0.08886693832596375,0.10937198746102005,0.13389115544936048,0.16286825320323356,0.19663775852319396,0.23534728311837172,0.2788720816277726,0.32673539051854933,0.3780538022451706,0.43152796729752435,0.48549275344213194,0.5380273234698342,0.5871084643737906,0.6307772422312704,0.667286324006852,0.6952047100899564,0.7134734816613125,0.721422470132553,0.7187667894318546,0.7056014359699443,0.6824033539499994,0.6500377204273361,0.6097538645624416,0.5631510535588113,0.5120985525583169,0.458607644851181,0.40467090077659146,0.35209800911348077,0.30238102732905375,0.256613308313221,0.21547017722031647,0.17924326396301213,0.14791026632122914,0.12121964096361766,0.09877341007433711,0.08009757709089595,0.06469574066883468,0.052085909619914425,0.04182298296140841,0.03351026386153276,0.02680330723219288,0.021408860691747116,0.017080983168628303,0.013615795948790185,0.010845811556061126,0.008634409005839859,0.006870763421761438,0.005465368174307476,0.004346183466609352,0.0034553858649420265,0.0027466629911746514,0.0021829853841047633,0.0017347859216907755,0.0013784813330726528,0.0010952771996507972,0.0008702056479951741,0.0006913526594431241,0.0005492390383939456,0.0004363253662208543,0.000346616664133815,0.00027534703268770216,0.00021872830946584304,0.00017374988840997968,0.00013801937438531666,0.00010963579823911716,8.708877385595075e-05,6.917831110977762e-05,5.495106759382638e-05,4.3649677843381226e-05,3.467248282095526e-05,2.7541528475922782e-05,2.187713761948522e-05,1.737770629737473e-05],\"type\":\"scatter\"},{\"line\":{\"color\":\"#68D2DF\"},\"mode\":\"lines\",\"name\":\"Product 3 (neutral form)\",\"x\":[0.0,0.1,0.2,0.30000000000000004,0.4,0.5,0.6000000000000001,0.7000000000000001,0.8,0.9,1.0,1.1,1.2000000000000002,1.3,1.4000000000000001,1.5,1.6,1.7000000000000002,1.8,1.9000000000000001,2.0,2.1,2.2,2.3000000000000003,2.4000000000000004,2.5,2.6,2.7,2.8000000000000003,2.9000000000000004,3.0,3.1,3.2,3.3000000000000003,3.4000000000000004,3.5,3.6,3.7,3.8000000000000003,3.9000000000000004,4.0,4.1000000000000005,4.2,4.3,4.4,4.5,4.6000000000000005,4.7,4.800000000000001,4.9,5.0,5.1000000000000005,5.2,5.300000000000001,5.4,5.5,5.6000000000000005,5.7,5.800000000000001,5.9,6.0,6.1000000000000005,6.2,6.300000000000001,6.4,6.5,6.6000000000000005,6.7,6.800000000000001,6.9,7.0,7.1000000000000005,7.2,7.300000000000001,7.4,7.5,7.6000000000000005,7.7,7.800000000000001,7.9,8.0,8.1,8.200000000000001,8.3,8.4,8.5,8.6,8.700000000000001,8.8,8.9,9.0,9.1,9.200000000000001,9.3,9.4,9.5,9.600000000000001,9.700000000000001,9.8,9.9,10.0,10.100000000000001,10.200000000000001,10.3,10.4,10.5,10.600000000000001,10.700000000000001,10.8,10.9,11.0,11.100000000000001,11.200000000000001,11.3,11.4,11.5,11.600000000000001,11.700000000000001,11.8,11.9,12.0,12.100000000000001,12.200000000000001,12.3,12.4,12.5,12.600000000000001,12.700000000000001,12.8,12.9,13.0,13.100000000000001,13.200000000000001,13.3,13.4,13.5,13.600000000000001,13.700000000000001,13.8,13.9,14.0],\"y\":[8.911618219501707e-22,1.7780555661009848e-21,3.547571640107738e-21,7.078045588035196e-21,1.4121828203224375e-20,2.8174919620318934e-20,5.621175421523267e-20,1.1214563946302765e-19,2.237309491574805e-19,4.463290603327461e-19,8.903605774184269e-19,1.776043503304196e-18,3.542519376114195e-18,7.065360591754527e-18,1.4089982995352083e-17,2.8094985125306056e-17,5.601114798510588e-17,1.1164230800083054e-16,2.2246843157692036e-16,4.431634156834635e-16,8.824266578876975e-16,1.756170490352569e-15,3.4927769719939734e-15,6.940966918642664e-15,1.3779254866317172e-14,2.731989417113764e-14,5.408111141895447e-14,1.0684677966950925e-13,2.1058497062579765e-13,4.1381286361156895e-13,8.102269847636405e-13,1.5794362853820588e-12,3.062714448927308e-12,5.901847969148297e-12,1.1289476769487298e-11,2.1412325740301217e-11,4.0220911811934136e-11,7.474013579372843e-11,1.3725904681659925e-10,2.4892840517449547e-10,4.455909619339522e-10,7.871380701069998e-10,1.3724357967011131e-09,2.363065410805036e-09,4.021042864590701e-09,6.768732866029925e-09,1.1284003977871496e-08,1.865130778867706e-08,3.0601432736180583e-08,4.989175023074808e-08,8.090888506959013e-08,1.306232661034474e-07,2.1009992367382082e-07,3.3688780039800946e-07,5.387950489784058e-07,8.598480358846808e-07,1.3696852608108167e-06,2.178343272612193e-06,3.459485097781555e-06,5.4868051624168076e-06,8.690916401876673e-06,1.37479147109646e-05,2.1716622711212934e-05,3.425003945589475e-05,5.391876269842014e-05,8.470121019256938e-05,0.0001327182907579569,0.0002073189699298654,0.00032265635100765523,0.0004999264374313849,0.000770463181017795,0.0011798761937502117,0.0017933576719980286,0.0027021483542181103,0.004030927977354875,0.005945606706648723,0.008660712265693267,0.012445402521662484,0.017627176452474993,0.024592593524816336,0.033784565794936834,0.04569577170692644,0.060857236044820996,0.0798201805571475,0.10312829457658267,0.13127730883207414,0.16465995877931788,0.20349767699886945,0.24776568232075907,0.2971245648115114,0.3508767256149005,0.4079668741521192,0.46703943075165805,0.5265520282820404,0.5849274140460645,0.6407130494986665,0.6927149143188194,0.7400808652968713,0.782324928061216,0.8192997902551442,0.8511347438341026,0.8781586698142421,0.9008242062794186,0.9196432321003806,0.9351379656059843,0.9478077445684024,0.9581091880854852,0.9664465665474571,0.9731692651269994,0.9785737375307755,0.9829079884212499,0.9863772210347006,0.9891497700739353,0.9913627969540345,0.9931274705200359,0.9945335159406988,0.9956531116649497,0.99654416899512,0.9972530559447218,0.9978168371761793,0.9982651020711214,0.9986214479699423,0.998904678180916,0.999129766192702,0.9993086295700572,0.9994507497475842,0.9995636675574102,0.9996533788705786,0.9997246501497055,0.9997812699126437,0.9998262489897666,0.9998619799177666,0.9998903637551263,0.9999129109443302,0.9999308215110746,0.9999450488202105,0.9999563502513651,0.9999653274725122,0.999972458443341,0.9999781228445981,0.9999826222824827],\"type\":\"scatter\"}],                        {\"template\":{\"data\":{\"histogram2dcontour\":[{\"type\":\"histogram2dcontour\",\"colorbar\":{\"outlinewidth\":0,\"ticks\":\"\"},\"colorscale\":[[0.0,\"#0d0887\"],[0.1111111111111111,\"#46039f\"],[0.2222222222222222,\"#7201a8\"],[0.3333333333333333,\"#9c179e\"],[0.4444444444444444,\"#bd3786\"],[0.5555555555555556,\"#d8576b\"],[0.6666666666666666,\"#ed7953\"],[0.7777777777777778,\"#fb9f3a\"],[0.8888888888888888,\"#fdca26\"],[1.0,\"#f0f921\"]]}],\"choropleth\":[{\"type\":\"choropleth\",\"colorbar\":{\"outlinewidth\":0,\"ticks\":\"\"}}],\"histogram2d\":[{\"type\":\"histogram2d\",\"colorbar\":{\"outlinewidth\":0,\"ticks\":\"\"},\"colorscale\":[[0.0,\"#0d0887\"],[0.1111111111111111,\"#46039f\"],[0.2222222222222222,\"#7201a8\"],[0.3333333333333333,\"#9c179e\"],[0.4444444444444444,\"#bd3786\"],[0.5555555555555556,\"#d8576b\"],[0.6666666666666666,\"#ed7953\"],[0.7777777777777778,\"#fb9f3a\"],[0.8888888888888888,\"#fdca26\"],[1.0,\"#f0f921\"]]}],\"heatmap\":[{\"type\":\"heatmap\",\"colorbar\":{\"outlinewidth\":0,\"ticks\":\"\"},\"colorscale\":[[0.0,\"#0d0887\"],[0.1111111111111111,\"#46039f\"],[0.2222222222222222,\"#7201a8\"],[0.3333333333333333,\"#9c179e\"],[0.4444444444444444,\"#bd3786\"],[0.5555555555555556,\"#d8576b\"],[0.6666666666666666,\"#ed7953\"],[0.7777777777777778,\"#fb9f3a\"],[0.8888888888888888,\"#fdca26\"],[1.0,\"#f0f921\"]]}],\"heatmapgl\":[{\"type\":\"heatmapgl\",\"colorbar\":{\"outlinewidth\":0,\"ticks\":\"\"},\"colorscale\":[[0.0,\"#0d0887\"],[0.1111111111111111,\"#46039f\"],[0.2222222222222222,\"#7201a8\"],[0.3333333333333333,\"#9c179e\"],[0.4444444444444444,\"#bd3786\"],[0.5555555555555556,\"#d8576b\"],[0.6666666666666666,\"#ed7953\"],[0.7777777777777778,\"#fb9f3a\"],[0.8888888888888888,\"#fdca26\"],[1.0,\"#f0f921\"]]}],\"contourcarpet\":[{\"type\":\"contourcarpet\",\"colorbar\":{\"outlinewidth\":0,\"ticks\":\"\"}}],\"contour\":[{\"type\":\"contour\",\"colorbar\":{\"outlinewidth\":0,\"ticks\":\"\"},\"colorscale\":[[0.0,\"#0d0887\"],[0.1111111111111111,\"#46039f\"],[0.2222222222222222,\"#7201a8\"],[0.3333333333333333,\"#9c179e\"],[0.4444444444444444,\"#bd3786\"],[0.5555555555555556,\"#d8576b\"],[0.6666666666666666,\"#ed7953\"],[0.7777777777777778,\"#fb9f3a\"],[0.8888888888888888,\"#fdca26\"],[1.0,\"#f0f921\"]]}],\"surface\":[{\"type\":\"surface\",\"colorbar\":{\"outlinewidth\":0,\"ticks\":\"\"},\"colorscale\":[[0.0,\"#0d0887\"],[0.1111111111111111,\"#46039f\"],[0.2222222222222222,\"#7201a8\"],[0.3333333333333333,\"#9c179e\"],[0.4444444444444444,\"#bd3786\"],[0.5555555555555556,\"#d8576b\"],[0.6666666666666666,\"#ed7953\"],[0.7777777777777778,\"#fb9f3a\"],[0.8888888888888888,\"#fdca26\"],[1.0,\"#f0f921\"]]}],\"mesh3d\":[{\"type\":\"mesh3d\",\"colorbar\":{\"outlinewidth\":0,\"ticks\":\"\"}}],\"scatter\":[{\"fillpattern\":{\"fillmode\":\"overlay\",\"size\":10,\"solidity\":0.2},\"type\":\"scatter\"}],\"parcoords\":[{\"type\":\"parcoords\",\"line\":{\"colorbar\":{\"outlinewidth\":0,\"ticks\":\"\"}}}],\"scatterpolargl\":[{\"type\":\"scatterpolargl\",\"marker\":{\"colorbar\":{\"outlinewidth\":0,\"ticks\":\"\"}}}],\"bar\":[{\"error_x\":{\"color\":\"#2a3f5f\"},\"error_y\":{\"color\":\"#2a3f5f\"},\"marker\":{\"line\":{\"color\":\"#E5ECF6\",\"width\":0.5},\"pattern\":{\"fillmode\":\"overlay\",\"size\":10,\"solidity\":0.2}},\"type\":\"bar\"}],\"scattergeo\":[{\"type\":\"scattergeo\",\"marker\":{\"colorbar\":{\"outlinewidth\":0,\"ticks\":\"\"}}}],\"scatterpolar\":[{\"type\":\"scatterpolar\",\"marker\":{\"colorbar\":{\"outlinewidth\":0,\"ticks\":\"\"}}}],\"histogram\":[{\"marker\":{\"pattern\":{\"fillmode\":\"overlay\",\"size\":10,\"solidity\":0.2}},\"type\":\"histogram\"}],\"scattergl\":[{\"type\":\"scattergl\",\"marker\":{\"colorbar\":{\"outlinewidth\":0,\"ticks\":\"\"}}}],\"scatter3d\":[{\"type\":\"scatter3d\",\"line\":{\"colorbar\":{\"outlinewidth\":0,\"ticks\":\"\"}},\"marker\":{\"colorbar\":{\"outlinewidth\":0,\"ticks\":\"\"}}}],\"scattermapbox\":[{\"type\":\"scattermapbox\",\"marker\":{\"colorbar\":{\"outlinewidth\":0,\"ticks\":\"\"}}}],\"scatterternary\":[{\"type\":\"scatterternary\",\"marker\":{\"colorbar\":{\"outlinewidth\":0,\"ticks\":\"\"}}}],\"scattercarpet\":[{\"type\":\"scattercarpet\",\"marker\":{\"colorbar\":{\"outlinewidth\":0,\"ticks\":\"\"}}}],\"carpet\":[{\"aaxis\":{\"endlinecolor\":\"#2a3f5f\",\"gridcolor\":\"white\",\"linecolor\":\"white\",\"minorgridcolor\":\"white\",\"startlinecolor\":\"#2a3f5f\"},\"baxis\":{\"endlinecolor\":\"#2a3f5f\",\"gridcolor\":\"white\",\"linecolor\":\"white\",\"minorgridcolor\":\"white\",\"startlinecolor\":\"#2a3f5f\"},\"type\":\"carpet\"}],\"table\":[{\"cells\":{\"fill\":{\"color\":\"#EBF0F8\"},\"line\":{\"color\":\"white\"}},\"header\":{\"fill\":{\"color\":\"#C8D4E3\"},\"line\":{\"color\":\"white\"}},\"type\":\"table\"}],\"barpolar\":[{\"marker\":{\"line\":{\"color\":\"#E5ECF6\",\"width\":0.5},\"pattern\":{\"fillmode\":\"overlay\",\"size\":10,\"solidity\":0.2}},\"type\":\"barpolar\"}],\"pie\":[{\"automargin\":true,\"type\":\"pie\"}]},\"layout\":{\"autotypenumbers\":\"strict\",\"colorway\":[\"#636efa\",\"#EF553B\",\"#00cc96\",\"#ab63fa\",\"#FFA15A\",\"#19d3f3\",\"#FF6692\",\"#B6E880\",\"#FF97FF\",\"#FECB52\"],\"font\":{\"color\":\"#2a3f5f\"},\"hovermode\":\"closest\",\"hoverlabel\":{\"align\":\"left\"},\"paper_bgcolor\":\"white\",\"plot_bgcolor\":\"#E5ECF6\",\"polar\":{\"bgcolor\":\"#E5ECF6\",\"angularaxis\":{\"gridcolor\":\"white\",\"linecolor\":\"white\",\"ticks\":\"\"},\"radialaxis\":{\"gridcolor\":\"white\",\"linecolor\":\"white\",\"ticks\":\"\"}},\"ternary\":{\"bgcolor\":\"#E5ECF6\",\"aaxis\":{\"gridcolor\":\"white\",\"linecolor\":\"white\",\"ticks\":\"\"},\"baxis\":{\"gridcolor\":\"white\",\"linecolor\":\"white\",\"ticks\":\"\"},\"caxis\":{\"gridcolor\":\"white\",\"linecolor\":\"white\",\"ticks\":\"\"}},\"coloraxis\":{\"colorbar\":{\"outlinewidth\":0,\"ticks\":\"\"}},\"colorscale\":{\"sequential\":[[0.0,\"#0d0887\"],[0.1111111111111111,\"#46039f\"],[0.2222222222222222,\"#7201a8\"],[0.3333333333333333,\"#9c179e\"],[0.4444444444444444,\"#bd3786\"],[0.5555555555555556,\"#d8576b\"],[0.6666666666666666,\"#ed7953\"],[0.7777777777777778,\"#fb9f3a\"],[0.8888888888888888,\"#fdca26\"],[1.0,\"#f0f921\"]],\"sequentialminus\":[[0.0,\"#0d0887\"],[0.1111111111111111,\"#46039f\"],[0.2222222222222222,\"#7201a8\"],[0.3333333333333333,\"#9c179e\"],[0.4444444444444444,\"#bd3786\"],[0.5555555555555556,\"#d8576b\"],[0.6666666666666666,\"#ed7953\"],[0.7777777777777778,\"#fb9f3a\"],[0.8888888888888888,\"#fdca26\"],[1.0,\"#f0f921\"]],\"diverging\":[[0,\"#8e0152\"],[0.1,\"#c51b7d\"],[0.2,\"#de77ae\"],[0.3,\"#f1b6da\"],[0.4,\"#fde0ef\"],[0.5,\"#f7f7f7\"],[0.6,\"#e6f5d0\"],[0.7,\"#b8e186\"],[0.8,\"#7fbc41\"],[0.9,\"#4d9221\"],[1,\"#276419\"]]},\"xaxis\":{\"gridcolor\":\"white\",\"linecolor\":\"white\",\"ticks\":\"\",\"title\":{\"standoff\":15},\"zerolinecolor\":\"white\",\"automargin\":true,\"zerolinewidth\":2},\"yaxis\":{\"gridcolor\":\"white\",\"linecolor\":\"white\",\"ticks\":\"\",\"title\":{\"standoff\":15},\"zerolinecolor\":\"white\",\"automargin\":true,\"zerolinewidth\":2},\"scene\":{\"xaxis\":{\"backgroundcolor\":\"#E5ECF6\",\"gridcolor\":\"white\",\"linecolor\":\"white\",\"showbackground\":true,\"ticks\":\"\",\"zerolinecolor\":\"white\",\"gridwidth\":2},\"yaxis\":{\"backgroundcolor\":\"#E5ECF6\",\"gridcolor\":\"white\",\"linecolor\":\"white\",\"showbackground\":true,\"ticks\":\"\",\"zerolinecolor\":\"white\",\"gridwidth\":2},\"zaxis\":{\"backgroundcolor\":\"#E5ECF6\",\"gridcolor\":\"white\",\"linecolor\":\"white\",\"showbackground\":true,\"ticks\":\"\",\"zerolinecolor\":\"white\",\"gridwidth\":2}},\"shapedefaults\":{\"line\":{\"color\":\"#2a3f5f\"}},\"annotationdefaults\":{\"arrowcolor\":\"#2a3f5f\",\"arrowhead\":0,\"arrowwidth\":1},\"geo\":{\"bgcolor\":\"white\",\"landcolor\":\"#E5ECF6\",\"subunitcolor\":\"white\",\"showland\":true,\"showlakes\":true,\"lakecolor\":\"white\"},\"title\":{\"x\":0.05},\"mapbox\":{\"style\":\"light\"}}},\"title\":{\"text\":\"Speciation Curve for Product 3\",\"xanchor\":\"left\",\"yanchor\":\"top\"},\"legend\":{\"x\":0.7,\"y\":-0.35,\"traceorder\":\"normal\"},\"xaxis\":{\"title\":{\"text\":\"pH\"},\"tickmode\":\"array\",\"tickvals\":[0,2,4,6,8,10,12,14],\"ticktext\":[\"0\",\"2\",\"4\",\"6\",\"8\",\"10\",\"12\",\"14\"]},\"yaxis\":{\"title\":{\"text\":\"Species Mole Fraction\"}},\"width\":600},                        {\"responsive\": true}                    ).then(function(){\n",
       "                            \n",
       "var gd = document.getElementById('059476d3-d55f-4aa1-aa8b-a724b028ad66');\n",
       "var x = new MutationObserver(function (mutations, observer) {{\n",
       "        var display = window.getComputedStyle(gd).display;\n",
       "        if (!display || display === 'none') {{\n",
       "            console.log([gd, 'removed!']);\n",
       "            Plotly.purge(gd);\n",
       "            observer.disconnect();\n",
       "        }}\n",
       "}});\n",
       "\n",
       "// Listen for the removal of the full notebook cells\n",
       "var notebookContainer = gd.closest('#notebook-container');\n",
       "if (notebookContainer) {{\n",
       "    x.observe(notebookContainer, {childList: true});\n",
       "}}\n",
       "\n",
       "// Listen for the clearing of the current output cell\n",
       "var outputEl = gd.closest('.output');\n",
       "if (outputEl) {{\n",
       "    x.observe(outputEl, {childList: true});\n",
       "}}\n",
       "\n",
       "                        })                };                });            </script>        </div>"
      ]
     },
     "metadata": {},
     "output_type": "display_data"
    },
    {
     "data": {
      "application/vnd.plotly.v1+json": {
       "config": {
        "plotlyServerURL": "https://plot.ly"
       },
       "data": [
        {
         "line": {
          "color": "#003865"
         },
         "mode": "lines",
         "name": "Amine 2 (q= +2)",
         "type": "scatter",
         "x": [
          0,
          0.1,
          0.2,
          0.30000000000000004,
          0.4,
          0.5,
          0.6000000000000001,
          0.7000000000000001,
          0.8,
          0.9,
          1,
          1.1,
          1.2000000000000002,
          1.3,
          1.4000000000000001,
          1.5,
          1.6,
          1.7000000000000002,
          1.8,
          1.9000000000000001,
          2,
          2.1,
          2.2,
          2.3000000000000003,
          2.4000000000000004,
          2.5,
          2.6,
          2.7,
          2.8000000000000003,
          2.9000000000000004,
          3,
          3.1,
          3.2,
          3.3000000000000003,
          3.4000000000000004,
          3.5,
          3.6,
          3.7,
          3.8000000000000003,
          3.9000000000000004,
          4,
          4.1000000000000005,
          4.2,
          4.3,
          4.4,
          4.5,
          4.6000000000000005,
          4.7,
          4.800000000000001,
          4.9,
          5,
          5.1000000000000005,
          5.2,
          5.300000000000001,
          5.4,
          5.5,
          5.6000000000000005,
          5.7,
          5.800000000000001,
          5.9,
          6,
          6.1000000000000005,
          6.2,
          6.300000000000001,
          6.4,
          6.5,
          6.6000000000000005,
          6.7,
          6.800000000000001,
          6.9,
          7,
          7.1000000000000005,
          7.2,
          7.300000000000001,
          7.4,
          7.5,
          7.6000000000000005,
          7.7,
          7.800000000000001,
          7.9,
          8,
          8.1,
          8.200000000000001,
          8.3,
          8.4,
          8.5,
          8.6,
          8.700000000000001,
          8.8,
          8.9,
          9,
          9.1,
          9.200000000000001,
          9.3,
          9.4,
          9.5,
          9.600000000000001,
          9.700000000000001,
          9.8,
          9.9,
          10,
          10.100000000000001,
          10.200000000000001,
          10.3,
          10.4,
          10.5,
          10.600000000000001,
          10.700000000000001,
          10.8,
          10.9,
          11,
          11.100000000000001,
          11.200000000000001,
          11.3,
          11.4,
          11.5,
          11.600000000000001,
          11.700000000000001,
          11.8,
          11.9,
          12,
          12.100000000000001,
          12.200000000000001,
          12.3,
          12.4,
          12.5,
          12.600000000000001,
          12.700000000000001,
          12.8,
          12.9,
          13,
          13.100000000000001,
          13.200000000000001,
          13.3,
          13.4,
          13.5,
          13.600000000000001,
          13.700000000000001,
          13.8,
          13.9,
          14
         ],
         "y": [
          0.9999553336359343,
          0.9999437690295429,
          0.999929210433019,
          0.9999108828486657,
          0.9998878107422601,
          0.9998587661951032,
          0.9998222036757703,
          0.9997761779930465,
          0.9997182411163617,
          0.9996453124571428,
          0.9995535158425986,
          0.9994379747210501,
          0.99929255504227,
          0.9991095426732526,
          0.9988792390450537,
          0.998589454879364,
          0.9982248772163062,
          0.9977662794786589,
          0.9971895379318266,
          0.9964644107010643,
          0.9955530277351285,
          0.9944080323152159,
          0.9929703079662431,
          0.9911662208119921,
          0.9889043096535325,
          0.986071369326073,
          0.9825279048349661,
          0.9781029955871667,
          0.9725887163391432,
          0.9657344345990516,
          0.9572415668726837,
          0.9467597507195468,
          0.933885886110998,
          0.9181680947358478,
          0.8991172492851784,
          0.8762291347540324,
          0.8490201687346706,
          0.8170784319206541,
          0.7801290227830032,
          0.7381082079456885,
          0.6912350062364991,
          0.6400634422345749,
          0.5854966130523965,
          0.5287478939646115,
          0.47124607487495773,
          0.4144971999020588,
          0.3599300747890595,
          0.30875810318345304,
          0.261884417627316,
          0.2198630792425467,
          0.18291313962058764,
          0.15097089135734953,
          0.12376145103764474,
          0.10087291004246837,
          0.08182169052684894,
          0.06610357753542674,
          0.053229440836467384,
          0.04274739749735954,
          0.03425434211744294,
          0.02739990677778845,
          0.02188550279739439,
          0.017460493006303302,
          0.013916948085561993,
          0.011083943986072136,
          0.008821982849019371,
          0.007017857188298802,
          0.005580103970544019,
          0.0044350879179927295,
          0.003523691540092234,
          0.0027985574517988667,
          0.0022218152593816804,
          0.0017632230558843138,
          0.0013986573835409934,
          0.001108892262057863,
          0.0008786156717987952,
          0.0006956396529737308,
          0.0005502673791461085,
          0.0004347869381951388,
          0.0003430670383442713,
          0.00027023448120587777,
          0.00021241708663319393,
          0.0001665389133277228,
          0.0001301571952845308,
          0.00010133250247176345,
          7.852532091146497e-05,
          6.051360914171749e-05,
          4.6326992081690524e-05,
          3.519415723937332e-05,
          2.650076820212834e-05,
          1.9755837053640424e-05,
          1.4565011191418618e-05,
          1.0609621177926204e-05,
          7.630585817930056e-06,
          5.416374224431509e-06,
          3.7942172826107017e-06,
          2.623721272487122e-06,
          1.792055803747815e-06,
          1.2100198843574966e-06,
          8.085173230568316e-07,
          5.352242770876553e-07,
          3.5142992305419555e-07,
          2.291351645324259e-07,
          1.4851023490934268e-07,
          9.577463570807164e-08,
          6.150957308990296e-08,
          3.9368733794447154e-08,
          2.5127383242906256e-08,
          1.6001361844926828e-08,
          1.0171114504298633e-08,
          6.455600392813959e-09,
          4.092488122740019e-09,
          2.5919305232923786e-09,
          1.640314885235365e-09,
          1.037446532580775e-09,
          6.558317000163709e-10,
          4.144290441650552e-10,
          2.6180225795951495e-10,
          1.6534437810233282e-10,
          1.0440473457816218e-10,
          6.591482536343069e-11,
          4.1609457908963096e-11,
          2.626383286277002e-11,
          1.6576393509895906e-11,
          1.0461522219794891e-11,
          6.602040319929674e-12,
          4.166240570359437e-12,
          2.6290382982885452e-12,
          1.658970541434619e-12,
          1.0468196096807235e-12,
          6.605386026445625e-13,
          4.1679177321020476e-13,
          2.6298790042851583e-13,
          1.6593919458832835e-13,
          1.0470308334479465e-13,
          6.606444737561247e-14,
          4.168448378265152e-14,
          2.6301449707723396e-14,
          1.6595252502281183e-14,
          1.0470976460085422e-14,
          6.606779602044699e-15,
          4.168616211437079e-15
         ]
        },
        {
         "line": {
          "color": "#D0006F"
         },
         "mode": "lines",
         "name": "Amine 2 (q= +1)",
         "type": "scatter",
         "x": [
          0,
          0.1,
          0.2,
          0.30000000000000004,
          0.4,
          0.5,
          0.6000000000000001,
          0.7000000000000001,
          0.8,
          0.9,
          1,
          1.1,
          1.2000000000000002,
          1.3,
          1.4000000000000001,
          1.5,
          1.6,
          1.7000000000000002,
          1.8,
          1.9000000000000001,
          2,
          2.1,
          2.2,
          2.3000000000000003,
          2.4000000000000004,
          2.5,
          2.6,
          2.7,
          2.8000000000000003,
          2.9000000000000004,
          3,
          3.1,
          3.2,
          3.3000000000000003,
          3.4000000000000004,
          3.5,
          3.6,
          3.7,
          3.8000000000000003,
          3.9000000000000004,
          4,
          4.1000000000000005,
          4.2,
          4.3,
          4.4,
          4.5,
          4.6000000000000005,
          4.7,
          4.800000000000001,
          4.9,
          5,
          5.1000000000000005,
          5.2,
          5.300000000000001,
          5.4,
          5.5,
          5.6000000000000005,
          5.7,
          5.800000000000001,
          5.9,
          6,
          6.1000000000000005,
          6.2,
          6.300000000000001,
          6.4,
          6.5,
          6.6000000000000005,
          6.7,
          6.800000000000001,
          6.9,
          7,
          7.1000000000000005,
          7.2,
          7.300000000000001,
          7.4,
          7.5,
          7.6000000000000005,
          7.7,
          7.800000000000001,
          7.9,
          8,
          8.1,
          8.200000000000001,
          8.3,
          8.4,
          8.5,
          8.6,
          8.700000000000001,
          8.8,
          8.9,
          9,
          9.1,
          9.200000000000001,
          9.3,
          9.4,
          9.5,
          9.600000000000001,
          9.700000000000001,
          9.8,
          9.9,
          10,
          10.100000000000001,
          10.200000000000001,
          10.3,
          10.4,
          10.5,
          10.600000000000001,
          10.700000000000001,
          10.8,
          10.9,
          11,
          11.100000000000001,
          11.200000000000001,
          11.3,
          11.4,
          11.5,
          11.600000000000001,
          11.700000000000001,
          11.8,
          11.9,
          12,
          12.100000000000001,
          12.200000000000001,
          12.3,
          12.4,
          12.5,
          12.600000000000001,
          12.700000000000001,
          12.8,
          12.9,
          13,
          13.100000000000001,
          13.200000000000001,
          13.3,
          13.4,
          13.5,
          13.600000000000001,
          13.700000000000001,
          13.8,
          13.9,
          14
         ],
         "y": [
          4.4666364041901424e-05,
          5.62309704191906e-05,
          7.078956692086159e-05,
          8.911715123890158e-05,
          0.00011218925758844059,
          0.00014123380465707686,
          0.00017779632384963665,
          0.00022382200635100985,
          0.00028175888268360775,
          0.0003546875413443756,
          0.0004464841550036969,
          0.0005620252751501945,
          0.00070744495170863,
          0.0008904573172059147,
          0.0011207609398276538,
          0.0014105450966814728,
          0.0017751227457423909,
          0.0022337204612195623,
          0.00281046197294255,
          0.003535589148114825,
          0.00444697202605495,
          0.005591967306720665,
          0.0070296914354332175,
          0.008833778241451685,
          0.011095688849700086,
          0.013928628308506493,
          0.017472091429567044,
          0.02189699851918008,
          0.027411274372706507,
          0.03426555078396608,
          0.0427584101646907,
          0.053240213285651504,
          0.06611405761681269,
          0.08183181757977992,
          0.10088261462791906,
          0.12377065505323823,
          0.15097950847686384,
          0.18292107574090424,
          0.21987023219956375,
          0.26189067488233087,
          0.3087633356062131,
          0.359934124312088,
          0.41449985898163544,
          0.47124705653220245,
          0.5287467925270682,
          0.5854928570026615,
          0.6400562410511553,
          0.6912232923010618,
          0.7380905726049611,
          0.780103643133783,
          0.817042982573348,
          0.8489717111106033,
          0.876163975313646,
          0.8990307570763107,
          0.9180544673330882,
          0.9337378510267162,
          0.9465681864737516,
          0.9569950239612227,
          0.965418531454945,
          0.9721853788511152,
          0.9775895005570088,
          0.9818756775641442,
          0.9852444728666525,
          0.9878575475808703,
          0.9898427560135162,
          0.9912986761272743,
          0.9922983996694889,
          0.9928925073419381,
          0.9931112091636932,
          0.9929656544376361,
          0.9924484211564337,
          0.9915331898521641,
          0.9901735984755959,
          0.988301268848324,
          0.9858229979971671,
          0.9826171273537394,
          0.9785291503516081,
          0.9733667093108649,
          0.9668942851489445,
          0.958828121644346,
          0.9488322729155746,
          0.9365171321647231,
          0.9214423770894687,
          0.9031268789139948,
          0.8810685919264772,
          0.8547774487330274,
          0.8238233614790649,
          0.7878990376588327,
          0.7468931276627448,
          0.7009635502148424,
          0.6505951518701852,
          0.5966228432962615,
          0.540204106218499,
          0.4827348608808033,
          0.4257181810720662,
          0.37061048040134503,
          0.31867759374455057,
          0.2708897093199154,
          0.22787114229350078,
          0.18990473975356156,
          0.1569779804191848,
          0.1288521720708736,
          0.10513719474196753,
          0.08535923392423678,
          0.06901487612310668,
          0.055609814568915276,
          0.04468350824901743,
          0.03582258700811869,
          0.02866609551085166,
          0.022905334549119253,
          0.01828047295500665,
          0.01457549645269557,
          0.011612540080649315,
          0.009246251954262194,
          0.007358552703345986,
          0.005853965844652625,
          0.0046555756483110606,
          0.003701599544011298,
          0.0029425252187828873,
          0.0023387462587938124,
          0.0018586262126229953,
          0.0014769238576627993,
          0.0011735187905623427,
          0.0009323841492699244,
          0.0007407611075006744,
          0.0005884971225563228,
          0.0004675164674050307,
          0.0003713972419371857,
          0.0002950338520037076,
          0.00023436794032392753,
          0.00018617404643650397,
          0.00014788896443599975,
          0.00011747595327290658,
          9.331672125654421e-05,
          7.412552912869823e-05,
          5.888089837121365e-05,
          4.677132646941895e-05,
          3.7152142576736136e-05,
          2.9511221328776716e-05,
          2.3441738625207365e-05,
          1.862052463623455e-05
         ]
        },
        {
         "line": {
          "color": "#C4D600"
         },
         "mode": "lines",
         "name": "Amine 2 (neutral form)",
         "type": "scatter",
         "x": [
          0,
          0.1,
          0.2,
          0.30000000000000004,
          0.4,
          0.5,
          0.6000000000000001,
          0.7000000000000001,
          0.8,
          0.9,
          1,
          1.1,
          1.2000000000000002,
          1.3,
          1.4000000000000001,
          1.5,
          1.6,
          1.7000000000000002,
          1.8,
          1.9000000000000001,
          2,
          2.1,
          2.2,
          2.3000000000000003,
          2.4000000000000004,
          2.5,
          2.6,
          2.7,
          2.8000000000000003,
          2.9000000000000004,
          3,
          3.1,
          3.2,
          3.3000000000000003,
          3.4000000000000004,
          3.5,
          3.6,
          3.7,
          3.8000000000000003,
          3.9000000000000004,
          4,
          4.1000000000000005,
          4.2,
          4.3,
          4.4,
          4.5,
          4.6000000000000005,
          4.7,
          4.800000000000001,
          4.9,
          5,
          5.1000000000000005,
          5.2,
          5.300000000000001,
          5.4,
          5.5,
          5.6000000000000005,
          5.7,
          5.800000000000001,
          5.9,
          6,
          6.1000000000000005,
          6.2,
          6.300000000000001,
          6.4,
          6.5,
          6.6000000000000005,
          6.7,
          6.800000000000001,
          6.9,
          7,
          7.1000000000000005,
          7.2,
          7.300000000000001,
          7.4,
          7.5,
          7.6000000000000005,
          7.7,
          7.800000000000001,
          7.9,
          8,
          8.1,
          8.200000000000001,
          8.3,
          8.4,
          8.5,
          8.6,
          8.700000000000001,
          8.8,
          8.9,
          9,
          9.1,
          9.200000000000001,
          9.3,
          9.4,
          9.5,
          9.600000000000001,
          9.700000000000001,
          9.8,
          9.9,
          10,
          10.100000000000001,
          10.200000000000001,
          10.3,
          10.4,
          10.5,
          10.600000000000001,
          10.700000000000001,
          10.8,
          10.9,
          11,
          11.100000000000001,
          11.200000000000001,
          11.3,
          11.4,
          11.5,
          11.600000000000001,
          11.700000000000001,
          11.8,
          11.9,
          12,
          12.100000000000001,
          12.200000000000001,
          12.3,
          12.4,
          12.5,
          12.600000000000001,
          12.700000000000001,
          12.8,
          12.9,
          13,
          13.100000000000001,
          13.200000000000001,
          13.3,
          13.4,
          13.5,
          13.600000000000001,
          13.700000000000001,
          13.8,
          13.9,
          14
         ],
         "y": [
          2.3987257718750008e-14,
          3.8016801790184923e-14,
          6.025169311421803e-14,
          9.549074798026262e-14,
          1.5133914431232053e-13,
          2.398494122719029e-13,
          3.8012180004338506e-13,
          6.024247199784948e-13,
          9.547235083765174e-13,
          1.5130244071160388e-12,
          2.397761878124899e-12,
          3.799757202690412e-12,
          6.02133308333459e-12,
          9.541422058762255e-12,
          1.5118649080860447e-11,
          2.395449256950351e-11,
          3.7951451346103464e-11,
          6.012136363616144e-11,
          9.523086155830376e-11,
          1.5082099174829567e-10,
          2.3881653755605544e-10,
          3.7806338950223977e-10,
          5.983237777522685e-10,
          9.465563923903408e-10,
          1.4967672415031525e-09,
          2.3654204612420136e-09,
          3.735466910073124e-09,
          5.8936533615909395e-09,
          9.288150133519898e-09,
          1.461698216489581e-08,
          2.2962625820679944e-08,
          3.599480180866703e-08,
          5.627218929757292e-08,
          8.768437231941647e-08,
          1.3608690263186086e-07,
          2.1019272930519415e-07,
          3.2278846541521617e-07,
          4.923384417283959e-07,
          7.450174328979182e-07,
          1.1171719806992925e-06,
          1.65815728773876e-06,
          2.433453337100244e-06,
          3.527965968087914e-06,
          5.049503186106528e-06,
          7.132597974084062e-06,
          9.943095279664627e-06,
          1.3684159785166751e-05,
          1.860451548513258e-05,
          2.500976772286296e-05,
          3.327762367033791e-05,
          4.387780606430745e-05,
          5.739753204712799e-05,
          7.45736487092053e-05,
          9.633288122096503e-05,
          0.000123842140062979,
          0.00015857143785693922,
          0.00020237268978097646,
          0.00025757854141765074,
          0.00032712642761199986,
          0.0004147143710962535,
          0.000524996645596829,
          0.0006638294295525862,
          0.0008385790477854584,
          0.0010585084330575827,
          0.001335261137464462,
          0.001683466684426876,
          0.002121496359967106,
          0.002672404740069091,
          0.0033650992962145562,
          0.00423578811056516,
          0.005329763584184614,
          0.006703587091951553,
          0.008427744140863076,
          0.01058983888961804,
          0.013298386331034069,
          0.01668723299328683,
          0.020920582269245726,
          0.026198503750940096,
          0.03276264781271124,
          0.040901643874448085,
          0.05095530999779214,
          0.06331632892194919,
          0.07842746571524675,
          0.0967717885835334,
          0.11885288275261123,
          0.14516203765783092,
          0.17613031152885344,
          0.21206576818392792,
          0.25308037156905305,
          0.299016693948104,
          0.3493902831186233,
          0.40336654708256053,
          0.459788263195683,
          0.5172597227449722,
          0.574278024710651,
          0.6293868958773825,
          0.6813206141996456,
          0.7291090806602002,
          0.7721280491891762,
          0.8100947250221613,
          0.8430216681508922,
          0.8711475987939619,
          0.8948626567477975,
          0.9146406703011275,
          0.9309850623673203,
          0.9443901460623508,
          0.9553164666235993,
          0.9641773969905194,
          0.9713338943180339,
          0.9770946589952803,
          0.9817195229525053,
          0.9854245009553738,
          0.9883874582790357,
          0.9907537470082912,
          0.9926414466408224,
          0.9941460337409184,
          0.9953444240898867,
          0.9962984002906444,
          0.9970574746768124,
          0.9976612536752913,
          0.9981413737457676,
          0.9985230761160734,
          0.9988264811928612,
          0.9990676158402686,
          0.9992592388858972,
          0.9994115028732774,
          0.9995324835299659,
          0.9996286027564039,
          0.9997049661469495,
          0.9997656320590155,
          0.9998138259531467,
          0.999852111035301,
          0.9998825240465612,
          0.9999066832786389,
          0.9999258744708052,
          0.9999411191015871,
          0.9999532286735042,
          0.9999628478574066,
          0.9999704887786608,
          0.9999765582613681,
          0.9999813794753596
         ]
        }
       ],
       "layout": {
        "height": 360,
        "legend": {
         "traceorder": "normal",
         "x": 0.7,
         "y": -0.35
        },
        "template": {
         "data": {
          "bar": [
           {
            "error_x": {
             "color": "#2a3f5f"
            },
            "error_y": {
             "color": "#2a3f5f"
            },
            "marker": {
             "line": {
              "color": "#E5ECF6",
              "width": 0.5
             },
             "pattern": {
              "fillmode": "overlay",
              "size": 10,
              "solidity": 0.2
             }
            },
            "type": "bar"
           }
          ],
          "barpolar": [
           {
            "marker": {
             "line": {
              "color": "#E5ECF6",
              "width": 0.5
             },
             "pattern": {
              "fillmode": "overlay",
              "size": 10,
              "solidity": 0.2
             }
            },
            "type": "barpolar"
           }
          ],
          "carpet": [
           {
            "aaxis": {
             "endlinecolor": "#2a3f5f",
             "gridcolor": "white",
             "linecolor": "white",
             "minorgridcolor": "white",
             "startlinecolor": "#2a3f5f"
            },
            "baxis": {
             "endlinecolor": "#2a3f5f",
             "gridcolor": "white",
             "linecolor": "white",
             "minorgridcolor": "white",
             "startlinecolor": "#2a3f5f"
            },
            "type": "carpet"
           }
          ],
          "choropleth": [
           {
            "colorbar": {
             "outlinewidth": 0,
             "ticks": ""
            },
            "type": "choropleth"
           }
          ],
          "contour": [
           {
            "colorbar": {
             "outlinewidth": 0,
             "ticks": ""
            },
            "colorscale": [
             [
              0,
              "#0d0887"
             ],
             [
              0.1111111111111111,
              "#46039f"
             ],
             [
              0.2222222222222222,
              "#7201a8"
             ],
             [
              0.3333333333333333,
              "#9c179e"
             ],
             [
              0.4444444444444444,
              "#bd3786"
             ],
             [
              0.5555555555555556,
              "#d8576b"
             ],
             [
              0.6666666666666666,
              "#ed7953"
             ],
             [
              0.7777777777777778,
              "#fb9f3a"
             ],
             [
              0.8888888888888888,
              "#fdca26"
             ],
             [
              1,
              "#f0f921"
             ]
            ],
            "type": "contour"
           }
          ],
          "contourcarpet": [
           {
            "colorbar": {
             "outlinewidth": 0,
             "ticks": ""
            },
            "type": "contourcarpet"
           }
          ],
          "heatmap": [
           {
            "colorbar": {
             "outlinewidth": 0,
             "ticks": ""
            },
            "colorscale": [
             [
              0,
              "#0d0887"
             ],
             [
              0.1111111111111111,
              "#46039f"
             ],
             [
              0.2222222222222222,
              "#7201a8"
             ],
             [
              0.3333333333333333,
              "#9c179e"
             ],
             [
              0.4444444444444444,
              "#bd3786"
             ],
             [
              0.5555555555555556,
              "#d8576b"
             ],
             [
              0.6666666666666666,
              "#ed7953"
             ],
             [
              0.7777777777777778,
              "#fb9f3a"
             ],
             [
              0.8888888888888888,
              "#fdca26"
             ],
             [
              1,
              "#f0f921"
             ]
            ],
            "type": "heatmap"
           }
          ],
          "heatmapgl": [
           {
            "colorbar": {
             "outlinewidth": 0,
             "ticks": ""
            },
            "colorscale": [
             [
              0,
              "#0d0887"
             ],
             [
              0.1111111111111111,
              "#46039f"
             ],
             [
              0.2222222222222222,
              "#7201a8"
             ],
             [
              0.3333333333333333,
              "#9c179e"
             ],
             [
              0.4444444444444444,
              "#bd3786"
             ],
             [
              0.5555555555555556,
              "#d8576b"
             ],
             [
              0.6666666666666666,
              "#ed7953"
             ],
             [
              0.7777777777777778,
              "#fb9f3a"
             ],
             [
              0.8888888888888888,
              "#fdca26"
             ],
             [
              1,
              "#f0f921"
             ]
            ],
            "type": "heatmapgl"
           }
          ],
          "histogram": [
           {
            "marker": {
             "pattern": {
              "fillmode": "overlay",
              "size": 10,
              "solidity": 0.2
             }
            },
            "type": "histogram"
           }
          ],
          "histogram2d": [
           {
            "colorbar": {
             "outlinewidth": 0,
             "ticks": ""
            },
            "colorscale": [
             [
              0,
              "#0d0887"
             ],
             [
              0.1111111111111111,
              "#46039f"
             ],
             [
              0.2222222222222222,
              "#7201a8"
             ],
             [
              0.3333333333333333,
              "#9c179e"
             ],
             [
              0.4444444444444444,
              "#bd3786"
             ],
             [
              0.5555555555555556,
              "#d8576b"
             ],
             [
              0.6666666666666666,
              "#ed7953"
             ],
             [
              0.7777777777777778,
              "#fb9f3a"
             ],
             [
              0.8888888888888888,
              "#fdca26"
             ],
             [
              1,
              "#f0f921"
             ]
            ],
            "type": "histogram2d"
           }
          ],
          "histogram2dcontour": [
           {
            "colorbar": {
             "outlinewidth": 0,
             "ticks": ""
            },
            "colorscale": [
             [
              0,
              "#0d0887"
             ],
             [
              0.1111111111111111,
              "#46039f"
             ],
             [
              0.2222222222222222,
              "#7201a8"
             ],
             [
              0.3333333333333333,
              "#9c179e"
             ],
             [
              0.4444444444444444,
              "#bd3786"
             ],
             [
              0.5555555555555556,
              "#d8576b"
             ],
             [
              0.6666666666666666,
              "#ed7953"
             ],
             [
              0.7777777777777778,
              "#fb9f3a"
             ],
             [
              0.8888888888888888,
              "#fdca26"
             ],
             [
              1,
              "#f0f921"
             ]
            ],
            "type": "histogram2dcontour"
           }
          ],
          "mesh3d": [
           {
            "colorbar": {
             "outlinewidth": 0,
             "ticks": ""
            },
            "type": "mesh3d"
           }
          ],
          "parcoords": [
           {
            "line": {
             "colorbar": {
              "outlinewidth": 0,
              "ticks": ""
             }
            },
            "type": "parcoords"
           }
          ],
          "pie": [
           {
            "automargin": true,
            "type": "pie"
           }
          ],
          "scatter": [
           {
            "fillpattern": {
             "fillmode": "overlay",
             "size": 10,
             "solidity": 0.2
            },
            "type": "scatter"
           }
          ],
          "scatter3d": [
           {
            "line": {
             "colorbar": {
              "outlinewidth": 0,
              "ticks": ""
             }
            },
            "marker": {
             "colorbar": {
              "outlinewidth": 0,
              "ticks": ""
             }
            },
            "type": "scatter3d"
           }
          ],
          "scattercarpet": [
           {
            "marker": {
             "colorbar": {
              "outlinewidth": 0,
              "ticks": ""
             }
            },
            "type": "scattercarpet"
           }
          ],
          "scattergeo": [
           {
            "marker": {
             "colorbar": {
              "outlinewidth": 0,
              "ticks": ""
             }
            },
            "type": "scattergeo"
           }
          ],
          "scattergl": [
           {
            "marker": {
             "colorbar": {
              "outlinewidth": 0,
              "ticks": ""
             }
            },
            "type": "scattergl"
           }
          ],
          "scattermapbox": [
           {
            "marker": {
             "colorbar": {
              "outlinewidth": 0,
              "ticks": ""
             }
            },
            "type": "scattermapbox"
           }
          ],
          "scatterpolar": [
           {
            "marker": {
             "colorbar": {
              "outlinewidth": 0,
              "ticks": ""
             }
            },
            "type": "scatterpolar"
           }
          ],
          "scatterpolargl": [
           {
            "marker": {
             "colorbar": {
              "outlinewidth": 0,
              "ticks": ""
             }
            },
            "type": "scatterpolargl"
           }
          ],
          "scatterternary": [
           {
            "marker": {
             "colorbar": {
              "outlinewidth": 0,
              "ticks": ""
             }
            },
            "type": "scatterternary"
           }
          ],
          "surface": [
           {
            "colorbar": {
             "outlinewidth": 0,
             "ticks": ""
            },
            "colorscale": [
             [
              0,
              "#0d0887"
             ],
             [
              0.1111111111111111,
              "#46039f"
             ],
             [
              0.2222222222222222,
              "#7201a8"
             ],
             [
              0.3333333333333333,
              "#9c179e"
             ],
             [
              0.4444444444444444,
              "#bd3786"
             ],
             [
              0.5555555555555556,
              "#d8576b"
             ],
             [
              0.6666666666666666,
              "#ed7953"
             ],
             [
              0.7777777777777778,
              "#fb9f3a"
             ],
             [
              0.8888888888888888,
              "#fdca26"
             ],
             [
              1,
              "#f0f921"
             ]
            ],
            "type": "surface"
           }
          ],
          "table": [
           {
            "cells": {
             "fill": {
              "color": "#EBF0F8"
             },
             "line": {
              "color": "white"
             }
            },
            "header": {
             "fill": {
              "color": "#C8D4E3"
             },
             "line": {
              "color": "white"
             }
            },
            "type": "table"
           }
          ]
         },
         "layout": {
          "annotationdefaults": {
           "arrowcolor": "#2a3f5f",
           "arrowhead": 0,
           "arrowwidth": 1
          },
          "autotypenumbers": "strict",
          "coloraxis": {
           "colorbar": {
            "outlinewidth": 0,
            "ticks": ""
           }
          },
          "colorscale": {
           "diverging": [
            [
             0,
             "#8e0152"
            ],
            [
             0.1,
             "#c51b7d"
            ],
            [
             0.2,
             "#de77ae"
            ],
            [
             0.3,
             "#f1b6da"
            ],
            [
             0.4,
             "#fde0ef"
            ],
            [
             0.5,
             "#f7f7f7"
            ],
            [
             0.6,
             "#e6f5d0"
            ],
            [
             0.7,
             "#b8e186"
            ],
            [
             0.8,
             "#7fbc41"
            ],
            [
             0.9,
             "#4d9221"
            ],
            [
             1,
             "#276419"
            ]
           ],
           "sequential": [
            [
             0,
             "#0d0887"
            ],
            [
             0.1111111111111111,
             "#46039f"
            ],
            [
             0.2222222222222222,
             "#7201a8"
            ],
            [
             0.3333333333333333,
             "#9c179e"
            ],
            [
             0.4444444444444444,
             "#bd3786"
            ],
            [
             0.5555555555555556,
             "#d8576b"
            ],
            [
             0.6666666666666666,
             "#ed7953"
            ],
            [
             0.7777777777777778,
             "#fb9f3a"
            ],
            [
             0.8888888888888888,
             "#fdca26"
            ],
            [
             1,
             "#f0f921"
            ]
           ],
           "sequentialminus": [
            [
             0,
             "#0d0887"
            ],
            [
             0.1111111111111111,
             "#46039f"
            ],
            [
             0.2222222222222222,
             "#7201a8"
            ],
            [
             0.3333333333333333,
             "#9c179e"
            ],
            [
             0.4444444444444444,
             "#bd3786"
            ],
            [
             0.5555555555555556,
             "#d8576b"
            ],
            [
             0.6666666666666666,
             "#ed7953"
            ],
            [
             0.7777777777777778,
             "#fb9f3a"
            ],
            [
             0.8888888888888888,
             "#fdca26"
            ],
            [
             1,
             "#f0f921"
            ]
           ]
          },
          "colorway": [
           "#636efa",
           "#EF553B",
           "#00cc96",
           "#ab63fa",
           "#FFA15A",
           "#19d3f3",
           "#FF6692",
           "#B6E880",
           "#FF97FF",
           "#FECB52"
          ],
          "font": {
           "color": "#2a3f5f"
          },
          "geo": {
           "bgcolor": "white",
           "lakecolor": "white",
           "landcolor": "#E5ECF6",
           "showlakes": true,
           "showland": true,
           "subunitcolor": "white"
          },
          "hoverlabel": {
           "align": "left"
          },
          "hovermode": "closest",
          "mapbox": {
           "style": "light"
          },
          "paper_bgcolor": "white",
          "plot_bgcolor": "#E5ECF6",
          "polar": {
           "angularaxis": {
            "gridcolor": "white",
            "linecolor": "white",
            "ticks": ""
           },
           "bgcolor": "#E5ECF6",
           "radialaxis": {
            "gridcolor": "white",
            "linecolor": "white",
            "ticks": ""
           }
          },
          "scene": {
           "xaxis": {
            "backgroundcolor": "#E5ECF6",
            "gridcolor": "white",
            "gridwidth": 2,
            "linecolor": "white",
            "showbackground": true,
            "ticks": "",
            "zerolinecolor": "white"
           },
           "yaxis": {
            "backgroundcolor": "#E5ECF6",
            "gridcolor": "white",
            "gridwidth": 2,
            "linecolor": "white",
            "showbackground": true,
            "ticks": "",
            "zerolinecolor": "white"
           },
           "zaxis": {
            "backgroundcolor": "#E5ECF6",
            "gridcolor": "white",
            "gridwidth": 2,
            "linecolor": "white",
            "showbackground": true,
            "ticks": "",
            "zerolinecolor": "white"
           }
          },
          "shapedefaults": {
           "line": {
            "color": "#2a3f5f"
           }
          },
          "ternary": {
           "aaxis": {
            "gridcolor": "white",
            "linecolor": "white",
            "ticks": ""
           },
           "baxis": {
            "gridcolor": "white",
            "linecolor": "white",
            "ticks": ""
           },
           "bgcolor": "#E5ECF6",
           "caxis": {
            "gridcolor": "white",
            "linecolor": "white",
            "ticks": ""
           }
          },
          "title": {
           "x": 0.05
          },
          "xaxis": {
           "automargin": true,
           "gridcolor": "white",
           "linecolor": "white",
           "ticks": "",
           "title": {
            "standoff": 15
           },
           "zerolinecolor": "white",
           "zerolinewidth": 2
          },
          "yaxis": {
           "automargin": true,
           "gridcolor": "white",
           "linecolor": "white",
           "ticks": "",
           "title": {
            "standoff": 15
           },
           "zerolinecolor": "white",
           "zerolinewidth": 2
          }
         }
        },
        "title": {
         "text": "Speciation Curve for Amine 2",
         "xanchor": "left",
         "yanchor": "top"
        },
        "width": 600,
        "xaxis": {
         "autorange": true,
         "range": [
          0,
          14
         ],
         "tickmode": "array",
         "ticktext": [
          "0",
          "2",
          "4",
          "6",
          "8",
          "10",
          "12",
          "14"
         ],
         "tickvals": [
          0,
          2,
          4,
          6,
          8,
          10,
          12,
          14
         ],
         "title": {
          "text": "pH"
         },
         "type": "linear"
        },
        "yaxis": {
         "autorange": true,
         "range": [
          -0.05555452108196002,
          1.0555359005573237
         ],
         "title": {
          "text": "Species Mole Fraction"
         },
         "type": "linear"
        }
       }
      },
      "image/png": "[encoded data removed]",
      "text/html": [
       "<div>                            <div id=\"35882a7c-c4ec-4574-86a9-439d28cec06f\" class=\"plotly-graph-div\" style=\"height:525px; width:600px;\"></div>            <script type=\"text/javascript\">                require([\"plotly\"], function(Plotly) {                    window.PLOTLYENV=window.PLOTLYENV || {};                                    if (document.getElementById(\"35882a7c-c4ec-4574-86a9-439d28cec06f\")) {                    Plotly.newPlot(                        \"35882a7c-c4ec-4574-86a9-439d28cec06f\",                        [{\"line\":{\"color\":\"#003865\"},\"mode\":\"lines\",\"name\":\"Amine 2 (q= +2)\",\"x\":[0.0,0.1,0.2,0.30000000000000004,0.4,0.5,0.6000000000000001,0.7000000000000001,0.8,0.9,1.0,1.1,1.2000000000000002,1.3,1.4000000000000001,1.5,1.6,1.7000000000000002,1.8,1.9000000000000001,2.0,2.1,2.2,2.3000000000000003,2.4000000000000004,2.5,2.6,2.7,2.8000000000000003,2.9000000000000004,3.0,3.1,3.2,3.3000000000000003,3.4000000000000004,3.5,3.6,3.7,3.8000000000000003,3.9000000000000004,4.0,4.1000000000000005,4.2,4.3,4.4,4.5,4.6000000000000005,4.7,4.800000000000001,4.9,5.0,5.1000000000000005,5.2,5.300000000000001,5.4,5.5,5.6000000000000005,5.7,5.800000000000001,5.9,6.0,6.1000000000000005,6.2,6.300000000000001,6.4,6.5,6.6000000000000005,6.7,6.800000000000001,6.9,7.0,7.1000000000000005,7.2,7.300000000000001,7.4,7.5,7.6000000000000005,7.7,7.800000000000001,7.9,8.0,8.1,8.200000000000001,8.3,8.4,8.5,8.6,8.700000000000001,8.8,8.9,9.0,9.1,9.200000000000001,9.3,9.4,9.5,9.600000000000001,9.700000000000001,9.8,9.9,10.0,10.100000000000001,10.200000000000001,10.3,10.4,10.5,10.600000000000001,10.700000000000001,10.8,10.9,11.0,11.100000000000001,11.200000000000001,11.3,11.4,11.5,11.600000000000001,11.700000000000001,11.8,11.9,12.0,12.100000000000001,12.200000000000001,12.3,12.4,12.5,12.600000000000001,12.700000000000001,12.8,12.9,13.0,13.100000000000001,13.200000000000001,13.3,13.4,13.5,13.600000000000001,13.700000000000001,13.8,13.9,14.0],\"y\":[0.9999553336359343,0.9999437690295429,0.999929210433019,0.9999108828486657,0.9998878107422601,0.9998587661951032,0.9998222036757703,0.9997761779930465,0.9997182411163617,0.9996453124571428,0.9995535158425986,0.9994379747210501,0.99929255504227,0.9991095426732526,0.9988792390450537,0.998589454879364,0.9982248772163062,0.9977662794786589,0.9971895379318266,0.9964644107010643,0.9955530277351285,0.9944080323152159,0.9929703079662431,0.9911662208119921,0.9889043096535325,0.986071369326073,0.9825279048349661,0.9781029955871667,0.9725887163391432,0.9657344345990516,0.9572415668726837,0.9467597507195468,0.933885886110998,0.9181680947358478,0.8991172492851784,0.8762291347540324,0.8490201687346706,0.8170784319206541,0.7801290227830032,0.7381082079456885,0.6912350062364991,0.6400634422345749,0.5854966130523965,0.5287478939646115,0.47124607487495773,0.4144971999020588,0.3599300747890595,0.30875810318345304,0.261884417627316,0.2198630792425467,0.18291313962058764,0.15097089135734953,0.12376145103764474,0.10087291004246837,0.08182169052684894,0.06610357753542674,0.053229440836467384,0.04274739749735954,0.03425434211744294,0.02739990677778845,0.02188550279739439,0.017460493006303302,0.013916948085561993,0.011083943986072136,0.008821982849019371,0.007017857188298802,0.005580103970544019,0.0044350879179927295,0.003523691540092234,0.0027985574517988667,0.0022218152593816804,0.0017632230558843138,0.0013986573835409934,0.001108892262057863,0.0008786156717987952,0.0006956396529737308,0.0005502673791461085,0.0004347869381951388,0.0003430670383442713,0.00027023448120587777,0.00021241708663319393,0.0001665389133277228,0.0001301571952845308,0.00010133250247176345,7.852532091146497e-05,6.051360914171749e-05,4.6326992081690524e-05,3.519415723937332e-05,2.650076820212834e-05,1.9755837053640424e-05,1.4565011191418618e-05,1.0609621177926204e-05,7.630585817930056e-06,5.416374224431509e-06,3.7942172826107017e-06,2.623721272487122e-06,1.792055803747815e-06,1.2100198843574966e-06,8.085173230568316e-07,5.352242770876553e-07,3.5142992305419555e-07,2.291351645324259e-07,1.4851023490934268e-07,9.577463570807164e-08,6.150957308990296e-08,3.9368733794447154e-08,2.5127383242906256e-08,1.6001361844926828e-08,1.0171114504298633e-08,6.455600392813959e-09,4.092488122740019e-09,2.5919305232923786e-09,1.640314885235365e-09,1.037446532580775e-09,6.558317000163709e-10,4.144290441650552e-10,2.6180225795951495e-10,1.6534437810233282e-10,1.0440473457816218e-10,6.591482536343069e-11,4.1609457908963096e-11,2.626383286277002e-11,1.6576393509895906e-11,1.0461522219794891e-11,6.602040319929674e-12,4.166240570359437e-12,2.6290382982885452e-12,1.658970541434619e-12,1.0468196096807235e-12,6.605386026445625e-13,4.1679177321020476e-13,2.6298790042851583e-13,1.6593919458832835e-13,1.0470308334479465e-13,6.606444737561247e-14,4.168448378265152e-14,2.6301449707723396e-14,1.6595252502281183e-14,1.0470976460085422e-14,6.606779602044699e-15,4.168616211437079e-15],\"type\":\"scatter\"},{\"line\":{\"color\":\"#D0006F\"},\"mode\":\"lines\",\"name\":\"Amine 2 (q= +1)\",\"x\":[0.0,0.1,0.2,0.30000000000000004,0.4,0.5,0.6000000000000001,0.7000000000000001,0.8,0.9,1.0,1.1,1.2000000000000002,1.3,1.4000000000000001,1.5,1.6,1.7000000000000002,1.8,1.9000000000000001,2.0,2.1,2.2,2.3000000000000003,2.4000000000000004,2.5,2.6,2.7,2.8000000000000003,2.9000000000000004,3.0,3.1,3.2,3.3000000000000003,3.4000000000000004,3.5,3.6,3.7,3.8000000000000003,3.9000000000000004,4.0,4.1000000000000005,4.2,4.3,4.4,4.5,4.6000000000000005,4.7,4.800000000000001,4.9,5.0,5.1000000000000005,5.2,5.300000000000001,5.4,5.5,5.6000000000000005,5.7,5.800000000000001,5.9,6.0,6.1000000000000005,6.2,6.300000000000001,6.4,6.5,6.6000000000000005,6.7,6.800000000000001,6.9,7.0,7.1000000000000005,7.2,7.300000000000001,7.4,7.5,7.6000000000000005,7.7,7.800000000000001,7.9,8.0,8.1,8.200000000000001,8.3,8.4,8.5,8.6,8.700000000000001,8.8,8.9,9.0,9.1,9.200000000000001,9.3,9.4,9.5,9.600000000000001,9.700000000000001,9.8,9.9,10.0,10.100000000000001,10.200000000000001,10.3,10.4,10.5,10.600000000000001,10.700000000000001,10.8,10.9,11.0,11.100000000000001,11.200000000000001,11.3,11.4,11.5,11.600000000000001,11.700000000000001,11.8,11.9,12.0,12.100000000000001,12.200000000000001,12.3,12.4,12.5,12.600000000000001,12.700000000000001,12.8,12.9,13.0,13.100000000000001,13.200000000000001,13.3,13.4,13.5,13.600000000000001,13.700000000000001,13.8,13.9,14.0],\"y\":[4.4666364041901424e-05,5.62309704191906e-05,7.078956692086159e-05,8.911715123890158e-05,0.00011218925758844059,0.00014123380465707686,0.00017779632384963665,0.00022382200635100985,0.00028175888268360775,0.0003546875413443756,0.0004464841550036969,0.0005620252751501945,0.00070744495170863,0.0008904573172059147,0.0011207609398276538,0.0014105450966814728,0.0017751227457423909,0.0022337204612195623,0.00281046197294255,0.003535589148114825,0.00444697202605495,0.005591967306720665,0.0070296914354332175,0.008833778241451685,0.011095688849700086,0.013928628308506493,0.017472091429567044,0.02189699851918008,0.027411274372706507,0.03426555078396608,0.0427584101646907,0.053240213285651504,0.06611405761681269,0.08183181757977992,0.10088261462791906,0.12377065505323823,0.15097950847686384,0.18292107574090424,0.21987023219956375,0.26189067488233087,0.3087633356062131,0.359934124312088,0.41449985898163544,0.47124705653220245,0.5287467925270682,0.5854928570026615,0.6400562410511553,0.6912232923010618,0.7380905726049611,0.780103643133783,0.817042982573348,0.8489717111106033,0.876163975313646,0.8990307570763107,0.9180544673330882,0.9337378510267162,0.9465681864737516,0.9569950239612227,0.965418531454945,0.9721853788511152,0.9775895005570088,0.9818756775641442,0.9852444728666525,0.9878575475808703,0.9898427560135162,0.9912986761272743,0.9922983996694889,0.9928925073419381,0.9931112091636932,0.9929656544376361,0.9924484211564337,0.9915331898521641,0.9901735984755959,0.988301268848324,0.9858229979971671,0.9826171273537394,0.9785291503516081,0.9733667093108649,0.9668942851489445,0.958828121644346,0.9488322729155746,0.9365171321647231,0.9214423770894687,0.9031268789139948,0.8810685919264772,0.8547774487330274,0.8238233614790649,0.7878990376588327,0.7468931276627448,0.7009635502148424,0.6505951518701852,0.5966228432962615,0.540204106218499,0.4827348608808033,0.4257181810720662,0.37061048040134503,0.31867759374455057,0.2708897093199154,0.22787114229350078,0.18990473975356156,0.1569779804191848,0.1288521720708736,0.10513719474196753,0.08535923392423678,0.06901487612310668,0.055609814568915276,0.04468350824901743,0.03582258700811869,0.02866609551085166,0.022905334549119253,0.01828047295500665,0.01457549645269557,0.011612540080649315,0.009246251954262194,0.007358552703345986,0.005853965844652625,0.0046555756483110606,0.003701599544011298,0.0029425252187828873,0.0023387462587938124,0.0018586262126229953,0.0014769238576627993,0.0011735187905623427,0.0009323841492699244,0.0007407611075006744,0.0005884971225563228,0.0004675164674050307,0.0003713972419371857,0.0002950338520037076,0.00023436794032392753,0.00018617404643650397,0.00014788896443599975,0.00011747595327290658,9.331672125654421e-05,7.412552912869823e-05,5.888089837121365e-05,4.677132646941895e-05,3.7152142576736136e-05,2.9511221328776716e-05,2.3441738625207365e-05,1.862052463623455e-05],\"type\":\"scatter\"},{\"line\":{\"color\":\"#C4D600\"},\"mode\":\"lines\",\"name\":\"Amine 2 (neutral form)\",\"x\":[0.0,0.1,0.2,0.30000000000000004,0.4,0.5,0.6000000000000001,0.7000000000000001,0.8,0.9,1.0,1.1,1.2000000000000002,1.3,1.4000000000000001,1.5,1.6,1.7000000000000002,1.8,1.9000000000000001,2.0,2.1,2.2,2.3000000000000003,2.4000000000000004,2.5,2.6,2.7,2.8000000000000003,2.9000000000000004,3.0,3.1,3.2,3.3000000000000003,3.4000000000000004,3.5,3.6,3.7,3.8000000000000003,3.9000000000000004,4.0,4.1000000000000005,4.2,4.3,4.4,4.5,4.6000000000000005,4.7,4.800000000000001,4.9,5.0,5.1000000000000005,5.2,5.300000000000001,5.4,5.5,5.6000000000000005,5.7,5.800000000000001,5.9,6.0,6.1000000000000005,6.2,6.300000000000001,6.4,6.5,6.6000000000000005,6.7,6.800000000000001,6.9,7.0,7.1000000000000005,7.2,7.300000000000001,7.4,7.5,7.6000000000000005,7.7,7.800000000000001,7.9,8.0,8.1,8.200000000000001,8.3,8.4,8.5,8.6,8.700000000000001,8.8,8.9,9.0,9.1,9.200000000000001,9.3,9.4,9.5,9.600000000000001,9.700000000000001,9.8,9.9,10.0,10.100000000000001,10.200000000000001,10.3,10.4,10.5,10.600000000000001,10.700000000000001,10.8,10.9,11.0,11.100000000000001,11.200000000000001,11.3,11.4,11.5,11.600000000000001,11.700000000000001,11.8,11.9,12.0,12.100000000000001,12.200000000000001,12.3,12.4,12.5,12.600000000000001,12.700000000000001,12.8,12.9,13.0,13.100000000000001,13.200000000000001,13.3,13.4,13.5,13.600000000000001,13.700000000000001,13.8,13.9,14.0],\"y\":[2.3987257718750008e-14,3.8016801790184923e-14,6.025169311421803e-14,9.549074798026262e-14,1.5133914431232053e-13,2.398494122719029e-13,3.8012180004338506e-13,6.024247199784948e-13,9.547235083765174e-13,1.5130244071160388e-12,2.397761878124899e-12,3.799757202690412e-12,6.02133308333459e-12,9.541422058762255e-12,1.5118649080860447e-11,2.395449256950351e-11,3.7951451346103464e-11,6.012136363616144e-11,9.523086155830376e-11,1.5082099174829567e-10,2.3881653755605544e-10,3.7806338950223977e-10,5.983237777522685e-10,9.465563923903408e-10,1.4967672415031525e-09,2.3654204612420136e-09,3.735466910073124e-09,5.8936533615909395e-09,9.288150133519898e-09,1.461698216489581e-08,2.2962625820679944e-08,3.599480180866703e-08,5.627218929757292e-08,8.768437231941647e-08,1.3608690263186086e-07,2.1019272930519415e-07,3.2278846541521617e-07,4.923384417283959e-07,7.450174328979182e-07,1.1171719806992925e-06,1.65815728773876e-06,2.433453337100244e-06,3.527965968087914e-06,5.049503186106528e-06,7.132597974084062e-06,9.943095279664627e-06,1.3684159785166751e-05,1.860451548513258e-05,2.500976772286296e-05,3.327762367033791e-05,4.387780606430745e-05,5.739753204712799e-05,7.45736487092053e-05,9.633288122096503e-05,0.000123842140062979,0.00015857143785693922,0.00020237268978097646,0.00025757854141765074,0.00032712642761199986,0.0004147143710962535,0.000524996645596829,0.0006638294295525862,0.0008385790477854584,0.0010585084330575827,0.001335261137464462,0.001683466684426876,0.002121496359967106,0.002672404740069091,0.0033650992962145562,0.00423578811056516,0.005329763584184614,0.006703587091951553,0.008427744140863076,0.01058983888961804,0.013298386331034069,0.01668723299328683,0.020920582269245726,0.026198503750940096,0.03276264781271124,0.040901643874448085,0.05095530999779214,0.06331632892194919,0.07842746571524675,0.0967717885835334,0.11885288275261123,0.14516203765783092,0.17613031152885344,0.21206576818392792,0.25308037156905305,0.299016693948104,0.3493902831186233,0.40336654708256053,0.459788263195683,0.5172597227449722,0.574278024710651,0.6293868958773825,0.6813206141996456,0.7291090806602002,0.7721280491891762,0.8100947250221613,0.8430216681508922,0.8711475987939619,0.8948626567477975,0.9146406703011275,0.9309850623673203,0.9443901460623508,0.9553164666235993,0.9641773969905194,0.9713338943180339,0.9770946589952803,0.9817195229525053,0.9854245009553738,0.9883874582790357,0.9907537470082912,0.9926414466408224,0.9941460337409184,0.9953444240898867,0.9962984002906444,0.9970574746768124,0.9976612536752913,0.9981413737457676,0.9985230761160734,0.9988264811928612,0.9990676158402686,0.9992592388858972,0.9994115028732774,0.9995324835299659,0.9996286027564039,0.9997049661469495,0.9997656320590155,0.9998138259531467,0.999852111035301,0.9998825240465612,0.9999066832786389,0.9999258744708052,0.9999411191015871,0.9999532286735042,0.9999628478574066,0.9999704887786608,0.9999765582613681,0.9999813794753596],\"type\":\"scatter\"}],                        {\"template\":{\"data\":{\"histogram2dcontour\":[{\"type\":\"histogram2dcontour\",\"colorbar\":{\"outlinewidth\":0,\"ticks\":\"\"},\"colorscale\":[[0.0,\"#0d0887\"],[0.1111111111111111,\"#46039f\"],[0.2222222222222222,\"#7201a8\"],[0.3333333333333333,\"#9c179e\"],[0.4444444444444444,\"#bd3786\"],[0.5555555555555556,\"#d8576b\"],[0.6666666666666666,\"#ed7953\"],[0.7777777777777778,\"#fb9f3a\"],[0.8888888888888888,\"#fdca26\"],[1.0,\"#f0f921\"]]}],\"choropleth\":[{\"type\":\"choropleth\",\"colorbar\":{\"outlinewidth\":0,\"ticks\":\"\"}}],\"histogram2d\":[{\"type\":\"histogram2d\",\"colorbar\":{\"outlinewidth\":0,\"ticks\":\"\"},\"colorscale\":[[0.0,\"#0d0887\"],[0.1111111111111111,\"#46039f\"],[0.2222222222222222,\"#7201a8\"],[0.3333333333333333,\"#9c179e\"],[0.4444444444444444,\"#bd3786\"],[0.5555555555555556,\"#d8576b\"],[0.6666666666666666,\"#ed7953\"],[0.7777777777777778,\"#fb9f3a\"],[0.8888888888888888,\"#fdca26\"],[1.0,\"#f0f921\"]]}],\"heatmap\":[{\"type\":\"heatmap\",\"colorbar\":{\"outlinewidth\":0,\"ticks\":\"\"},\"colorscale\":[[0.0,\"#0d0887\"],[0.1111111111111111,\"#46039f\"],[0.2222222222222222,\"#7201a8\"],[0.3333333333333333,\"#9c179e\"],[0.4444444444444444,\"#bd3786\"],[0.5555555555555556,\"#d8576b\"],[0.6666666666666666,\"#ed7953\"],[0.7777777777777778,\"#fb9f3a\"],[0.8888888888888888,\"#fdca26\"],[1.0,\"#f0f921\"]]}],\"heatmapgl\":[{\"type\":\"heatmapgl\",\"colorbar\":{\"outlinewidth\":0,\"ticks\":\"\"},\"colorscale\":[[0.0,\"#0d0887\"],[0.1111111111111111,\"#46039f\"],[0.2222222222222222,\"#7201a8\"],[0.3333333333333333,\"#9c179e\"],[0.4444444444444444,\"#bd3786\"],[0.5555555555555556,\"#d8576b\"],[0.6666666666666666,\"#ed7953\"],[0.7777777777777778,\"#fb9f3a\"],[0.8888888888888888,\"#fdca26\"],[1.0,\"#f0f921\"]]}],\"contourcarpet\":[{\"type\":\"contourcarpet\",\"colorbar\":{\"outlinewidth\":0,\"ticks\":\"\"}}],\"contour\":[{\"type\":\"contour\",\"colorbar\":{\"outlinewidth\":0,\"ticks\":\"\"},\"colorscale\":[[0.0,\"#0d0887\"],[0.1111111111111111,\"#46039f\"],[0.2222222222222222,\"#7201a8\"],[0.3333333333333333,\"#9c179e\"],[0.4444444444444444,\"#bd3786\"],[0.5555555555555556,\"#d8576b\"],[0.6666666666666666,\"#ed7953\"],[0.7777777777777778,\"#fb9f3a\"],[0.8888888888888888,\"#fdca26\"],[1.0,\"#f0f921\"]]}],\"surface\":[{\"type\":\"surface\",\"colorbar\":{\"outlinewidth\":0,\"ticks\":\"\"},\"colorscale\":[[0.0,\"#0d0887\"],[0.1111111111111111,\"#46039f\"],[0.2222222222222222,\"#7201a8\"],[0.3333333333333333,\"#9c179e\"],[0.4444444444444444,\"#bd3786\"],[0.5555555555555556,\"#d8576b\"],[0.6666666666666666,\"#ed7953\"],[0.7777777777777778,\"#fb9f3a\"],[0.8888888888888888,\"#fdca26\"],[1.0,\"#f0f921\"]]}],\"mesh3d\":[{\"type\":\"mesh3d\",\"colorbar\":{\"outlinewidth\":0,\"ticks\":\"\"}}],\"scatter\":[{\"fillpattern\":{\"fillmode\":\"overlay\",\"size\":10,\"solidity\":0.2},\"type\":\"scatter\"}],\"parcoords\":[{\"type\":\"parcoords\",\"line\":{\"colorbar\":{\"outlinewidth\":0,\"ticks\":\"\"}}}],\"scatterpolargl\":[{\"type\":\"scatterpolargl\",\"marker\":{\"colorbar\":{\"outlinewidth\":0,\"ticks\":\"\"}}}],\"bar\":[{\"error_x\":{\"color\":\"#2a3f5f\"},\"error_y\":{\"color\":\"#2a3f5f\"},\"marker\":{\"line\":{\"color\":\"#E5ECF6\",\"width\":0.5},\"pattern\":{\"fillmode\":\"overlay\",\"size\":10,\"solidity\":0.2}},\"type\":\"bar\"}],\"scattergeo\":[{\"type\":\"scattergeo\",\"marker\":{\"colorbar\":{\"outlinewidth\":0,\"ticks\":\"\"}}}],\"scatterpolar\":[{\"type\":\"scatterpolar\",\"marker\":{\"colorbar\":{\"outlinewidth\":0,\"ticks\":\"\"}}}],\"histogram\":[{\"marker\":{\"pattern\":{\"fillmode\":\"overlay\",\"size\":10,\"solidity\":0.2}},\"type\":\"histogram\"}],\"scattergl\":[{\"type\":\"scattergl\",\"marker\":{\"colorbar\":{\"outlinewidth\":0,\"ticks\":\"\"}}}],\"scatter3d\":[{\"type\":\"scatter3d\",\"line\":{\"colorbar\":{\"outlinewidth\":0,\"ticks\":\"\"}},\"marker\":{\"colorbar\":{\"outlinewidth\":0,\"ticks\":\"\"}}}],\"scattermapbox\":[{\"type\":\"scattermapbox\",\"marker\":{\"colorbar\":{\"outlinewidth\":0,\"ticks\":\"\"}}}],\"scatterternary\":[{\"type\":\"scatterternary\",\"marker\":{\"colorbar\":{\"outlinewidth\":0,\"ticks\":\"\"}}}],\"scattercarpet\":[{\"type\":\"scattercarpet\",\"marker\":{\"colorbar\":{\"outlinewidth\":0,\"ticks\":\"\"}}}],\"carpet\":[{\"aaxis\":{\"endlinecolor\":\"#2a3f5f\",\"gridcolor\":\"white\",\"linecolor\":\"white\",\"minorgridcolor\":\"white\",\"startlinecolor\":\"#2a3f5f\"},\"baxis\":{\"endlinecolor\":\"#2a3f5f\",\"gridcolor\":\"white\",\"linecolor\":\"white\",\"minorgridcolor\":\"white\",\"startlinecolor\":\"#2a3f5f\"},\"type\":\"carpet\"}],\"table\":[{\"cells\":{\"fill\":{\"color\":\"#EBF0F8\"},\"line\":{\"color\":\"white\"}},\"header\":{\"fill\":{\"color\":\"#C8D4E3\"},\"line\":{\"color\":\"white\"}},\"type\":\"table\"}],\"barpolar\":[{\"marker\":{\"line\":{\"color\":\"#E5ECF6\",\"width\":0.5},\"pattern\":{\"fillmode\":\"overlay\",\"size\":10,\"solidity\":0.2}},\"type\":\"barpolar\"}],\"pie\":[{\"automargin\":true,\"type\":\"pie\"}]},\"layout\":{\"autotypenumbers\":\"strict\",\"colorway\":[\"#636efa\",\"#EF553B\",\"#00cc96\",\"#ab63fa\",\"#FFA15A\",\"#19d3f3\",\"#FF6692\",\"#B6E880\",\"#FF97FF\",\"#FECB52\"],\"font\":{\"color\":\"#2a3f5f\"},\"hovermode\":\"closest\",\"hoverlabel\":{\"align\":\"left\"},\"paper_bgcolor\":\"white\",\"plot_bgcolor\":\"#E5ECF6\",\"polar\":{\"bgcolor\":\"#E5ECF6\",\"angularaxis\":{\"gridcolor\":\"white\",\"linecolor\":\"white\",\"ticks\":\"\"},\"radialaxis\":{\"gridcolor\":\"white\",\"linecolor\":\"white\",\"ticks\":\"\"}},\"ternary\":{\"bgcolor\":\"#E5ECF6\",\"aaxis\":{\"gridcolor\":\"white\",\"linecolor\":\"white\",\"ticks\":\"\"},\"baxis\":{\"gridcolor\":\"white\",\"linecolor\":\"white\",\"ticks\":\"\"},\"caxis\":{\"gridcolor\":\"white\",\"linecolor\":\"white\",\"ticks\":\"\"}},\"coloraxis\":{\"colorbar\":{\"outlinewidth\":0,\"ticks\":\"\"}},\"colorscale\":{\"sequential\":[[0.0,\"#0d0887\"],[0.1111111111111111,\"#46039f\"],[0.2222222222222222,\"#7201a8\"],[0.3333333333333333,\"#9c179e\"],[0.4444444444444444,\"#bd3786\"],[0.5555555555555556,\"#d8576b\"],[0.6666666666666666,\"#ed7953\"],[0.7777777777777778,\"#fb9f3a\"],[0.8888888888888888,\"#fdca26\"],[1.0,\"#f0f921\"]],\"sequentialminus\":[[0.0,\"#0d0887\"],[0.1111111111111111,\"#46039f\"],[0.2222222222222222,\"#7201a8\"],[0.3333333333333333,\"#9c179e\"],[0.4444444444444444,\"#bd3786\"],[0.5555555555555556,\"#d8576b\"],[0.6666666666666666,\"#ed7953\"],[0.7777777777777778,\"#fb9f3a\"],[0.8888888888888888,\"#fdca26\"],[1.0,\"#f0f921\"]],\"diverging\":[[0,\"#8e0152\"],[0.1,\"#c51b7d\"],[0.2,\"#de77ae\"],[0.3,\"#f1b6da\"],[0.4,\"#fde0ef\"],[0.5,\"#f7f7f7\"],[0.6,\"#e6f5d0\"],[0.7,\"#b8e186\"],[0.8,\"#7fbc41\"],[0.9,\"#4d9221\"],[1,\"#276419\"]]},\"xaxis\":{\"gridcolor\":\"white\",\"linecolor\":\"white\",\"ticks\":\"\",\"title\":{\"standoff\":15},\"zerolinecolor\":\"white\",\"automargin\":true,\"zerolinewidth\":2},\"yaxis\":{\"gridcolor\":\"white\",\"linecolor\":\"white\",\"ticks\":\"\",\"title\":{\"standoff\":15},\"zerolinecolor\":\"white\",\"automargin\":true,\"zerolinewidth\":2},\"scene\":{\"xaxis\":{\"backgroundcolor\":\"#E5ECF6\",\"gridcolor\":\"white\",\"linecolor\":\"white\",\"showbackground\":true,\"ticks\":\"\",\"zerolinecolor\":\"white\",\"gridwidth\":2},\"yaxis\":{\"backgroundcolor\":\"#E5ECF6\",\"gridcolor\":\"white\",\"linecolor\":\"white\",\"showbackground\":true,\"ticks\":\"\",\"zerolinecolor\":\"white\",\"gridwidth\":2},\"zaxis\":{\"backgroundcolor\":\"#E5ECF6\",\"gridcolor\":\"white\",\"linecolor\":\"white\",\"showbackground\":true,\"ticks\":\"\",\"zerolinecolor\":\"white\",\"gridwidth\":2}},\"shapedefaults\":{\"line\":{\"color\":\"#2a3f5f\"}},\"annotationdefaults\":{\"arrowcolor\":\"#2a3f5f\",\"arrowhead\":0,\"arrowwidth\":1},\"geo\":{\"bgcolor\":\"white\",\"landcolor\":\"#E5ECF6\",\"subunitcolor\":\"white\",\"showland\":true,\"showlakes\":true,\"lakecolor\":\"white\"},\"title\":{\"x\":0.05},\"mapbox\":{\"style\":\"light\"}}},\"title\":{\"text\":\"Speciation Curve for Amine 2\",\"xanchor\":\"left\",\"yanchor\":\"top\"},\"legend\":{\"x\":0.7,\"y\":-0.35,\"traceorder\":\"normal\"},\"xaxis\":{\"title\":{\"text\":\"pH\"},\"tickmode\":\"array\",\"tickvals\":[0,2,4,6,8,10,12,14],\"ticktext\":[\"0\",\"2\",\"4\",\"6\",\"8\",\"10\",\"12\",\"14\"]},\"yaxis\":{\"title\":{\"text\":\"Species Mole Fraction\"}},\"width\":600},                        {\"responsive\": true}                    ).then(function(){\n",
       "                            \n",
       "var gd = document.getElementById('35882a7c-c4ec-4574-86a9-439d28cec06f');\n",
       "var x = new MutationObserver(function (mutations, observer) {{\n",
       "        var display = window.getComputedStyle(gd).display;\n",
       "        if (!display || display === 'none') {{\n",
       "            console.log([gd, 'removed!']);\n",
       "            Plotly.purge(gd);\n",
       "            observer.disconnect();\n",
       "        }}\n",
       "}});\n",
       "\n",
       "// Listen for the removal of the full notebook cells\n",
       "var notebookContainer = gd.closest('#notebook-container');\n",
       "if (notebookContainer) {{\n",
       "    x.observe(notebookContainer, {childList: true});\n",
       "}}\n",
       "\n",
       "// Listen for the clearing of the current output cell\n",
       "var outputEl = gd.closest('.output');\n",
       "if (outputEl) {{\n",
       "    x.observe(outputEl, {childList: true});\n",
       "}}\n",
       "\n",
       "                        })                };                });            </script>        </div>"
      ]
     },
     "metadata": {},
     "output_type": "display_data"
    },
    {
     "data": {
      "application/vnd.plotly.v1+json": {
       "config": {
        "plotlyServerURL": "https://plot.ly"
       },
       "data": [
        {
         "line": {
          "color": "#003865"
         },
         "mode": "lines",
         "name": "Aryl Bromide 1 (q= +1)",
         "type": "scatter",
         "x": [
          0,
          0.1,
          0.2,
          0.30000000000000004,
          0.4,
          0.5,
          0.6000000000000001,
          0.7000000000000001,
          0.8,
          0.9,
          1,
          1.1,
          1.2000000000000002,
          1.3,
          1.4000000000000001,
          1.5,
          1.6,
          1.7000000000000002,
          1.8,
          1.9000000000000001,
          2,
          2.1,
          2.2,
          2.3000000000000003,
          2.4000000000000004,
          2.5,
          2.6,
          2.7,
          2.8000000000000003,
          2.9000000000000004,
          3,
          3.1,
          3.2,
          3.3000000000000003,
          3.4000000000000004,
          3.5,
          3.6,
          3.7,
          3.8000000000000003,
          3.9000000000000004,
          4,
          4.1000000000000005,
          4.2,
          4.3,
          4.4,
          4.5,
          4.6000000000000005,
          4.7,
          4.800000000000001,
          4.9,
          5,
          5.1000000000000005,
          5.2,
          5.300000000000001,
          5.4,
          5.5,
          5.6000000000000005,
          5.7,
          5.800000000000001,
          5.9,
          6,
          6.1000000000000005,
          6.2,
          6.300000000000001,
          6.4,
          6.5,
          6.6000000000000005,
          6.7,
          6.800000000000001,
          6.9,
          7,
          7.1000000000000005,
          7.2,
          7.300000000000001,
          7.4,
          7.5,
          7.6000000000000005,
          7.7,
          7.800000000000001,
          7.9,
          8,
          8.1,
          8.200000000000001,
          8.3,
          8.4,
          8.5,
          8.6,
          8.700000000000001,
          8.8,
          8.9,
          9,
          9.1,
          9.200000000000001,
          9.3,
          9.4,
          9.5,
          9.600000000000001,
          9.700000000000001,
          9.8,
          9.9,
          10,
          10.100000000000001,
          10.200000000000001,
          10.3,
          10.4,
          10.5,
          10.600000000000001,
          10.700000000000001,
          10.8,
          10.9,
          11,
          11.100000000000001,
          11.200000000000001,
          11.3,
          11.4,
          11.5,
          11.600000000000001,
          11.700000000000001,
          11.8,
          11.9,
          12,
          12.100000000000001,
          12.200000000000001,
          12.3,
          12.4,
          12.5,
          12.600000000000001,
          12.700000000000001,
          12.8,
          12.9,
          13,
          13.100000000000001,
          13.200000000000001,
          13.3,
          13.4,
          13.5,
          13.600000000000001,
          13.700000000000001,
          13.8,
          13.9,
          14
         ],
         "y": [
          0.9999999990667456,
          0.9999999988251025,
          0.9999999985208916,
          0.9999999981379128,
          0.9999999976557712,
          0.9999999970487907,
          0.9999999962846478,
          0.9999999953226486,
          0.9999999941115634,
          0.9999999925868976,
          0.9999999906674572,
          0.9999999882510245,
          0.9999999852089163,
          0.999999981379129,
          0.9999999765577124,
          0.9999999704879086,
          0.9999999628464784,
          0.999999953226488,
          0.9999999411156378,
          0.9999999258689812,
          0.9999999066745786,
          0.9999998825102583,
          0.999999852089183,
          0.9999998137913211,
          0.9999997655771734,
          0.9999997048791645,
          0.999999628464909,
          0.9999995322650775,
          0.9999994111566913,
          0.9999992586903084,
          0.9999990667465702,
          0.9999988251038253,
          0.9999985208937996,
          0.9999981379163306,
          0.9999976557766801,
          0.9999970487994828,
          0.9999962846615128,
          0.9999953226704646,
          0.99999411159812,
          0.9999925869525407,
          0.9999906675440876,
          0.9999882511624875,
          0.9999852091348912,
          0.9999813794753638,
          0.9999765582613749,
          0.9999704887786712,
          0.9999628478574232,
          0.9999532286735305,
          0.9999411191016288,
          0.9999258744708712,
          0.9999066832787434,
          0.9998825240467272,
          0.999852111035564,
          0.9998138259535634,
          0.9997656320596758,
          0.9997049661479959,
          0.9996286027580622,
          0.9995324835325937,
          0.9994115028774412,
          0.9992592388924944,
          0.9990676158507203,
          0.9988264812094182,
          0.9985230761422984,
          0.9981413737872997,
          0.997661253741052,
          0.9970574747809099,
          0.9962984004553768,
          0.9953444243504701,
          0.9941460341529214,
          0.9926414472918279,
          0.9907537480361454,
          0.9883874599003024,
          0.9854245035095257,
          0.9817195269701807,
          0.977094665303013,
          0.9713339041975821,
          0.9641774124186709,
          0.9553164906282026,
          0.9443901832417965,
          0.9309851196318173,
          0.9146407579005126,
          0.8948627896440802,
          0.8711477984045551,
          0.8430219644140358,
          0.8100951586047562,
          0.7721286734685836,
          0.7291099628977524,
          0.6813218351663929,
          0.6293885472175015,
          0.5742802036545239,
          0.5172625244323759,
          0.4597917716762542,
          0.4033708266942251,
          0.34939537206612675,
          0.29902260138989156,
          0.2530870785710565,
          0.21207323192259706,
          0.17613847149442705,
          0.14517082246824003,
          0.1188622164463015,
          0.09678159570481903,
          0.07843767494302138,
          0.06332687531094768,
          0.05096613607593414,
          0.040912699896679235,
          0.03277389145458746,
          0.026209899472882152,
          0.0209321005213395,
          0.016698849375071097,
          0.01331008077659724,
          0.010601594916186027,
          0.008439548177234864,
          0.006715427889235942,
          0.0053416317030123405,
          0.004247675474416896,
          0.0033769987983110527,
          0.0026843098904322793,
          0.0021334009591298963,
          0.00169536451044327,
          0.0013471456331351057,
          0.001070372380568033,
          0.0008504142183129382,
          0.0006756261960231191,
          0.0005367435480184685,
          0.00042639762630734335,
          0.0003387293796683887,
          0.0002690810562898821,
          0.0002137505099015442,
          0.0001697955298280992,
          0.00013487809370495678,
          0.00010714045021768248,
          8.510656007717902e-05,
          6.76037269663104e-05,
          5.3700295760395325e-05,
          4.265613225692196e-05,
          3.388326749920191e-05,
          2.6914623622806874e-05,
          2.1379163816604782e-05,
          1.6982148126364782e-05,
          1.3489446858285318e-05,
          1.0715078238244154e-05
         ]
        },
        {
         "line": {
          "color": "#D0006F"
         },
         "mode": "lines",
         "name": "Aryl Bromide 1 (neutral form)",
         "type": "scatter",
         "x": [
          0,
          0.1,
          0.2,
          0.30000000000000004,
          0.4,
          0.5,
          0.6000000000000001,
          0.7000000000000001,
          0.8,
          0.9,
          1,
          1.1,
          1.2000000000000002,
          1.3,
          1.4000000000000001,
          1.5,
          1.6,
          1.7000000000000002,
          1.8,
          1.9000000000000001,
          2,
          2.1,
          2.2,
          2.3000000000000003,
          2.4000000000000004,
          2.5,
          2.6,
          2.7,
          2.8000000000000003,
          2.9000000000000004,
          3,
          3.1,
          3.2,
          3.3000000000000003,
          3.4000000000000004,
          3.5,
          3.6,
          3.7,
          3.8000000000000003,
          3.9000000000000004,
          4,
          4.1000000000000005,
          4.2,
          4.3,
          4.4,
          4.5,
          4.6000000000000005,
          4.7,
          4.800000000000001,
          4.9,
          5,
          5.1000000000000005,
          5.2,
          5.300000000000001,
          5.4,
          5.5,
          5.6000000000000005,
          5.7,
          5.800000000000001,
          5.9,
          6,
          6.1000000000000005,
          6.2,
          6.300000000000001,
          6.4,
          6.5,
          6.6000000000000005,
          6.7,
          6.800000000000001,
          6.9,
          7,
          7.1000000000000005,
          7.2,
          7.300000000000001,
          7.4,
          7.5,
          7.6000000000000005,
          7.7,
          7.800000000000001,
          7.9,
          8,
          8.1,
          8.200000000000001,
          8.3,
          8.4,
          8.5,
          8.6,
          8.700000000000001,
          8.8,
          8.9,
          9,
          9.1,
          9.200000000000001,
          9.3,
          9.4,
          9.5,
          9.600000000000001,
          9.700000000000001,
          9.8,
          9.9,
          10,
          10.100000000000001,
          10.200000000000001,
          10.3,
          10.4,
          10.5,
          10.600000000000001,
          10.700000000000001,
          10.8,
          10.9,
          11,
          11.100000000000001,
          11.200000000000001,
          11.3,
          11.4,
          11.5,
          11.600000000000001,
          11.700000000000001,
          11.8,
          11.9,
          12,
          12.100000000000001,
          12.200000000000001,
          12.3,
          12.4,
          12.5,
          12.600000000000001,
          12.700000000000001,
          12.8,
          12.9,
          13,
          13.100000000000001,
          13.200000000000001,
          13.3,
          13.4,
          13.5,
          13.600000000000001,
          13.700000000000001,
          13.8,
          13.9,
          14
         ],
         "y": [
          9.332542999260287e-10,
          1.1748975535591472e-09,
          1.479108385980448e-09,
          1.8620871331955019e-09,
          2.344228809824517e-09,
          2.951209217956754e-09,
          3.7153522771678893e-09,
          4.677351390994374e-09,
          5.888436518882214e-09,
          7.413102358055099e-09,
          9.332542920873565e-09,
          1.1748975411356889e-08,
          1.4791083662905942e-08,
          1.8620871019891864e-08,
          2.3442287603658403e-08,
          2.9512091395700338e-08,
          3.71535215293331e-08,
          4.6773511940958385e-08,
          5.888436206819068e-08,
          7.413101863468355e-08,
          9.332542137006416e-08,
          1.1748974169011213e-07,
          1.4791081693920797e-07,
          1.8620867899260858e-07,
          2.3442282657791826e-07,
          2.951208355703057e-07,
          3.7153509105879805e-07,
          4.67734922511139e-07,
          5.888433086189439e-07,
          7.413096917604528e-07,
          9.332534298342154e-07,
          1.1748961745568887e-06,
          1.479106200409822e-06,
          1.8620836693008232e-06,
          2.344223319924072e-06,
          2.951200517056194e-06,
          3.715338487180372e-06,
          4.67732953535808e-06,
          5.88840188007503e-06,
          7.4130474593291844e-06,
          9.332455912423753e-06,
          1.1748837512590658e-05,
          1.4790865108755597e-05,
          1.8620524636234664e-05,
          2.3441738625207612e-05,
          2.9511221328777143e-05,
          3.715214257673698e-05,
          4.677132646942047e-05,
          5.888089837121633e-05,
          7.412552912870343e-05,
          9.331672125655434e-05,
          0.00011747595327292685,
          0.00014788896443603957,
          0.0001861740464365823,
          0.00023436794032408325,
          0.0002950338520040177,
          0.0003713972419378041,
          0.00046751646740626274,
          0.000588497122558777,
          0.000740761107505568,
          0.0009323841492796823,
          0.0011735187905818026,
          0.001476923857701598,
          0.0018586262127003397,
          0.0023387462589479803,
          0.002942525219090113,
          0.0037015995446233597,
          0.004655575649529929,
          0.005853965847078702,
          0.007358552708171986,
          0.009246251963854726,
          0.011612540099697607,
          0.014575496490474335,
          0.018280473029819343,
          0.022905334696987033,
          0.02866609580241792,
          0.035822587581329085,
          0.04468350937179735,
          0.05560981675820356,
          0.06901488036818276,
          0.0853592420994874,
          0.1051372103559197,
          0.12885220159544492,
          0.15697803558596424,
          0.1899048413952437,
          0.2278713265314164,
          0.2708900371022476,
          0.3186781648336072,
          0.37061145278249846,
          0.42571979634547613,
          0.4827374755676241,
          0.5402082283237457,
          0.596629173305775,
          0.6506046279338732,
          0.7009773986101084,
          0.7469129214289435,
          0.7879267680774028,
          0.8238615285055729,
          0.8548291775317599,
          0.8811377835536987,
          0.903218404295181,
          0.9215623250569787,
          0.9366731246890523,
          0.9490338639240659,
          0.9590873001033208,
          0.9672261085454126,
          0.9737901005271179,
          0.9790678994786605,
          0.983301150624929,
          0.9866899192234028,
          0.9893984050838139,
          0.9915604518227651,
          0.993284572110764,
          0.9946583682969876,
          0.9957523245255832,
          0.9966230012016889,
          0.9973156901095677,
          0.99786659904087,
          0.9983046354895567,
          0.9986528543668649,
          0.9989296276194319,
          0.9991495857816871,
          0.9993243738039769,
          0.9994632564519815,
          0.9995736023736926,
          0.9996612706203316,
          0.9997309189437101,
          0.9997862494900984,
          0.9998302044701719,
          0.9998651219062951,
          0.9998928595497824,
          0.9999148934399228,
          0.9999323962730337,
          0.9999462997042396,
          0.999957343867743,
          0.9999661167325008,
          0.9999730853763772,
          0.9999786208361834,
          0.9999830178518736,
          0.9999865105531417,
          0.9999892849217618
         ]
        }
       ],
       "layout": {
        "height": 360,
        "legend": {
         "traceorder": "normal",
         "x": 0.7,
         "y": -0.35
        },
        "template": {
         "data": {
          "bar": [
           {
            "error_x": {
             "color": "#2a3f5f"
            },
            "error_y": {
             "color": "#2a3f5f"
            },
            "marker": {
             "line": {
              "color": "#E5ECF6",
              "width": 0.5
             },
             "pattern": {
              "fillmode": "overlay",
              "size": 10,
              "solidity": 0.2
             }
            },
            "type": "bar"
           }
          ],
          "barpolar": [
           {
            "marker": {
             "line": {
              "color": "#E5ECF6",
              "width": 0.5
             },
             "pattern": {
              "fillmode": "overlay",
              "size": 10,
              "solidity": 0.2
             }
            },
            "type": "barpolar"
           }
          ],
          "carpet": [
           {
            "aaxis": {
             "endlinecolor": "#2a3f5f",
             "gridcolor": "white",
             "linecolor": "white",
             "minorgridcolor": "white",
             "startlinecolor": "#2a3f5f"
            },
            "baxis": {
             "endlinecolor": "#2a3f5f",
             "gridcolor": "white",
             "linecolor": "white",
             "minorgridcolor": "white",
             "startlinecolor": "#2a3f5f"
            },
            "type": "carpet"
           }
          ],
          "choropleth": [
           {
            "colorbar": {
             "outlinewidth": 0,
             "ticks": ""
            },
            "type": "choropleth"
           }
          ],
          "contour": [
           {
            "colorbar": {
             "outlinewidth": 0,
             "ticks": ""
            },
            "colorscale": [
             [
              0,
              "#0d0887"
             ],
             [
              0.1111111111111111,
              "#46039f"
             ],
             [
              0.2222222222222222,
              "#7201a8"
             ],
             [
              0.3333333333333333,
              "#9c179e"
             ],
             [
              0.4444444444444444,
              "#bd3786"
             ],
             [
              0.5555555555555556,
              "#d8576b"
             ],
             [
              0.6666666666666666,
              "#ed7953"
             ],
             [
              0.7777777777777778,
              "#fb9f3a"
             ],
             [
              0.8888888888888888,
              "#fdca26"
             ],
             [
              1,
              "#f0f921"
             ]
            ],
            "type": "contour"
           }
          ],
          "contourcarpet": [
           {
            "colorbar": {
             "outlinewidth": 0,
             "ticks": ""
            },
            "type": "contourcarpet"
           }
          ],
          "heatmap": [
           {
            "colorbar": {
             "outlinewidth": 0,
             "ticks": ""
            },
            "colorscale": [
             [
              0,
              "#0d0887"
             ],
             [
              0.1111111111111111,
              "#46039f"
             ],
             [
              0.2222222222222222,
              "#7201a8"
             ],
             [
              0.3333333333333333,
              "#9c179e"
             ],
             [
              0.4444444444444444,
              "#bd3786"
             ],
             [
              0.5555555555555556,
              "#d8576b"
             ],
             [
              0.6666666666666666,
              "#ed7953"
             ],
             [
              0.7777777777777778,
              "#fb9f3a"
             ],
             [
              0.8888888888888888,
              "#fdca26"
             ],
             [
              1,
              "#f0f921"
             ]
            ],
            "type": "heatmap"
           }
          ],
          "heatmapgl": [
           {
            "colorbar": {
             "outlinewidth": 0,
             "ticks": ""
            },
            "colorscale": [
             [
              0,
              "#0d0887"
             ],
             [
              0.1111111111111111,
              "#46039f"
             ],
             [
              0.2222222222222222,
              "#7201a8"
             ],
             [
              0.3333333333333333,
              "#9c179e"
             ],
             [
              0.4444444444444444,
              "#bd3786"
             ],
             [
              0.5555555555555556,
              "#d8576b"
             ],
             [
              0.6666666666666666,
              "#ed7953"
             ],
             [
              0.7777777777777778,
              "#fb9f3a"
             ],
             [
              0.8888888888888888,
              "#fdca26"
             ],
             [
              1,
              "#f0f921"
             ]
            ],
            "type": "heatmapgl"
           }
          ],
          "histogram": [
           {
            "marker": {
             "pattern": {
              "fillmode": "overlay",
              "size": 10,
              "solidity": 0.2
             }
            },
            "type": "histogram"
           }
          ],
          "histogram2d": [
           {
            "colorbar": {
             "outlinewidth": 0,
             "ticks": ""
            },
            "colorscale": [
             [
              0,
              "#0d0887"
             ],
             [
              0.1111111111111111,
              "#46039f"
             ],
             [
              0.2222222222222222,
              "#7201a8"
             ],
             [
              0.3333333333333333,
              "#9c179e"
             ],
             [
              0.4444444444444444,
              "#bd3786"
             ],
             [
              0.5555555555555556,
              "#d8576b"
             ],
             [
              0.6666666666666666,
              "#ed7953"
             ],
             [
              0.7777777777777778,
              "#fb9f3a"
             ],
             [
              0.8888888888888888,
              "#fdca26"
             ],
             [
              1,
              "#f0f921"
             ]
            ],
            "type": "histogram2d"
           }
          ],
          "histogram2dcontour": [
           {
            "colorbar": {
             "outlinewidth": 0,
             "ticks": ""
            },
            "colorscale": [
             [
              0,
              "#0d0887"
             ],
             [
              0.1111111111111111,
              "#46039f"
             ],
             [
              0.2222222222222222,
              "#7201a8"
             ],
             [
              0.3333333333333333,
              "#9c179e"
             ],
             [
              0.4444444444444444,
              "#bd3786"
             ],
             [
              0.5555555555555556,
              "#d8576b"
             ],
             [
              0.6666666666666666,
              "#ed7953"
             ],
             [
              0.7777777777777778,
              "#fb9f3a"
             ],
             [
              0.8888888888888888,
              "#fdca26"
             ],
             [
              1,
              "#f0f921"
             ]
            ],
            "type": "histogram2dcontour"
           }
          ],
          "mesh3d": [
           {
            "colorbar": {
             "outlinewidth": 0,
             "ticks": ""
            },
            "type": "mesh3d"
           }
          ],
          "parcoords": [
           {
            "line": {
             "colorbar": {
              "outlinewidth": 0,
              "ticks": ""
             }
            },
            "type": "parcoords"
           }
          ],
          "pie": [
           {
            "automargin": true,
            "type": "pie"
           }
          ],
          "scatter": [
           {
            "fillpattern": {
             "fillmode": "overlay",
             "size": 10,
             "solidity": 0.2
            },
            "type": "scatter"
           }
          ],
          "scatter3d": [
           {
            "line": {
             "colorbar": {
              "outlinewidth": 0,
              "ticks": ""
             }
            },
            "marker": {
             "colorbar": {
              "outlinewidth": 0,
              "ticks": ""
             }
            },
            "type": "scatter3d"
           }
          ],
          "scattercarpet": [
           {
            "marker": {
             "colorbar": {
              "outlinewidth": 0,
              "ticks": ""
             }
            },
            "type": "scattercarpet"
           }
          ],
          "scattergeo": [
           {
            "marker": {
             "colorbar": {
              "outlinewidth": 0,
              "ticks": ""
             }
            },
            "type": "scattergeo"
           }
          ],
          "scattergl": [
           {
            "marker": {
             "colorbar": {
              "outlinewidth": 0,
              "ticks": ""
             }
            },
            "type": "scattergl"
           }
          ],
          "scattermapbox": [
           {
            "marker": {
             "colorbar": {
              "outlinewidth": 0,
              "ticks": ""
             }
            },
            "type": "scattermapbox"
           }
          ],
          "scatterpolar": [
           {
            "marker": {
             "colorbar": {
              "outlinewidth": 0,
              "ticks": ""
             }
            },
            "type": "scatterpolar"
           }
          ],
          "scatterpolargl": [
           {
            "marker": {
             "colorbar": {
              "outlinewidth": 0,
              "ticks": ""
             }
            },
            "type": "scatterpolargl"
           }
          ],
          "scatterternary": [
           {
            "marker": {
             "colorbar": {
              "outlinewidth": 0,
              "ticks": ""
             }
            },
            "type": "scatterternary"
           }
          ],
          "surface": [
           {
            "colorbar": {
             "outlinewidth": 0,
             "ticks": ""
            },
            "colorscale": [
             [
              0,
              "#0d0887"
             ],
             [
              0.1111111111111111,
              "#46039f"
             ],
             [
              0.2222222222222222,
              "#7201a8"
             ],
             [
              0.3333333333333333,
              "#9c179e"
             ],
             [
              0.4444444444444444,
              "#bd3786"
             ],
             [
              0.5555555555555556,
              "#d8576b"
             ],
             [
              0.6666666666666666,
              "#ed7953"
             ],
             [
              0.7777777777777778,
              "#fb9f3a"
             ],
             [
              0.8888888888888888,
              "#fdca26"
             ],
             [
              1,
              "#f0f921"
             ]
            ],
            "type": "surface"
           }
          ],
          "table": [
           {
            "cells": {
             "fill": {
              "color": "#EBF0F8"
             },
             "line": {
              "color": "white"
             }
            },
            "header": {
             "fill": {
              "color": "#C8D4E3"
             },
             "line": {
              "color": "white"
             }
            },
            "type": "table"
           }
          ]
         },
         "layout": {
          "annotationdefaults": {
           "arrowcolor": "#2a3f5f",
           "arrowhead": 0,
           "arrowwidth": 1
          },
          "autotypenumbers": "strict",
          "coloraxis": {
           "colorbar": {
            "outlinewidth": 0,
            "ticks": ""
           }
          },
          "colorscale": {
           "diverging": [
            [
             0,
             "#8e0152"
            ],
            [
             0.1,
             "#c51b7d"
            ],
            [
             0.2,
             "#de77ae"
            ],
            [
             0.3,
             "#f1b6da"
            ],
            [
             0.4,
             "#fde0ef"
            ],
            [
             0.5,
             "#f7f7f7"
            ],
            [
             0.6,
             "#e6f5d0"
            ],
            [
             0.7,
             "#b8e186"
            ],
            [
             0.8,
             "#7fbc41"
            ],
            [
             0.9,
             "#4d9221"
            ],
            [
             1,
             "#276419"
            ]
           ],
           "sequential": [
            [
             0,
             "#0d0887"
            ],
            [
             0.1111111111111111,
             "#46039f"
            ],
            [
             0.2222222222222222,
             "#7201a8"
            ],
            [
             0.3333333333333333,
             "#9c179e"
            ],
            [
             0.4444444444444444,
             "#bd3786"
            ],
            [
             0.5555555555555556,
             "#d8576b"
            ],
            [
             0.6666666666666666,
             "#ed7953"
            ],
            [
             0.7777777777777778,
             "#fb9f3a"
            ],
            [
             0.8888888888888888,
             "#fdca26"
            ],
            [
             1,
             "#f0f921"
            ]
           ],
           "sequentialminus": [
            [
             0,
             "#0d0887"
            ],
            [
             0.1111111111111111,
             "#46039f"
            ],
            [
             0.2222222222222222,
             "#7201a8"
            ],
            [
             0.3333333333333333,
             "#9c179e"
            ],
            [
             0.4444444444444444,
             "#bd3786"
            ],
            [
             0.5555555555555556,
             "#d8576b"
            ],
            [
             0.6666666666666666,
             "#ed7953"
            ],
            [
             0.7777777777777778,
             "#fb9f3a"
            ],
            [
             0.8888888888888888,
             "#fdca26"
            ],
            [
             1,
             "#f0f921"
            ]
           ]
          },
          "colorway": [
           "#636efa",
           "#EF553B",
           "#00cc96",
           "#ab63fa",
           "#FFA15A",
           "#19d3f3",
           "#FF6692",
           "#B6E880",
           "#FF97FF",
           "#FECB52"
          ],
          "font": {
           "color": "#2a3f5f"
          },
          "geo": {
           "bgcolor": "white",
           "lakecolor": "white",
           "landcolor": "#E5ECF6",
           "showlakes": true,
           "showland": true,
           "subunitcolor": "white"
          },
          "hoverlabel": {
           "align": "left"
          },
          "hovermode": "closest",
          "mapbox": {
           "style": "light"
          },
          "paper_bgcolor": "white",
          "plot_bgcolor": "#E5ECF6",
          "polar": {
           "angularaxis": {
            "gridcolor": "white",
            "linecolor": "white",
            "ticks": ""
           },
           "bgcolor": "#E5ECF6",
           "radialaxis": {
            "gridcolor": "white",
            "linecolor": "white",
            "ticks": ""
           }
          },
          "scene": {
           "xaxis": {
            "backgroundcolor": "#E5ECF6",
            "gridcolor": "white",
            "gridwidth": 2,
            "linecolor": "white",
            "showbackground": true,
            "ticks": "",
            "zerolinecolor": "white"
           },
           "yaxis": {
            "backgroundcolor": "#E5ECF6",
            "gridcolor": "white",
            "gridwidth": 2,
            "linecolor": "white",
            "showbackground": true,
            "ticks": "",
            "zerolinecolor": "white"
           },
           "zaxis": {
            "backgroundcolor": "#E5ECF6",
            "gridcolor": "white",
            "gridwidth": 2,
            "linecolor": "white",
            "showbackground": true,
            "ticks": "",
            "zerolinecolor": "white"
           }
          },
          "shapedefaults": {
           "line": {
            "color": "#2a3f5f"
           }
          },
          "ternary": {
           "aaxis": {
            "gridcolor": "white",
            "linecolor": "white",
            "ticks": ""
           },
           "baxis": {
            "gridcolor": "white",
            "linecolor": "white",
            "ticks": ""
           },
           "bgcolor": "#E5ECF6",
           "caxis": {
            "gridcolor": "white",
            "linecolor": "white",
            "ticks": ""
           }
          },
          "title": {
           "x": 0.05
          },
          "xaxis": {
           "automargin": true,
           "gridcolor": "white",
           "linecolor": "white",
           "ticks": "",
           "title": {
            "standoff": 15
           },
           "zerolinecolor": "white",
           "zerolinewidth": 2
          },
          "yaxis": {
           "automargin": true,
           "gridcolor": "white",
           "linecolor": "white",
           "ticks": "",
           "title": {
            "standoff": 15
           },
           "zerolinecolor": "white",
           "zerolinewidth": 2
          }
         }
        },
        "title": {
         "text": "Speciation Curve for Aryl Bromide 1",
         "xanchor": "left",
         "yanchor": "top"
        },
        "width": 600,
        "xaxis": {
         "autorange": true,
         "range": [
          0,
          14
         ],
         "tickmode": "array",
         "ticktext": [
          "0",
          "2",
          "4",
          "6",
          "8",
          "10",
          "12",
          "14"
         ],
         "tickvals": [
          0,
          2,
          4,
          6,
          8,
          10,
          12,
          14
         ],
         "title": {
          "text": "pH"
         },
         "type": "linear"
        },
        "yaxis": {
         "autorange": true,
         "range": [
          -0.05555555451860633,
          1.0555555545186062
         ],
         "title": {
          "text": "Species Mole Fraction"
         },
         "type": "linear"
        }
       }
      },
      "image/png": "[encoded data removed]",
      "text/html": [
       "<div>                            <div id=\"4919557a-9380-45bf-9589-9b297bd37e00\" class=\"plotly-graph-div\" style=\"height:525px; width:600px;\"></div>            <script type=\"text/javascript\">                require([\"plotly\"], function(Plotly) {                    window.PLOTLYENV=window.PLOTLYENV || {};                                    if (document.getElementById(\"4919557a-9380-45bf-9589-9b297bd37e00\")) {                    Plotly.newPlot(                        \"4919557a-9380-45bf-9589-9b297bd37e00\",                        [{\"line\":{\"color\":\"#003865\"},\"mode\":\"lines\",\"name\":\"Aryl Bromide 1 (q= +1)\",\"x\":[0.0,0.1,0.2,0.30000000000000004,0.4,0.5,0.6000000000000001,0.7000000000000001,0.8,0.9,1.0,1.1,1.2000000000000002,1.3,1.4000000000000001,1.5,1.6,1.7000000000000002,1.8,1.9000000000000001,2.0,2.1,2.2,2.3000000000000003,2.4000000000000004,2.5,2.6,2.7,2.8000000000000003,2.9000000000000004,3.0,3.1,3.2,3.3000000000000003,3.4000000000000004,3.5,3.6,3.7,3.8000000000000003,3.9000000000000004,4.0,4.1000000000000005,4.2,4.3,4.4,4.5,4.6000000000000005,4.7,4.800000000000001,4.9,5.0,5.1000000000000005,5.2,5.300000000000001,5.4,5.5,5.6000000000000005,5.7,5.800000000000001,5.9,6.0,6.1000000000000005,6.2,6.300000000000001,6.4,6.5,6.6000000000000005,6.7,6.800000000000001,6.9,7.0,7.1000000000000005,7.2,7.300000000000001,7.4,7.5,7.6000000000000005,7.7,7.800000000000001,7.9,8.0,8.1,8.200000000000001,8.3,8.4,8.5,8.6,8.700000000000001,8.8,8.9,9.0,9.1,9.200000000000001,9.3,9.4,9.5,9.600000000000001,9.700000000000001,9.8,9.9,10.0,10.100000000000001,10.200000000000001,10.3,10.4,10.5,10.600000000000001,10.700000000000001,10.8,10.9,11.0,11.100000000000001,11.200000000000001,11.3,11.4,11.5,11.600000000000001,11.700000000000001,11.8,11.9,12.0,12.100000000000001,12.200000000000001,12.3,12.4,12.5,12.600000000000001,12.700000000000001,12.8,12.9,13.0,13.100000000000001,13.200000000000001,13.3,13.4,13.5,13.600000000000001,13.700000000000001,13.8,13.9,14.0],\"y\":[0.9999999990667456,0.9999999988251025,0.9999999985208916,0.9999999981379128,0.9999999976557712,0.9999999970487907,0.9999999962846478,0.9999999953226486,0.9999999941115634,0.9999999925868976,0.9999999906674572,0.9999999882510245,0.9999999852089163,0.999999981379129,0.9999999765577124,0.9999999704879086,0.9999999628464784,0.999999953226488,0.9999999411156378,0.9999999258689812,0.9999999066745786,0.9999998825102583,0.999999852089183,0.9999998137913211,0.9999997655771734,0.9999997048791645,0.999999628464909,0.9999995322650775,0.9999994111566913,0.9999992586903084,0.9999990667465702,0.9999988251038253,0.9999985208937996,0.9999981379163306,0.9999976557766801,0.9999970487994828,0.9999962846615128,0.9999953226704646,0.99999411159812,0.9999925869525407,0.9999906675440876,0.9999882511624875,0.9999852091348912,0.9999813794753638,0.9999765582613749,0.9999704887786712,0.9999628478574232,0.9999532286735305,0.9999411191016288,0.9999258744708712,0.9999066832787434,0.9998825240467272,0.999852111035564,0.9998138259535634,0.9997656320596758,0.9997049661479959,0.9996286027580622,0.9995324835325937,0.9994115028774412,0.9992592388924944,0.9990676158507203,0.9988264812094182,0.9985230761422984,0.9981413737872997,0.997661253741052,0.9970574747809099,0.9962984004553768,0.9953444243504701,0.9941460341529214,0.9926414472918279,0.9907537480361454,0.9883874599003024,0.9854245035095257,0.9817195269701807,0.977094665303013,0.9713339041975821,0.9641774124186709,0.9553164906282026,0.9443901832417965,0.9309851196318173,0.9146407579005126,0.8948627896440802,0.8711477984045551,0.8430219644140358,0.8100951586047562,0.7721286734685836,0.7291099628977524,0.6813218351663929,0.6293885472175015,0.5742802036545239,0.5172625244323759,0.4597917716762542,0.4033708266942251,0.34939537206612675,0.29902260138989156,0.2530870785710565,0.21207323192259706,0.17613847149442705,0.14517082246824003,0.1188622164463015,0.09678159570481903,0.07843767494302138,0.06332687531094768,0.05096613607593414,0.040912699896679235,0.03277389145458746,0.026209899472882152,0.0209321005213395,0.016698849375071097,0.01331008077659724,0.010601594916186027,0.008439548177234864,0.006715427889235942,0.0053416317030123405,0.004247675474416896,0.0033769987983110527,0.0026843098904322793,0.0021334009591298963,0.00169536451044327,0.0013471456331351057,0.001070372380568033,0.0008504142183129382,0.0006756261960231191,0.0005367435480184685,0.00042639762630734335,0.0003387293796683887,0.0002690810562898821,0.0002137505099015442,0.0001697955298280992,0.00013487809370495678,0.00010714045021768248,8.510656007717902e-05,6.76037269663104e-05,5.3700295760395325e-05,4.265613225692196e-05,3.388326749920191e-05,2.6914623622806874e-05,2.1379163816604782e-05,1.6982148126364782e-05,1.3489446858285318e-05,1.0715078238244154e-05],\"type\":\"scatter\"},{\"line\":{\"color\":\"#D0006F\"},\"mode\":\"lines\",\"name\":\"Aryl Bromide 1 (neutral form)\",\"x\":[0.0,0.1,0.2,0.30000000000000004,0.4,0.5,0.6000000000000001,0.7000000000000001,0.8,0.9,1.0,1.1,1.2000000000000002,1.3,1.4000000000000001,1.5,1.6,1.7000000000000002,1.8,1.9000000000000001,2.0,2.1,2.2,2.3000000000000003,2.4000000000000004,2.5,2.6,2.7,2.8000000000000003,2.9000000000000004,3.0,3.1,3.2,3.3000000000000003,3.4000000000000004,3.5,3.6,3.7,3.8000000000000003,3.9000000000000004,4.0,4.1000000000000005,4.2,4.3,4.4,4.5,4.6000000000000005,4.7,4.800000000000001,4.9,5.0,5.1000000000000005,5.2,5.300000000000001,5.4,5.5,5.6000000000000005,5.7,5.800000000000001,5.9,6.0,6.1000000000000005,6.2,6.300000000000001,6.4,6.5,6.6000000000000005,6.7,6.800000000000001,6.9,7.0,7.1000000000000005,7.2,7.300000000000001,7.4,7.5,7.6000000000000005,7.7,7.800000000000001,7.9,8.0,8.1,8.200000000000001,8.3,8.4,8.5,8.6,8.700000000000001,8.8,8.9,9.0,9.1,9.200000000000001,9.3,9.4,9.5,9.600000000000001,9.700000000000001,9.8,9.9,10.0,10.100000000000001,10.200000000000001,10.3,10.4,10.5,10.600000000000001,10.700000000000001,10.8,10.9,11.0,11.100000000000001,11.200000000000001,11.3,11.4,11.5,11.600000000000001,11.700000000000001,11.8,11.9,12.0,12.100000000000001,12.200000000000001,12.3,12.4,12.5,12.600000000000001,12.700000000000001,12.8,12.9,13.0,13.100000000000001,13.200000000000001,13.3,13.4,13.5,13.600000000000001,13.700000000000001,13.8,13.9,14.0],\"y\":[9.332542999260287e-10,1.1748975535591472e-09,1.479108385980448e-09,1.8620871331955019e-09,2.344228809824517e-09,2.951209217956754e-09,3.7153522771678893e-09,4.677351390994374e-09,5.888436518882214e-09,7.413102358055099e-09,9.332542920873565e-09,1.1748975411356889e-08,1.4791083662905942e-08,1.8620871019891864e-08,2.3442287603658403e-08,2.9512091395700338e-08,3.71535215293331e-08,4.6773511940958385e-08,5.888436206819068e-08,7.413101863468355e-08,9.332542137006416e-08,1.1748974169011213e-07,1.4791081693920797e-07,1.8620867899260858e-07,2.3442282657791826e-07,2.951208355703057e-07,3.7153509105879805e-07,4.67734922511139e-07,5.888433086189439e-07,7.413096917604528e-07,9.332534298342154e-07,1.1748961745568887e-06,1.479106200409822e-06,1.8620836693008232e-06,2.344223319924072e-06,2.951200517056194e-06,3.715338487180372e-06,4.67732953535808e-06,5.88840188007503e-06,7.4130474593291844e-06,9.332455912423753e-06,1.1748837512590658e-05,1.4790865108755597e-05,1.8620524636234664e-05,2.3441738625207612e-05,2.9511221328777143e-05,3.715214257673698e-05,4.677132646942047e-05,5.888089837121633e-05,7.412552912870343e-05,9.331672125655434e-05,0.00011747595327292685,0.00014788896443603957,0.0001861740464365823,0.00023436794032408325,0.0002950338520040177,0.0003713972419378041,0.00046751646740626274,0.000588497122558777,0.000740761107505568,0.0009323841492796823,0.0011735187905818026,0.001476923857701598,0.0018586262127003397,0.0023387462589479803,0.002942525219090113,0.0037015995446233597,0.004655575649529929,0.005853965847078702,0.007358552708171986,0.009246251963854726,0.011612540099697607,0.014575496490474335,0.018280473029819343,0.022905334696987033,0.02866609580241792,0.035822587581329085,0.04468350937179735,0.05560981675820356,0.06901488036818276,0.0853592420994874,0.1051372103559197,0.12885220159544492,0.15697803558596424,0.1899048413952437,0.2278713265314164,0.2708900371022476,0.3186781648336072,0.37061145278249846,0.42571979634547613,0.4827374755676241,0.5402082283237457,0.596629173305775,0.6506046279338732,0.7009773986101084,0.7469129214289435,0.7879267680774028,0.8238615285055729,0.8548291775317599,0.8811377835536987,0.903218404295181,0.9215623250569787,0.9366731246890523,0.9490338639240659,0.9590873001033208,0.9672261085454126,0.9737901005271179,0.9790678994786605,0.983301150624929,0.9866899192234028,0.9893984050838139,0.9915604518227651,0.993284572110764,0.9946583682969876,0.9957523245255832,0.9966230012016889,0.9973156901095677,0.99786659904087,0.9983046354895567,0.9986528543668649,0.9989296276194319,0.9991495857816871,0.9993243738039769,0.9994632564519815,0.9995736023736926,0.9996612706203316,0.9997309189437101,0.9997862494900984,0.9998302044701719,0.9998651219062951,0.9998928595497824,0.9999148934399228,0.9999323962730337,0.9999462997042396,0.999957343867743,0.9999661167325008,0.9999730853763772,0.9999786208361834,0.9999830178518736,0.9999865105531417,0.9999892849217618],\"type\":\"scatter\"}],                        {\"template\":{\"data\":{\"histogram2dcontour\":[{\"type\":\"histogram2dcontour\",\"colorbar\":{\"outlinewidth\":0,\"ticks\":\"\"},\"colorscale\":[[0.0,\"#0d0887\"],[0.1111111111111111,\"#46039f\"],[0.2222222222222222,\"#7201a8\"],[0.3333333333333333,\"#9c179e\"],[0.4444444444444444,\"#bd3786\"],[0.5555555555555556,\"#d8576b\"],[0.6666666666666666,\"#ed7953\"],[0.7777777777777778,\"#fb9f3a\"],[0.8888888888888888,\"#fdca26\"],[1.0,\"#f0f921\"]]}],\"choropleth\":[{\"type\":\"choropleth\",\"colorbar\":{\"outlinewidth\":0,\"ticks\":\"\"}}],\"histogram2d\":[{\"type\":\"histogram2d\",\"colorbar\":{\"outlinewidth\":0,\"ticks\":\"\"},\"colorscale\":[[0.0,\"#0d0887\"],[0.1111111111111111,\"#46039f\"],[0.2222222222222222,\"#7201a8\"],[0.3333333333333333,\"#9c179e\"],[0.4444444444444444,\"#bd3786\"],[0.5555555555555556,\"#d8576b\"],[0.6666666666666666,\"#ed7953\"],[0.7777777777777778,\"#fb9f3a\"],[0.8888888888888888,\"#fdca26\"],[1.0,\"#f0f921\"]]}],\"heatmap\":[{\"type\":\"heatmap\",\"colorbar\":{\"outlinewidth\":0,\"ticks\":\"\"},\"colorscale\":[[0.0,\"#0d0887\"],[0.1111111111111111,\"#46039f\"],[0.2222222222222222,\"#7201a8\"],[0.3333333333333333,\"#9c179e\"],[0.4444444444444444,\"#bd3786\"],[0.5555555555555556,\"#d8576b\"],[0.6666666666666666,\"#ed7953\"],[0.7777777777777778,\"#fb9f3a\"],[0.8888888888888888,\"#fdca26\"],[1.0,\"#f0f921\"]]}],\"heatmapgl\":[{\"type\":\"heatmapgl\",\"colorbar\":{\"outlinewidth\":0,\"ticks\":\"\"},\"colorscale\":[[0.0,\"#0d0887\"],[0.1111111111111111,\"#46039f\"],[0.2222222222222222,\"#7201a8\"],[0.3333333333333333,\"#9c179e\"],[0.4444444444444444,\"#bd3786\"],[0.5555555555555556,\"#d8576b\"],[0.6666666666666666,\"#ed7953\"],[0.7777777777777778,\"#fb9f3a\"],[0.8888888888888888,\"#fdca26\"],[1.0,\"#f0f921\"]]}],\"contourcarpet\":[{\"type\":\"contourcarpet\",\"colorbar\":{\"outlinewidth\":0,\"ticks\":\"\"}}],\"contour\":[{\"type\":\"contour\",\"colorbar\":{\"outlinewidth\":0,\"ticks\":\"\"},\"colorscale\":[[0.0,\"#0d0887\"],[0.1111111111111111,\"#46039f\"],[0.2222222222222222,\"#7201a8\"],[0.3333333333333333,\"#9c179e\"],[0.4444444444444444,\"#bd3786\"],[0.5555555555555556,\"#d8576b\"],[0.6666666666666666,\"#ed7953\"],[0.7777777777777778,\"#fb9f3a\"],[0.8888888888888888,\"#fdca26\"],[1.0,\"#f0f921\"]]}],\"surface\":[{\"type\":\"surface\",\"colorbar\":{\"outlinewidth\":0,\"ticks\":\"\"},\"colorscale\":[[0.0,\"#0d0887\"],[0.1111111111111111,\"#46039f\"],[0.2222222222222222,\"#7201a8\"],[0.3333333333333333,\"#9c179e\"],[0.4444444444444444,\"#bd3786\"],[0.5555555555555556,\"#d8576b\"],[0.6666666666666666,\"#ed7953\"],[0.7777777777777778,\"#fb9f3a\"],[0.8888888888888888,\"#fdca26\"],[1.0,\"#f0f921\"]]}],\"mesh3d\":[{\"type\":\"mesh3d\",\"colorbar\":{\"outlinewidth\":0,\"ticks\":\"\"}}],\"scatter\":[{\"fillpattern\":{\"fillmode\":\"overlay\",\"size\":10,\"solidity\":0.2},\"type\":\"scatter\"}],\"parcoords\":[{\"type\":\"parcoords\",\"line\":{\"colorbar\":{\"outlinewidth\":0,\"ticks\":\"\"}}}],\"scatterpolargl\":[{\"type\":\"scatterpolargl\",\"marker\":{\"colorbar\":{\"outlinewidth\":0,\"ticks\":\"\"}}}],\"bar\":[{\"error_x\":{\"color\":\"#2a3f5f\"},\"error_y\":{\"color\":\"#2a3f5f\"},\"marker\":{\"line\":{\"color\":\"#E5ECF6\",\"width\":0.5},\"pattern\":{\"fillmode\":\"overlay\",\"size\":10,\"solidity\":0.2}},\"type\":\"bar\"}],\"scattergeo\":[{\"type\":\"scattergeo\",\"marker\":{\"colorbar\":{\"outlinewidth\":0,\"ticks\":\"\"}}}],\"scatterpolar\":[{\"type\":\"scatterpolar\",\"marker\":{\"colorbar\":{\"outlinewidth\":0,\"ticks\":\"\"}}}],\"histogram\":[{\"marker\":{\"pattern\":{\"fillmode\":\"overlay\",\"size\":10,\"solidity\":0.2}},\"type\":\"histogram\"}],\"scattergl\":[{\"type\":\"scattergl\",\"marker\":{\"colorbar\":{\"outlinewidth\":0,\"ticks\":\"\"}}}],\"scatter3d\":[{\"type\":\"scatter3d\",\"line\":{\"colorbar\":{\"outlinewidth\":0,\"ticks\":\"\"}},\"marker\":{\"colorbar\":{\"outlinewidth\":0,\"ticks\":\"\"}}}],\"scattermapbox\":[{\"type\":\"scattermapbox\",\"marker\":{\"colorbar\":{\"outlinewidth\":0,\"ticks\":\"\"}}}],\"scatterternary\":[{\"type\":\"scatterternary\",\"marker\":{\"colorbar\":{\"outlinewidth\":0,\"ticks\":\"\"}}}],\"scattercarpet\":[{\"type\":\"scattercarpet\",\"marker\":{\"colorbar\":{\"outlinewidth\":0,\"ticks\":\"\"}}}],\"carpet\":[{\"aaxis\":{\"endlinecolor\":\"#2a3f5f\",\"gridcolor\":\"white\",\"linecolor\":\"white\",\"minorgridcolor\":\"white\",\"startlinecolor\":\"#2a3f5f\"},\"baxis\":{\"endlinecolor\":\"#2a3f5f\",\"gridcolor\":\"white\",\"linecolor\":\"white\",\"minorgridcolor\":\"white\",\"startlinecolor\":\"#2a3f5f\"},\"type\":\"carpet\"}],\"table\":[{\"cells\":{\"fill\":{\"color\":\"#EBF0F8\"},\"line\":{\"color\":\"white\"}},\"header\":{\"fill\":{\"color\":\"#C8D4E3\"},\"line\":{\"color\":\"white\"}},\"type\":\"table\"}],\"barpolar\":[{\"marker\":{\"line\":{\"color\":\"#E5ECF6\",\"width\":0.5},\"pattern\":{\"fillmode\":\"overlay\",\"size\":10,\"solidity\":0.2}},\"type\":\"barpolar\"}],\"pie\":[{\"automargin\":true,\"type\":\"pie\"}]},\"layout\":{\"autotypenumbers\":\"strict\",\"colorway\":[\"#636efa\",\"#EF553B\",\"#00cc96\",\"#ab63fa\",\"#FFA15A\",\"#19d3f3\",\"#FF6692\",\"#B6E880\",\"#FF97FF\",\"#FECB52\"],\"font\":{\"color\":\"#2a3f5f\"},\"hovermode\":\"closest\",\"hoverlabel\":{\"align\":\"left\"},\"paper_bgcolor\":\"white\",\"plot_bgcolor\":\"#E5ECF6\",\"polar\":{\"bgcolor\":\"#E5ECF6\",\"angularaxis\":{\"gridcolor\":\"white\",\"linecolor\":\"white\",\"ticks\":\"\"},\"radialaxis\":{\"gridcolor\":\"white\",\"linecolor\":\"white\",\"ticks\":\"\"}},\"ternary\":{\"bgcolor\":\"#E5ECF6\",\"aaxis\":{\"gridcolor\":\"white\",\"linecolor\":\"white\",\"ticks\":\"\"},\"baxis\":{\"gridcolor\":\"white\",\"linecolor\":\"white\",\"ticks\":\"\"},\"caxis\":{\"gridcolor\":\"white\",\"linecolor\":\"white\",\"ticks\":\"\"}},\"coloraxis\":{\"colorbar\":{\"outlinewidth\":0,\"ticks\":\"\"}},\"colorscale\":{\"sequential\":[[0.0,\"#0d0887\"],[0.1111111111111111,\"#46039f\"],[0.2222222222222222,\"#7201a8\"],[0.3333333333333333,\"#9c179e\"],[0.4444444444444444,\"#bd3786\"],[0.5555555555555556,\"#d8576b\"],[0.6666666666666666,\"#ed7953\"],[0.7777777777777778,\"#fb9f3a\"],[0.8888888888888888,\"#fdca26\"],[1.0,\"#f0f921\"]],\"sequentialminus\":[[0.0,\"#0d0887\"],[0.1111111111111111,\"#46039f\"],[0.2222222222222222,\"#7201a8\"],[0.3333333333333333,\"#9c179e\"],[0.4444444444444444,\"#bd3786\"],[0.5555555555555556,\"#d8576b\"],[0.6666666666666666,\"#ed7953\"],[0.7777777777777778,\"#fb9f3a\"],[0.8888888888888888,\"#fdca26\"],[1.0,\"#f0f921\"]],\"diverging\":[[0,\"#8e0152\"],[0.1,\"#c51b7d\"],[0.2,\"#de77ae\"],[0.3,\"#f1b6da\"],[0.4,\"#fde0ef\"],[0.5,\"#f7f7f7\"],[0.6,\"#e6f5d0\"],[0.7,\"#b8e186\"],[0.8,\"#7fbc41\"],[0.9,\"#4d9221\"],[1,\"#276419\"]]},\"xaxis\":{\"gridcolor\":\"white\",\"linecolor\":\"white\",\"ticks\":\"\",\"title\":{\"standoff\":15},\"zerolinecolor\":\"white\",\"automargin\":true,\"zerolinewidth\":2},\"yaxis\":{\"gridcolor\":\"white\",\"linecolor\":\"white\",\"ticks\":\"\",\"title\":{\"standoff\":15},\"zerolinecolor\":\"white\",\"automargin\":true,\"zerolinewidth\":2},\"scene\":{\"xaxis\":{\"backgroundcolor\":\"#E5ECF6\",\"gridcolor\":\"white\",\"linecolor\":\"white\",\"showbackground\":true,\"ticks\":\"\",\"zerolinecolor\":\"white\",\"gridwidth\":2},\"yaxis\":{\"backgroundcolor\":\"#E5ECF6\",\"gridcolor\":\"white\",\"linecolor\":\"white\",\"showbackground\":true,\"ticks\":\"\",\"zerolinecolor\":\"white\",\"gridwidth\":2},\"zaxis\":{\"backgroundcolor\":\"#E5ECF6\",\"gridcolor\":\"white\",\"linecolor\":\"white\",\"showbackground\":true,\"ticks\":\"\",\"zerolinecolor\":\"white\",\"gridwidth\":2}},\"shapedefaults\":{\"line\":{\"color\":\"#2a3f5f\"}},\"annotationdefaults\":{\"arrowcolor\":\"#2a3f5f\",\"arrowhead\":0,\"arrowwidth\":1},\"geo\":{\"bgcolor\":\"white\",\"landcolor\":\"#E5ECF6\",\"subunitcolor\":\"white\",\"showland\":true,\"showlakes\":true,\"lakecolor\":\"white\"},\"title\":{\"x\":0.05},\"mapbox\":{\"style\":\"light\"}}},\"title\":{\"text\":\"Speciation Curve for Aryl Bromide 1\",\"xanchor\":\"left\",\"yanchor\":\"top\"},\"legend\":{\"x\":0.7,\"y\":-0.35,\"traceorder\":\"normal\"},\"xaxis\":{\"title\":{\"text\":\"pH\"},\"tickmode\":\"array\",\"tickvals\":[0,2,4,6,8,10,12,14],\"ticktext\":[\"0\",\"2\",\"4\",\"6\",\"8\",\"10\",\"12\",\"14\"]},\"yaxis\":{\"title\":{\"text\":\"Species Mole Fraction\"}},\"width\":600},                        {\"responsive\": true}                    ).then(function(){\n",
       "                            \n",
       "var gd = document.getElementById('4919557a-9380-45bf-9589-9b297bd37e00');\n",
       "var x = new MutationObserver(function (mutations, observer) {{\n",
       "        var display = window.getComputedStyle(gd).display;\n",
       "        if (!display || display === 'none') {{\n",
       "            console.log([gd, 'removed!']);\n",
       "            Plotly.purge(gd);\n",
       "            observer.disconnect();\n",
       "        }}\n",
       "}});\n",
       "\n",
       "// Listen for the removal of the full notebook cells\n",
       "var notebookContainer = gd.closest('#notebook-container');\n",
       "if (notebookContainer) {{\n",
       "    x.observe(notebookContainer, {childList: true});\n",
       "}}\n",
       "\n",
       "// Listen for the clearing of the current output cell\n",
       "var outputEl = gd.closest('.output');\n",
       "if (outputEl) {{\n",
       "    x.observe(outputEl, {childList: true});\n",
       "}}\n",
       "\n",
       "                        })                };                });            </script>        </div>"
      ]
     },
     "metadata": {},
     "output_type": "display_data"
    }
   ],
   "source": [
    "# generate speciation curves\n",
    "for compound in compounds_panel_values.values():\n",
    "    if compound.get('Isolate'):\n",
    "        fig_1 = PlotSpecies(compound)\n",
    "        display(fig_1)\n",
    "\n",
    "    elif compound.get('Impurity'):\n",
    "        fig_1 = PlotSpecies(compound)\n",
    "        display(fig_1)"
   ]
  },
  {
   "cell_type": "code",
   "execution_count": 24,
   "id": "38965454-a72a-496d-85cc-7d76cd9712c3",
   "metadata": {},
   "outputs": [
    {
     "data": {
      "application/vnd.plotly.v1+json": {
       "config": {
        "plotlyServerURL": "https://plot.ly"
       },
       "data": [
        {
         "hovertemplate": "pH: %{x:.2f}, Frac_ex: %{y:.2f}",
         "line": {
          "color": "#003865"
         },
         "mode": "lines",
         "name": "Extraction of Product 3",
         "type": "scatter",
         "x": [
          0,
          0.1,
          0.2,
          0.30000000000000004,
          0.4,
          0.5,
          0.6000000000000001,
          0.7000000000000001,
          0.8,
          0.9,
          1,
          1.1,
          1.2000000000000002,
          1.3,
          1.4000000000000001,
          1.5,
          1.6,
          1.7000000000000002,
          1.8,
          1.9000000000000001,
          2,
          2.1,
          2.2,
          2.3000000000000003,
          2.4000000000000004,
          2.5,
          2.6,
          2.7,
          2.8000000000000003,
          2.9000000000000004,
          3,
          3.1,
          3.2,
          3.3000000000000003,
          3.4000000000000004,
          3.5,
          3.6,
          3.7,
          3.8000000000000003,
          3.9000000000000004,
          4,
          4.1000000000000005,
          4.2,
          4.3,
          4.4,
          4.5,
          4.6000000000000005,
          4.7,
          4.800000000000001,
          4.9,
          5,
          5.1000000000000005,
          5.2,
          5.300000000000001,
          5.4,
          5.5,
          5.6000000000000005,
          5.7,
          5.800000000000001,
          5.9,
          6,
          6.1000000000000005,
          6.2,
          6.300000000000001,
          6.4,
          6.5,
          6.6000000000000005,
          6.7,
          6.800000000000001,
          6.9,
          7,
          7.1000000000000005,
          7.2,
          7.300000000000001,
          7.4,
          7.5,
          7.6000000000000005,
          7.7,
          7.800000000000001,
          7.9,
          8,
          8.1,
          8.200000000000001,
          8.3,
          8.4,
          8.5,
          8.6,
          8.700000000000001,
          8.8,
          8.9,
          9,
          9.1,
          9.200000000000001,
          9.3,
          9.4,
          9.5,
          9.600000000000001,
          9.700000000000001,
          9.8,
          9.9,
          10,
          10.100000000000001,
          10.200000000000001,
          10.3,
          10.4,
          10.5,
          10.600000000000001,
          10.700000000000001,
          10.8,
          10.9,
          11,
          11.100000000000001,
          11.200000000000001,
          11.3,
          11.4,
          11.5,
          11.600000000000001,
          11.700000000000001,
          11.8,
          11.9,
          12,
          12.100000000000001,
          12.200000000000001,
          12.3,
          12.4,
          12.5,
          12.600000000000001,
          12.700000000000001,
          12.8,
          12.9,
          13,
          13.100000000000001,
          13.200000000000001,
          13.3,
          13.4,
          13.5,
          13.600000000000001,
          13.700000000000001,
          13.8,
          13.9,
          14
         ],
         "y": [
          0.9999999999999996,
          0.9999999999999991,
          0.9999999999999982,
          0.9999999999999962,
          0.9999999999999927,
          0.9999999999999851,
          0.9999999999999705,
          0.9999999999999412,
          0.9999999999998828,
          0.999999999999766,
          0.9999999999995333,
          0.999999999999069,
          0.9999999999981428,
          0.9999999999962961,
          0.9999999999926137,
          0.999999999985272,
          0.9999999999706375,
          0.9999999999414744,
          0.9999999998833766,
          0.9999999997676827,
          0.99999999953741,
          0.999999999079372,
          0.9999999981689998,
          0.9999999963613733,
          0.9999999927765735,
          0.9999999856782353,
          0.9999999716493432,
          0.9999999439882756,
          0.9999998896061564,
          0.9999997830690976,
          0.9999995752591334,
          0.9999991720210771,
          0.9999983944518293,
          0.9999969061147336,
          0.9999940818117689,
          0.9999887752546621,
          0.9999789156466954,
          0.9999608209052713,
          0.9999280505861391,
          0.9998695225929773,
          0.9997664647361335,
          0.999587532932957,
          0.9992810524305851,
          0.99876275527165,
          0.9978965037903809,
          0.9964642088140238,
          0.9941194313634643,
          0.9903171960369567,
          0.984211254756322,
          0.974512131406688,
          0.959311345623999,
          0.9359125019419534,
          0.9007876271159327,
          0.8499029516870676,
          0.7797576744574881,
          0.68929691356322,
          0.5820644089022536,
          0.4668661628280148,
          0.355423148960404,
          0.2579766960361381,
          0.17998580945784723,
          0.12184724373008124,
          0.08074680236407131,
          0.05275731146936901,
          0.03416986812514212,
          0.02202523263724162,
          0.01416948118262964,
          0.009117288109919498,
          0.005877358971773574,
          0.0038012144711458812,
          0.002469770767812655,
          0.0016141520714318665,
          0.0010625609355257078,
          0.0007054509121224407,
          0.0004730117798750323,
          0.0003207354590161675,
          0.0002202080616008596,
          0.00015325228575008014,
          0.00010820634361651313,
          7.756118801896412e-05,
          5.6459835367470594e-05,
          4.174344855458173e-05,
          3.1344159821307925e-05,
          2.3897880509932153e-05,
          1.8496800010647274e-05,
          1.4530698586401896e-05,
          1.1584823897091521e-05,
          9.373870360885104e-06,
          7.699064777189872e-06,
          6.420090101628472e-06,
          5.436577049340253e-06,
          4.6757958200411e-06,
          4.084389469985048e-06,
          3.6227603563650005e-06,
          3.2612123444684843e-06,
          2.977265792304463e-06,
          2.75376411258348e-06,
          2.5775207777265647e-06,
          2.438339882287108e-06,
          2.3282982683518633e-06,
          2.2412132307519494e-06,
          2.1722436345155117e-06,
          2.1175881726545203e-06,
          2.0742552121679848e-06,
          2.039885988208262e-06,
          2.0126179555177476e-06,
          1.990978638027264e-06,
          1.9738028207340113e-06,
          1.960167725705094e-06,
          1.949342121743573e-06,
          1.940746280088717e-06,
          1.9339204054386915e-06,
          1.92849971083422e-06,
          1.924194714218115e-06,
          1.920775647555803e-06,
          1.9180601104924673e-06,
          1.9159032872383702e-06,
          1.9141901906659966e-06,
          1.9128295111057518e-06,
          1.911748736282661e-06,
          1.9108902787375936e-06,
          1.9102084021220093e-06,
          1.909666781177219e-06,
          1.9092365645098536e-06,
          1.9088948364009193e-06,
          1.9086233953566226e-06,
          1.908407784116152e-06,
          1.9082365193104793e-06,
          1.9081004796538787e-06,
          1.907992420027299e-06,
          1.9079065855389955e-06,
          1.9078384049859313e-06,
          1.9077842473766085e-06,
          1.9077412285398145e-06,
          1.9077070575144938e-06,
          1.9076799145366845e-06,
          1.907658354123487e-06,
          1.9076412280914353e-06,
          1.907627624408769e-06,
          1.907616818624669e-06,
          1.9076082352885003e-06
         ]
        },
        {
         "hovertemplate": "pH: %{x:.2f}, Frac_ex: %{y:.2f}",
         "line": {
          "color": "#D0006F"
         },
         "mode": "lines",
         "name": "Extraction of Amine 2",
         "type": "scatter",
         "x": [
          0,
          0.1,
          0.2,
          0.30000000000000004,
          0.4,
          0.5,
          0.6000000000000001,
          0.7000000000000001,
          0.8,
          0.9,
          1,
          1.1,
          1.2000000000000002,
          1.3,
          1.4000000000000001,
          1.5,
          1.6,
          1.7000000000000002,
          1.8,
          1.9000000000000001,
          2,
          2.1,
          2.2,
          2.3000000000000003,
          2.4000000000000004,
          2.5,
          2.6,
          2.7,
          2.8000000000000003,
          2.9000000000000004,
          3,
          3.1,
          3.2,
          3.3000000000000003,
          3.4000000000000004,
          3.5,
          3.6,
          3.7,
          3.8000000000000003,
          3.9000000000000004,
          4,
          4.1000000000000005,
          4.2,
          4.3,
          4.4,
          4.5,
          4.6000000000000005,
          4.7,
          4.800000000000001,
          4.9,
          5,
          5.1000000000000005,
          5.2,
          5.300000000000001,
          5.4,
          5.5,
          5.6000000000000005,
          5.7,
          5.800000000000001,
          5.9,
          6,
          6.1000000000000005,
          6.2,
          6.300000000000001,
          6.4,
          6.5,
          6.6000000000000005,
          6.7,
          6.800000000000001,
          6.9,
          7,
          7.1000000000000005,
          7.2,
          7.300000000000001,
          7.4,
          7.5,
          7.6000000000000005,
          7.7,
          7.800000000000001,
          7.9,
          8,
          8.1,
          8.200000000000001,
          8.3,
          8.4,
          8.5,
          8.6,
          8.700000000000001,
          8.8,
          8.9,
          9,
          9.1,
          9.200000000000001,
          9.3,
          9.4,
          9.5,
          9.600000000000001,
          9.700000000000001,
          9.8,
          9.9,
          10,
          10.100000000000001,
          10.200000000000001,
          10.3,
          10.4,
          10.5,
          10.600000000000001,
          10.700000000000001,
          10.8,
          10.9,
          11,
          11.100000000000001,
          11.200000000000001,
          11.3,
          11.4,
          11.5,
          11.600000000000001,
          11.700000000000001,
          11.8,
          11.9,
          12,
          12.100000000000001,
          12.200000000000001,
          12.3,
          12.4,
          12.5,
          12.600000000000001,
          12.700000000000001,
          12.8,
          12.9,
          13,
          13.100000000000001,
          13.200000000000001,
          13.3,
          13.4,
          13.5,
          13.600000000000001,
          13.700000000000001,
          13.8,
          13.9,
          14
         ],
         "y": [
          0.9999999999999392,
          0.9999999999999036,
          0.9999999999998472,
          0.999999999999758,
          0.9999999999996165,
          0.9999999999993923,
          0.9999999999990368,
          0.9999999999984734,
          0.9999999999975808,
          0.9999999999961662,
          0.9999999999939244,
          0.9999999999903719,
          0.9999999999847429,
          0.9999999999758233,
          0.9999999999616915,
          0.9999999999393026,
          0.9999999999038363,
          0.9999999998476607,
          0.9999999997586981,
          0.9999999996178406,
          0.999999999394872,
          0.9999999990420398,
          0.9999999984839307,
          0.9999999976015577,
          0.9999999962074,
          0.9999999940063535,
          0.9999999905348463,
          0.9999999850663022,
          0.9999999764651196,
          0.9999999629626009,
          0.9999999418159022,
          0.9999999087941852,
          0.9999998574141168,
          0.9999997778200417,
          0.9999996551748295,
          0.9999994674011331,
          0.9999991820995785,
          0.9999987524844005,
          0.999998112232977,
          0.9999971692495473,
          0.9999957984776383,
          0.9999938340056144,
          0.9999910607046821,
          0.9999872054247201,
          0.9999819273150885,
          0.9999748062138069,
          0.9999653274439981,
          0.9999528609667533,
          0.9999366327416496,
          0.9999156862379995,
          0.9998888320999444,
          0.9998545837833823,
          0.9998110764418571,
          0.9997559654406557,
          0.9996862996750498,
          0.9995983634012512,
          0.9994874785552234,
          0.9993477574881038,
          0.999171793610958,
          0.998950274527645,
          0.9986714987597287,
          0.998320773071476,
          0.9978796626734997,
          0.9973250612956073,
          0.9966280425009358,
          0.9957524481500247,
          0.9946531655192403,
          0.9932740427966907,
          0.9915453960899356,
          0.9893810737319036,
          0.9866750716919268,
          0.9832977461614746,
          0.9790917580532894,
          0.9738680246608942,
          0.9674021633082595,
          0.9594322050853483,
          0.9496587360408045,
          0.9377490610287667,
          0.9233473977896082,
          0.9060933229290774,
          0.8856504229905935,
          0.8617459787475451,
          0.8342201834594539,
          0.8030798065755435,
          0.7685469519709779,
          0.7310901237226448,
          0.6914243987050711,
          0.6504720079126728,
          0.6092840982158787,
          0.5689360700679617,
          0.5304177619253471,
          0.4945415604268349,
          0.4618853311773073,
          0.4327759925899021,
          0.4073086376633507,
          0.3853892932650419,
          0.3667878441999789,
          0.351190056006288,
          0.33824177178228676,
          0.32758236326993007,
          0.3188674143607137,
          0.31178222959634905,
          0.3060483525656321,
          0.30142523325181736,
          0.2977088296474131,
          0.2947284873904893,
          0.2923430304712514,
          0.29043666444955035,
          0.28891504903964477,
          0.28770172849850956,
          0.2867349991131257,
          0.28596522669348773,
          0.28535258969565175,
          0.28486520516687996,
          0.28447758788322647,
          0.2841693929671453,
          0.2839243957831235,
          0.28372966806238353,
          0.28357491484841235,
          0.2834519423404483,
          0.28335423171765206,
          0.28327659841921965,
          0.28321492011126953,
          0.28316591972448973,
          0.28312699255937723,
          0.2830960686001003,
          0.2830715029248363,
          0.2830519885156164,
          0.28303648691233346,
          0.283024173073461,
          0.28301439154214175,
          0.2830066216054418,
          0.2830004496053306,
          0.2829955469356554,
          0.2829916525589284,
          0.2829885591153908,
          0.2829861018868248,
          0.28298415002879385,
          0.2829825996052769,
          0.2829813680553235,
          0.28298038979740825
         ]
        },
        {
         "hovertemplate": "pH: %{x:.2f}, Frac_ex: %{y:.2f}",
         "line": {
          "color": "#830051"
         },
         "mode": "lines",
         "name": "Extraction of Aryl Bromide 1",
         "type": "scatter",
         "x": [
          0,
          0.1,
          0.2,
          0.30000000000000004,
          0.4,
          0.5,
          0.6000000000000001,
          0.7000000000000001,
          0.8,
          0.9,
          1,
          1.1,
          1.2000000000000002,
          1.3,
          1.4000000000000001,
          1.5,
          1.6,
          1.7000000000000002,
          1.8,
          1.9000000000000001,
          2,
          2.1,
          2.2,
          2.3000000000000003,
          2.4000000000000004,
          2.5,
          2.6,
          2.7,
          2.8000000000000003,
          2.9000000000000004,
          3,
          3.1,
          3.2,
          3.3000000000000003,
          3.4000000000000004,
          3.5,
          3.6,
          3.7,
          3.8000000000000003,
          3.9000000000000004,
          4,
          4.1000000000000005,
          4.2,
          4.3,
          4.4,
          4.5,
          4.6000000000000005,
          4.7,
          4.800000000000001,
          4.9,
          5,
          5.1000000000000005,
          5.2,
          5.300000000000001,
          5.4,
          5.5,
          5.6000000000000005,
          5.7,
          5.800000000000001,
          5.9,
          6,
          6.1000000000000005,
          6.2,
          6.300000000000001,
          6.4,
          6.5,
          6.6000000000000005,
          6.7,
          6.800000000000001,
          6.9,
          7,
          7.1000000000000005,
          7.2,
          7.300000000000001,
          7.4,
          7.5,
          7.6000000000000005,
          7.7,
          7.800000000000001,
          7.9,
          8,
          8.1,
          8.200000000000001,
          8.3,
          8.4,
          8.5,
          8.6,
          8.700000000000001,
          8.8,
          8.9,
          9,
          9.1,
          9.200000000000001,
          9.3,
          9.4,
          9.5,
          9.600000000000001,
          9.700000000000001,
          9.8,
          9.9,
          10,
          10.100000000000001,
          10.200000000000001,
          10.3,
          10.4,
          10.5,
          10.600000000000001,
          10.700000000000001,
          10.8,
          10.9,
          11,
          11.100000000000001,
          11.200000000000001,
          11.3,
          11.4,
          11.5,
          11.600000000000001,
          11.700000000000001,
          11.8,
          11.9,
          12,
          12.100000000000001,
          12.200000000000001,
          12.3,
          12.4,
          12.5,
          12.600000000000001,
          12.700000000000001,
          12.8,
          12.9,
          13,
          13.100000000000001,
          13.200000000000001,
          13.3,
          13.4,
          13.5,
          13.600000000000001,
          13.700000000000001,
          13.8,
          13.9,
          14
         ],
         "y": [
          0.9995063721697356,
          0.9993786387985696,
          0.9992178784264258,
          0.999015566635025,
          0.9987609876390376,
          0.9984406761036865,
          0.9980377197910619,
          0.9975308900980345,
          0.9968935607977606,
          0.9960923678034912,
          0.9950855549004556,
          0.9938209428881493,
          0.9922334538174592,
          0.9902421203542722,
          0.9877465166051009,
          0.9846225670328728,
          0.9807177334445255,
          0.9758456594866719,
          0.9697804853392753,
          0.9622512544644789,
          0.9529371433645384,
          0.9414646731801454,
          0.9274086073912472,
          0.910298855203894,
          0.8896362522089131,
          0.8649203148832918,
          0.835691543438271,
          0.801589047702885,
          0.7624207438295615,
          0.7182381372584261,
          0.6694017715298453,
          0.6166190672283602,
          0.56093661742556,
          0.5036764360697539,
          0.4463196790292003,
          0.3903574556672078,
          0.3371395232839601,
          0.28775240061364454,
          0.24294836853990173,
          0.20313095343015705,
          0.16838786839081693,
          0.13855400632970416,
          0.11328592516304525,
          0.09213319922090316,
          0.07459789834477198,
          0.06017885999990221,
          0.048401181104663175,
          0.038833356829665974,
          0.031095148341374893,
          0.024859105269886984,
          0.019848140565725446,
          0.01583093845557525,
          0.012616417837722662,
          0.010048029841083982,
          0.007998344823033294,
          0.0063641634768819,
          0.005062245081506296,
          0.004025660687387527,
          0.003200731888745651,
          0.002544493173325264,
          0.0020226081416874512,
          0.0016076707772172381,
          0.0012778283386771403,
          0.0010156698208508745,
          0.0008073318066543645,
          0.0006417811023208106,
          0.0005102404040294426,
          0.0004057292332906485,
          0.0003226974824849335,
          0.00025673318749831834,
          0.00020432968135128093,
          0.00016270018163614948,
          0.00012963022398681487,
          0.00010336026388639975,
          8.249230910053129e-05,
          6.591568266741454e-05,
          5.274800857119682e-05,
          4.228830610514336e-05,
          3.397971316611624e-05,
          2.7379864807670354e-05,
          2.213735682663607e-05,
          1.7973045542905465e-05,
          1.46651907948549e-05,
          1.2037652776453734e-05,
          9.950515300352366e-06,
          8.292636864501265e-06,
          6.975733295635837e-06,
          5.929677136673605e-06,
          5.098763634895305e-06,
          4.438744595770944e-06,
          3.914472216645164e-06,
          3.49802747146141e-06,
          3.167233404976441e-06,
          2.904474182126121e-06,
          2.6957570140764187e-06,
          2.5299670123331466e-06,
          2.3982752937375027e-06,
          2.293668818659242e-06,
          2.2105769263733505e-06,
          2.1445746804134286e-06,
          2.092147226683266e-06,
          2.0505026159930936e-06,
          2.0174231234259492e-06,
          1.9911471469298884e-06,
          1.970275395920058e-06,
          1.9536963741639163e-06,
          1.9405271886871443e-06,
          1.9300665325874395e-06,
          1.9217573379377405e-06,
          1.915157109921259e-06,
          1.909914362390059e-06,
          1.9057498999593204e-06,
          1.9024419498434176e-06,
          1.8998143516517002e-06,
          1.897727176208668e-06,
          1.8960692738172358e-06,
          1.8947523551333864e-06,
          1.893706289437497e-06,
          1.8928753699183157e-06,
          1.8922153470824628e-06,
          1.891691072307761e-06,
          1.8912746260510696e-06,
          1.8909438310308875e-06,
          1.8906810712062947e-06,
          1.8904723536585712e-06,
          1.89030656341727e-06,
          1.890174871547523e-06,
          1.890070264977075e-06,
          1.8899871730246148e-06,
          1.8899211707406876e-06,
          1.8898687432630013e-06,
          1.889827098637196e-06,
          1.8897940191350921e-06,
          1.8897677431525785e-06,
          1.8897468713977721e-06,
          1.8897302923736202e-06,
          1.8897171231866317e-06,
          1.8897066625295787e-06,
          1.889698353334327e-06,
          1.8896917531059311e-06,
          1.8896865103581603e-06
         ]
        }
       ],
       "layout": {
        "height": 360,
        "legend": {
         "traceorder": "normal",
         "x": 0.58,
         "y": -0.35
        },
        "shapes": [
         {
          "line": {
           "color": "#F0AB00",
           "dash": "dash"
          },
          "type": "line",
          "x0": 7,
          "x1": 7,
          "xref": "x",
          "y0": 0,
          "y1": 1,
          "yref": "y domain"
         }
        ],
        "template": {
         "data": {
          "bar": [
           {
            "error_x": {
             "color": "#2a3f5f"
            },
            "error_y": {
             "color": "#2a3f5f"
            },
            "marker": {
             "line": {
              "color": "#E5ECF6",
              "width": 0.5
             },
             "pattern": {
              "fillmode": "overlay",
              "size": 10,
              "solidity": 0.2
             }
            },
            "type": "bar"
           }
          ],
          "barpolar": [
           {
            "marker": {
             "line": {
              "color": "#E5ECF6",
              "width": 0.5
             },
             "pattern": {
              "fillmode": "overlay",
              "size": 10,
              "solidity": 0.2
             }
            },
            "type": "barpolar"
           }
          ],
          "carpet": [
           {
            "aaxis": {
             "endlinecolor": "#2a3f5f",
             "gridcolor": "white",
             "linecolor": "white",
             "minorgridcolor": "white",
             "startlinecolor": "#2a3f5f"
            },
            "baxis": {
             "endlinecolor": "#2a3f5f",
             "gridcolor": "white",
             "linecolor": "white",
             "minorgridcolor": "white",
             "startlinecolor": "#2a3f5f"
            },
            "type": "carpet"
           }
          ],
          "choropleth": [
           {
            "colorbar": {
             "outlinewidth": 0,
             "ticks": ""
            },
            "type": "choropleth"
           }
          ],
          "contour": [
           {
            "colorbar": {
             "outlinewidth": 0,
             "ticks": ""
            },
            "colorscale": [
             [
              0,
              "#0d0887"
             ],
             [
              0.1111111111111111,
              "#46039f"
             ],
             [
              0.2222222222222222,
              "#7201a8"
             ],
             [
              0.3333333333333333,
              "#9c179e"
             ],
             [
              0.4444444444444444,
              "#bd3786"
             ],
             [
              0.5555555555555556,
              "#d8576b"
             ],
             [
              0.6666666666666666,
              "#ed7953"
             ],
             [
              0.7777777777777778,
              "#fb9f3a"
             ],
             [
              0.8888888888888888,
              "#fdca26"
             ],
             [
              1,
              "#f0f921"
             ]
            ],
            "type": "contour"
           }
          ],
          "contourcarpet": [
           {
            "colorbar": {
             "outlinewidth": 0,
             "ticks": ""
            },
            "type": "contourcarpet"
           }
          ],
          "heatmap": [
           {
            "colorbar": {
             "outlinewidth": 0,
             "ticks": ""
            },
            "colorscale": [
             [
              0,
              "#0d0887"
             ],
             [
              0.1111111111111111,
              "#46039f"
             ],
             [
              0.2222222222222222,
              "#7201a8"
             ],
             [
              0.3333333333333333,
              "#9c179e"
             ],
             [
              0.4444444444444444,
              "#bd3786"
             ],
             [
              0.5555555555555556,
              "#d8576b"
             ],
             [
              0.6666666666666666,
              "#ed7953"
             ],
             [
              0.7777777777777778,
              "#fb9f3a"
             ],
             [
              0.8888888888888888,
              "#fdca26"
             ],
             [
              1,
              "#f0f921"
             ]
            ],
            "type": "heatmap"
           }
          ],
          "heatmapgl": [
           {
            "colorbar": {
             "outlinewidth": 0,
             "ticks": ""
            },
            "colorscale": [
             [
              0,
              "#0d0887"
             ],
             [
              0.1111111111111111,
              "#46039f"
             ],
             [
              0.2222222222222222,
              "#7201a8"
             ],
             [
              0.3333333333333333,
              "#9c179e"
             ],
             [
              0.4444444444444444,
              "#bd3786"
             ],
             [
              0.5555555555555556,
              "#d8576b"
             ],
             [
              0.6666666666666666,
              "#ed7953"
             ],
             [
              0.7777777777777778,
              "#fb9f3a"
             ],
             [
              0.8888888888888888,
              "#fdca26"
             ],
             [
              1,
              "#f0f921"
             ]
            ],
            "type": "heatmapgl"
           }
          ],
          "histogram": [
           {
            "marker": {
             "pattern": {
              "fillmode": "overlay",
              "size": 10,
              "solidity": 0.2
             }
            },
            "type": "histogram"
           }
          ],
          "histogram2d": [
           {
            "colorbar": {
             "outlinewidth": 0,
             "ticks": ""
            },
            "colorscale": [
             [
              0,
              "#0d0887"
             ],
             [
              0.1111111111111111,
              "#46039f"
             ],
             [
              0.2222222222222222,
              "#7201a8"
             ],
             [
              0.3333333333333333,
              "#9c179e"
             ],
             [
              0.4444444444444444,
              "#bd3786"
             ],
             [
              0.5555555555555556,
              "#d8576b"
             ],
             [
              0.6666666666666666,
              "#ed7953"
             ],
             [
              0.7777777777777778,
              "#fb9f3a"
             ],
             [
              0.8888888888888888,
              "#fdca26"
             ],
             [
              1,
              "#f0f921"
             ]
            ],
            "type": "histogram2d"
           }
          ],
          "histogram2dcontour": [
           {
            "colorbar": {
             "outlinewidth": 0,
             "ticks": ""
            },
            "colorscale": [
             [
              0,
              "#0d0887"
             ],
             [
              0.1111111111111111,
              "#46039f"
             ],
             [
              0.2222222222222222,
              "#7201a8"
             ],
             [
              0.3333333333333333,
              "#9c179e"
             ],
             [
              0.4444444444444444,
              "#bd3786"
             ],
             [
              0.5555555555555556,
              "#d8576b"
             ],
             [
              0.6666666666666666,
              "#ed7953"
             ],
             [
              0.7777777777777778,
              "#fb9f3a"
             ],
             [
              0.8888888888888888,
              "#fdca26"
             ],
             [
              1,
              "#f0f921"
             ]
            ],
            "type": "histogram2dcontour"
           }
          ],
          "mesh3d": [
           {
            "colorbar": {
             "outlinewidth": 0,
             "ticks": ""
            },
            "type": "mesh3d"
           }
          ],
          "parcoords": [
           {
            "line": {
             "colorbar": {
              "outlinewidth": 0,
              "ticks": ""
             }
            },
            "type": "parcoords"
           }
          ],
          "pie": [
           {
            "automargin": true,
            "type": "pie"
           }
          ],
          "scatter": [
           {
            "fillpattern": {
             "fillmode": "overlay",
             "size": 10,
             "solidity": 0.2
            },
            "type": "scatter"
           }
          ],
          "scatter3d": [
           {
            "line": {
             "colorbar": {
              "outlinewidth": 0,
              "ticks": ""
             }
            },
            "marker": {
             "colorbar": {
              "outlinewidth": 0,
              "ticks": ""
             }
            },
            "type": "scatter3d"
           }
          ],
          "scattercarpet": [
           {
            "marker": {
             "colorbar": {
              "outlinewidth": 0,
              "ticks": ""
             }
            },
            "type": "scattercarpet"
           }
          ],
          "scattergeo": [
           {
            "marker": {
             "colorbar": {
              "outlinewidth": 0,
              "ticks": ""
             }
            },
            "type": "scattergeo"
           }
          ],
          "scattergl": [
           {
            "marker": {
             "colorbar": {
              "outlinewidth": 0,
              "ticks": ""
             }
            },
            "type": "scattergl"
           }
          ],
          "scattermapbox": [
           {
            "marker": {
             "colorbar": {
              "outlinewidth": 0,
              "ticks": ""
             }
            },
            "type": "scattermapbox"
           }
          ],
          "scatterpolar": [
           {
            "marker": {
             "colorbar": {
              "outlinewidth": 0,
              "ticks": ""
             }
            },
            "type": "scatterpolar"
           }
          ],
          "scatterpolargl": [
           {
            "marker": {
             "colorbar": {
              "outlinewidth": 0,
              "ticks": ""
             }
            },
            "type": "scatterpolargl"
           }
          ],
          "scatterternary": [
           {
            "marker": {
             "colorbar": {
              "outlinewidth": 0,
              "ticks": ""
             }
            },
            "type": "scatterternary"
           }
          ],
          "surface": [
           {
            "colorbar": {
             "outlinewidth": 0,
             "ticks": ""
            },
            "colorscale": [
             [
              0,
              "#0d0887"
             ],
             [
              0.1111111111111111,
              "#46039f"
             ],
             [
              0.2222222222222222,
              "#7201a8"
             ],
             [
              0.3333333333333333,
              "#9c179e"
             ],
             [
              0.4444444444444444,
              "#bd3786"
             ],
             [
              0.5555555555555556,
              "#d8576b"
             ],
             [
              0.6666666666666666,
              "#ed7953"
             ],
             [
              0.7777777777777778,
              "#fb9f3a"
             ],
             [
              0.8888888888888888,
              "#fdca26"
             ],
             [
              1,
              "#f0f921"
             ]
            ],
            "type": "surface"
           }
          ],
          "table": [
           {
            "cells": {
             "fill": {
              "color": "#EBF0F8"
             },
             "line": {
              "color": "white"
             }
            },
            "header": {
             "fill": {
              "color": "#C8D4E3"
             },
             "line": {
              "color": "white"
             }
            },
            "type": "table"
           }
          ]
         },
         "layout": {
          "annotationdefaults": {
           "arrowcolor": "#2a3f5f",
           "arrowhead": 0,
           "arrowwidth": 1
          },
          "autotypenumbers": "strict",
          "coloraxis": {
           "colorbar": {
            "outlinewidth": 0,
            "ticks": ""
           }
          },
          "colorscale": {
           "diverging": [
            [
             0,
             "#8e0152"
            ],
            [
             0.1,
             "#c51b7d"
            ],
            [
             0.2,
             "#de77ae"
            ],
            [
             0.3,
             "#f1b6da"
            ],
            [
             0.4,
             "#fde0ef"
            ],
            [
             0.5,
             "#f7f7f7"
            ],
            [
             0.6,
             "#e6f5d0"
            ],
            [
             0.7,
             "#b8e186"
            ],
            [
             0.8,
             "#7fbc41"
            ],
            [
             0.9,
             "#4d9221"
            ],
            [
             1,
             "#276419"
            ]
           ],
           "sequential": [
            [
             0,
             "#0d0887"
            ],
            [
             0.1111111111111111,
             "#46039f"
            ],
            [
             0.2222222222222222,
             "#7201a8"
            ],
            [
             0.3333333333333333,
             "#9c179e"
            ],
            [
             0.4444444444444444,
             "#bd3786"
            ],
            [
             0.5555555555555556,
             "#d8576b"
            ],
            [
             0.6666666666666666,
             "#ed7953"
            ],
            [
             0.7777777777777778,
             "#fb9f3a"
            ],
            [
             0.8888888888888888,
             "#fdca26"
            ],
            [
             1,
             "#f0f921"
            ]
           ],
           "sequentialminus": [
            [
             0,
             "#0d0887"
            ],
            [
             0.1111111111111111,
             "#46039f"
            ],
            [
             0.2222222222222222,
             "#7201a8"
            ],
            [
             0.3333333333333333,
             "#9c179e"
            ],
            [
             0.4444444444444444,
             "#bd3786"
            ],
            [
             0.5555555555555556,
             "#d8576b"
            ],
            [
             0.6666666666666666,
             "#ed7953"
            ],
            [
             0.7777777777777778,
             "#fb9f3a"
            ],
            [
             0.8888888888888888,
             "#fdca26"
            ],
            [
             1,
             "#f0f921"
            ]
           ]
          },
          "colorway": [
           "#636efa",
           "#EF553B",
           "#00cc96",
           "#ab63fa",
           "#FFA15A",
           "#19d3f3",
           "#FF6692",
           "#B6E880",
           "#FF97FF",
           "#FECB52"
          ],
          "font": {
           "color": "#2a3f5f"
          },
          "geo": {
           "bgcolor": "white",
           "lakecolor": "white",
           "landcolor": "#E5ECF6",
           "showlakes": true,
           "showland": true,
           "subunitcolor": "white"
          },
          "hoverlabel": {
           "align": "left"
          },
          "hovermode": "closest",
          "mapbox": {
           "style": "light"
          },
          "paper_bgcolor": "white",
          "plot_bgcolor": "#E5ECF6",
          "polar": {
           "angularaxis": {
            "gridcolor": "white",
            "linecolor": "white",
            "ticks": ""
           },
           "bgcolor": "#E5ECF6",
           "radialaxis": {
            "gridcolor": "white",
            "linecolor": "white",
            "ticks": ""
           }
          },
          "scene": {
           "xaxis": {
            "backgroundcolor": "#E5ECF6",
            "gridcolor": "white",
            "gridwidth": 2,
            "linecolor": "white",
            "showbackground": true,
            "ticks": "",
            "zerolinecolor": "white"
           },
           "yaxis": {
            "backgroundcolor": "#E5ECF6",
            "gridcolor": "white",
            "gridwidth": 2,
            "linecolor": "white",
            "showbackground": true,
            "ticks": "",
            "zerolinecolor": "white"
           },
           "zaxis": {
            "backgroundcolor": "#E5ECF6",
            "gridcolor": "white",
            "gridwidth": 2,
            "linecolor": "white",
            "showbackground": true,
            "ticks": "",
            "zerolinecolor": "white"
           }
          },
          "shapedefaults": {
           "line": {
            "color": "#2a3f5f"
           }
          },
          "ternary": {
           "aaxis": {
            "gridcolor": "white",
            "linecolor": "white",
            "ticks": ""
           },
           "baxis": {
            "gridcolor": "white",
            "linecolor": "white",
            "ticks": ""
           },
           "bgcolor": "#E5ECF6",
           "caxis": {
            "gridcolor": "white",
            "linecolor": "white",
            "ticks": ""
           }
          },
          "title": {
           "x": 0.05
          },
          "xaxis": {
           "automargin": true,
           "gridcolor": "white",
           "linecolor": "white",
           "ticks": "",
           "title": {
            "standoff": 15
           },
           "zerolinecolor": "white",
           "zerolinewidth": 2
          },
          "yaxis": {
           "automargin": true,
           "gridcolor": "white",
           "linecolor": "white",
           "ticks": "",
           "title": {
            "standoff": 15
           },
           "zerolinecolor": "white",
           "zerolinewidth": 2
          }
         }
        },
        "title": {
         "text": "Fraction Extracted into Desired Phase (Aqueous Phase)",
         "xanchor": "left",
         "yanchor": "top"
        },
        "width": 580,
        "xaxis": {
         "autorange": true,
         "range": [
          0,
          14
         ],
         "tickmode": "array",
         "ticktext": [
          "0",
          "2",
          "4",
          "6",
          "8",
          "10",
          "12",
          "14"
         ],
         "tickvals": [
          0,
          2,
          4,
          6,
          8,
          10,
          12,
          14
         ],
         "title": {
          "text": "pH"
         },
         "type": "linear"
        },
        "yaxis": {
         "autorange": true,
         "range": [
          -0.05555356088646126,
          1.0555554505729712
         ],
         "title": {
          "text": "Fraction Extracted"
         },
         "type": "linear"
        }
       }
      },
      "image/png": "[encoded data removed]",
      "text/html": [
       "<div>                            <div id=\"623fa5c2-9a50-44a6-9b07-78132ef65d4d\" class=\"plotly-graph-div\" style=\"height:525px; width:580px;\"></div>            <script type=\"text/javascript\">                require([\"plotly\"], function(Plotly) {                    window.PLOTLYENV=window.PLOTLYENV || {};                                    if (document.getElementById(\"623fa5c2-9a50-44a6-9b07-78132ef65d4d\")) {                    Plotly.newPlot(                        \"623fa5c2-9a50-44a6-9b07-78132ef65d4d\",                        [{\"hovertemplate\":\"pH: %{x:.2f}, Frac_ex: %{y:.2f}\",\"line\":{\"color\":\"#003865\"},\"mode\":\"lines\",\"name\":\"Extraction of Product 3\",\"x\":[0.0,0.1,0.2,0.30000000000000004,0.4,0.5,0.6000000000000001,0.7000000000000001,0.8,0.9,1.0,1.1,1.2000000000000002,1.3,1.4000000000000001,1.5,1.6,1.7000000000000002,1.8,1.9000000000000001,2.0,2.1,2.2,2.3000000000000003,2.4000000000000004,2.5,2.6,2.7,2.8000000000000003,2.9000000000000004,3.0,3.1,3.2,3.3000000000000003,3.4000000000000004,3.5,3.6,3.7,3.8000000000000003,3.9000000000000004,4.0,4.1000000000000005,4.2,4.3,4.4,4.5,4.6000000000000005,4.7,4.800000000000001,4.9,5.0,5.1000000000000005,5.2,5.300000000000001,5.4,5.5,5.6000000000000005,5.7,5.800000000000001,5.9,6.0,6.1000000000000005,6.2,6.300000000000001,6.4,6.5,6.6000000000000005,6.7,6.800000000000001,6.9,7.0,7.1000000000000005,7.2,7.300000000000001,7.4,7.5,7.6000000000000005,7.7,7.800000000000001,7.9,8.0,8.1,8.200000000000001,8.3,8.4,8.5,8.6,8.700000000000001,8.8,8.9,9.0,9.1,9.200000000000001,9.3,9.4,9.5,9.600000000000001,9.700000000000001,9.8,9.9,10.0,10.100000000000001,10.200000000000001,10.3,10.4,10.5,10.600000000000001,10.700000000000001,10.8,10.9,11.0,11.100000000000001,11.200000000000001,11.3,11.4,11.5,11.600000000000001,11.700000000000001,11.8,11.9,12.0,12.100000000000001,12.200000000000001,12.3,12.4,12.5,12.600000000000001,12.700000000000001,12.8,12.9,13.0,13.100000000000001,13.200000000000001,13.3,13.4,13.5,13.600000000000001,13.700000000000001,13.8,13.9,14.0],\"y\":[0.9999999999999996,0.9999999999999991,0.9999999999999982,0.9999999999999962,0.9999999999999927,0.9999999999999851,0.9999999999999705,0.9999999999999412,0.9999999999998828,0.999999999999766,0.9999999999995333,0.999999999999069,0.9999999999981428,0.9999999999962961,0.9999999999926137,0.999999999985272,0.9999999999706375,0.9999999999414744,0.9999999998833766,0.9999999997676827,0.99999999953741,0.999999999079372,0.9999999981689998,0.9999999963613733,0.9999999927765735,0.9999999856782353,0.9999999716493432,0.9999999439882756,0.9999998896061564,0.9999997830690976,0.9999995752591334,0.9999991720210771,0.9999983944518293,0.9999969061147336,0.9999940818117689,0.9999887752546621,0.9999789156466954,0.9999608209052713,0.9999280505861391,0.9998695225929773,0.9997664647361335,0.999587532932957,0.9992810524305851,0.99876275527165,0.9978965037903809,0.9964642088140238,0.9941194313634643,0.9903171960369567,0.984211254756322,0.974512131406688,0.959311345623999,0.9359125019419534,0.9007876271159327,0.8499029516870676,0.7797576744574881,0.68929691356322,0.5820644089022536,0.4668661628280148,0.355423148960404,0.2579766960361381,0.17998580945784723,0.12184724373008124,0.08074680236407131,0.05275731146936901,0.03416986812514212,0.02202523263724162,0.01416948118262964,0.009117288109919498,0.005877358971773574,0.0038012144711458812,0.002469770767812655,0.0016141520714318665,0.0010625609355257078,0.0007054509121224407,0.0004730117798750323,0.0003207354590161675,0.0002202080616008596,0.00015325228575008014,0.00010820634361651313,7.756118801896412e-05,5.6459835367470594e-05,4.174344855458173e-05,3.1344159821307925e-05,2.3897880509932153e-05,1.8496800010647274e-05,1.4530698586401896e-05,1.1584823897091521e-05,9.373870360885104e-06,7.699064777189872e-06,6.420090101628472e-06,5.436577049340253e-06,4.6757958200411e-06,4.084389469985048e-06,3.6227603563650005e-06,3.2612123444684843e-06,2.977265792304463e-06,2.75376411258348e-06,2.5775207777265647e-06,2.438339882287108e-06,2.3282982683518633e-06,2.2412132307519494e-06,2.1722436345155117e-06,2.1175881726545203e-06,2.0742552121679848e-06,2.039885988208262e-06,2.0126179555177476e-06,1.990978638027264e-06,1.9738028207340113e-06,1.960167725705094e-06,1.949342121743573e-06,1.940746280088717e-06,1.9339204054386915e-06,1.92849971083422e-06,1.924194714218115e-06,1.920775647555803e-06,1.9180601104924673e-06,1.9159032872383702e-06,1.9141901906659966e-06,1.9128295111057518e-06,1.911748736282661e-06,1.9108902787375936e-06,1.9102084021220093e-06,1.909666781177219e-06,1.9092365645098536e-06,1.9088948364009193e-06,1.9086233953566226e-06,1.908407784116152e-06,1.9082365193104793e-06,1.9081004796538787e-06,1.907992420027299e-06,1.9079065855389955e-06,1.9078384049859313e-06,1.9077842473766085e-06,1.9077412285398145e-06,1.9077070575144938e-06,1.9076799145366845e-06,1.907658354123487e-06,1.9076412280914353e-06,1.907627624408769e-06,1.907616818624669e-06,1.9076082352885003e-06],\"type\":\"scatter\"},{\"hovertemplate\":\"pH: %{x:.2f}, Frac_ex: %{y:.2f}\",\"line\":{\"color\":\"#D0006F\"},\"mode\":\"lines\",\"name\":\"Extraction of Amine 2\",\"x\":[0.0,0.1,0.2,0.30000000000000004,0.4,0.5,0.6000000000000001,0.7000000000000001,0.8,0.9,1.0,1.1,1.2000000000000002,1.3,1.4000000000000001,1.5,1.6,1.7000000000000002,1.8,1.9000000000000001,2.0,2.1,2.2,2.3000000000000003,2.4000000000000004,2.5,2.6,2.7,2.8000000000000003,2.9000000000000004,3.0,3.1,3.2,3.3000000000000003,3.4000000000000004,3.5,3.6,3.7,3.8000000000000003,3.9000000000000004,4.0,4.1000000000000005,4.2,4.3,4.4,4.5,4.6000000000000005,4.7,4.800000000000001,4.9,5.0,5.1000000000000005,5.2,5.300000000000001,5.4,5.5,5.6000000000000005,5.7,5.800000000000001,5.9,6.0,6.1000000000000005,6.2,6.300000000000001,6.4,6.5,6.6000000000000005,6.7,6.800000000000001,6.9,7.0,7.1000000000000005,7.2,7.300000000000001,7.4,7.5,7.6000000000000005,7.7,7.800000000000001,7.9,8.0,8.1,8.200000000000001,8.3,8.4,8.5,8.6,8.700000000000001,8.8,8.9,9.0,9.1,9.200000000000001,9.3,9.4,9.5,9.600000000000001,9.700000000000001,9.8,9.9,10.0,10.100000000000001,10.200000000000001,10.3,10.4,10.5,10.600000000000001,10.700000000000001,10.8,10.9,11.0,11.100000000000001,11.200000000000001,11.3,11.4,11.5,11.600000000000001,11.700000000000001,11.8,11.9,12.0,12.100000000000001,12.200000000000001,12.3,12.4,12.5,12.600000000000001,12.700000000000001,12.8,12.9,13.0,13.100000000000001,13.200000000000001,13.3,13.4,13.5,13.600000000000001,13.700000000000001,13.8,13.9,14.0],\"y\":[0.9999999999999392,0.9999999999999036,0.9999999999998472,0.999999999999758,0.9999999999996165,0.9999999999993923,0.9999999999990368,0.9999999999984734,0.9999999999975808,0.9999999999961662,0.9999999999939244,0.9999999999903719,0.9999999999847429,0.9999999999758233,0.9999999999616915,0.9999999999393026,0.9999999999038363,0.9999999998476607,0.9999999997586981,0.9999999996178406,0.999999999394872,0.9999999990420398,0.9999999984839307,0.9999999976015577,0.9999999962074,0.9999999940063535,0.9999999905348463,0.9999999850663022,0.9999999764651196,0.9999999629626009,0.9999999418159022,0.9999999087941852,0.9999998574141168,0.9999997778200417,0.9999996551748295,0.9999994674011331,0.9999991820995785,0.9999987524844005,0.999998112232977,0.9999971692495473,0.9999957984776383,0.9999938340056144,0.9999910607046821,0.9999872054247201,0.9999819273150885,0.9999748062138069,0.9999653274439981,0.9999528609667533,0.9999366327416496,0.9999156862379995,0.9998888320999444,0.9998545837833823,0.9998110764418571,0.9997559654406557,0.9996862996750498,0.9995983634012512,0.9994874785552234,0.9993477574881038,0.999171793610958,0.998950274527645,0.9986714987597287,0.998320773071476,0.9978796626734997,0.9973250612956073,0.9966280425009358,0.9957524481500247,0.9946531655192403,0.9932740427966907,0.9915453960899356,0.9893810737319036,0.9866750716919268,0.9832977461614746,0.9790917580532894,0.9738680246608942,0.9674021633082595,0.9594322050853483,0.9496587360408045,0.9377490610287667,0.9233473977896082,0.9060933229290774,0.8856504229905935,0.8617459787475451,0.8342201834594539,0.8030798065755435,0.7685469519709779,0.7310901237226448,0.6914243987050711,0.6504720079126728,0.6092840982158787,0.5689360700679617,0.5304177619253471,0.4945415604268349,0.4618853311773073,0.4327759925899021,0.4073086376633507,0.3853892932650419,0.3667878441999789,0.351190056006288,0.33824177178228676,0.32758236326993007,0.3188674143607137,0.31178222959634905,0.3060483525656321,0.30142523325181736,0.2977088296474131,0.2947284873904893,0.2923430304712514,0.29043666444955035,0.28891504903964477,0.28770172849850956,0.2867349991131257,0.28596522669348773,0.28535258969565175,0.28486520516687996,0.28447758788322647,0.2841693929671453,0.2839243957831235,0.28372966806238353,0.28357491484841235,0.2834519423404483,0.28335423171765206,0.28327659841921965,0.28321492011126953,0.28316591972448973,0.28312699255937723,0.2830960686001003,0.2830715029248363,0.2830519885156164,0.28303648691233346,0.283024173073461,0.28301439154214175,0.2830066216054418,0.2830004496053306,0.2829955469356554,0.2829916525589284,0.2829885591153908,0.2829861018868248,0.28298415002879385,0.2829825996052769,0.2829813680553235,0.28298038979740825],\"type\":\"scatter\"},{\"hovertemplate\":\"pH: %{x:.2f}, Frac_ex: %{y:.2f}\",\"line\":{\"color\":\"#830051\"},\"mode\":\"lines\",\"name\":\"Extraction of Aryl Bromide 1\",\"x\":[0.0,0.1,0.2,0.30000000000000004,0.4,0.5,0.6000000000000001,0.7000000000000001,0.8,0.9,1.0,1.1,1.2000000000000002,1.3,1.4000000000000001,1.5,1.6,1.7000000000000002,1.8,1.9000000000000001,2.0,2.1,2.2,2.3000000000000003,2.4000000000000004,2.5,2.6,2.7,2.8000000000000003,2.9000000000000004,3.0,3.1,3.2,3.3000000000000003,3.4000000000000004,3.5,3.6,3.7,3.8000000000000003,3.9000000000000004,4.0,4.1000000000000005,4.2,4.3,4.4,4.5,4.6000000000000005,4.7,4.800000000000001,4.9,5.0,5.1000000000000005,5.2,5.300000000000001,5.4,5.5,5.6000000000000005,5.7,5.800000000000001,5.9,6.0,6.1000000000000005,6.2,6.300000000000001,6.4,6.5,6.6000000000000005,6.7,6.800000000000001,6.9,7.0,7.1000000000000005,7.2,7.300000000000001,7.4,7.5,7.6000000000000005,7.7,7.800000000000001,7.9,8.0,8.1,8.200000000000001,8.3,8.4,8.5,8.6,8.700000000000001,8.8,8.9,9.0,9.1,9.200000000000001,9.3,9.4,9.5,9.600000000000001,9.700000000000001,9.8,9.9,10.0,10.100000000000001,10.200000000000001,10.3,10.4,10.5,10.600000000000001,10.700000000000001,10.8,10.9,11.0,11.100000000000001,11.200000000000001,11.3,11.4,11.5,11.600000000000001,11.700000000000001,11.8,11.9,12.0,12.100000000000001,12.200000000000001,12.3,12.4,12.5,12.600000000000001,12.700000000000001,12.8,12.9,13.0,13.100000000000001,13.200000000000001,13.3,13.4,13.5,13.600000000000001,13.700000000000001,13.8,13.9,14.0],\"y\":[0.9995063721697356,0.9993786387985696,0.9992178784264258,0.999015566635025,0.9987609876390376,0.9984406761036865,0.9980377197910619,0.9975308900980345,0.9968935607977606,0.9960923678034912,0.9950855549004556,0.9938209428881493,0.9922334538174592,0.9902421203542722,0.9877465166051009,0.9846225670328728,0.9807177334445255,0.9758456594866719,0.9697804853392753,0.9622512544644789,0.9529371433645384,0.9414646731801454,0.9274086073912472,0.910298855203894,0.8896362522089131,0.8649203148832918,0.835691543438271,0.801589047702885,0.7624207438295615,0.7182381372584261,0.6694017715298453,0.6166190672283602,0.56093661742556,0.5036764360697539,0.4463196790292003,0.3903574556672078,0.3371395232839601,0.28775240061364454,0.24294836853990173,0.20313095343015705,0.16838786839081693,0.13855400632970416,0.11328592516304525,0.09213319922090316,0.07459789834477198,0.06017885999990221,0.048401181104663175,0.038833356829665974,0.031095148341374893,0.024859105269886984,0.019848140565725446,0.01583093845557525,0.012616417837722662,0.010048029841083982,0.007998344823033294,0.0063641634768819,0.005062245081506296,0.004025660687387527,0.003200731888745651,0.002544493173325264,0.0020226081416874512,0.0016076707772172381,0.0012778283386771403,0.0010156698208508745,0.0008073318066543645,0.0006417811023208106,0.0005102404040294426,0.0004057292332906485,0.0003226974824849335,0.00025673318749831834,0.00020432968135128093,0.00016270018163614948,0.00012963022398681487,0.00010336026388639975,8.249230910053129e-05,6.591568266741454e-05,5.274800857119682e-05,4.228830610514336e-05,3.397971316611624e-05,2.7379864807670354e-05,2.213735682663607e-05,1.7973045542905465e-05,1.46651907948549e-05,1.2037652776453734e-05,9.950515300352366e-06,8.292636864501265e-06,6.975733295635837e-06,5.929677136673605e-06,5.098763634895305e-06,4.438744595770944e-06,3.914472216645164e-06,3.49802747146141e-06,3.167233404976441e-06,2.904474182126121e-06,2.6957570140764187e-06,2.5299670123331466e-06,2.3982752937375027e-06,2.293668818659242e-06,2.2105769263733505e-06,2.1445746804134286e-06,2.092147226683266e-06,2.0505026159930936e-06,2.0174231234259492e-06,1.9911471469298884e-06,1.970275395920058e-06,1.9536963741639163e-06,1.9405271886871443e-06,1.9300665325874395e-06,1.9217573379377405e-06,1.915157109921259e-06,1.909914362390059e-06,1.9057498999593204e-06,1.9024419498434176e-06,1.8998143516517002e-06,1.897727176208668e-06,1.8960692738172358e-06,1.8947523551333864e-06,1.893706289437497e-06,1.8928753699183157e-06,1.8922153470824628e-06,1.891691072307761e-06,1.8912746260510696e-06,1.8909438310308875e-06,1.8906810712062947e-06,1.8904723536585712e-06,1.89030656341727e-06,1.890174871547523e-06,1.890070264977075e-06,1.8899871730246148e-06,1.8899211707406876e-06,1.8898687432630013e-06,1.889827098637196e-06,1.8897940191350921e-06,1.8897677431525785e-06,1.8897468713977721e-06,1.8897302923736202e-06,1.8897171231866317e-06,1.8897066625295787e-06,1.889698353334327e-06,1.8896917531059311e-06,1.8896865103581603e-06],\"type\":\"scatter\"}],                        {\"template\":{\"data\":{\"histogram2dcontour\":[{\"type\":\"histogram2dcontour\",\"colorbar\":{\"outlinewidth\":0,\"ticks\":\"\"},\"colorscale\":[[0.0,\"#0d0887\"],[0.1111111111111111,\"#46039f\"],[0.2222222222222222,\"#7201a8\"],[0.3333333333333333,\"#9c179e\"],[0.4444444444444444,\"#bd3786\"],[0.5555555555555556,\"#d8576b\"],[0.6666666666666666,\"#ed7953\"],[0.7777777777777778,\"#fb9f3a\"],[0.8888888888888888,\"#fdca26\"],[1.0,\"#f0f921\"]]}],\"choropleth\":[{\"type\":\"choropleth\",\"colorbar\":{\"outlinewidth\":0,\"ticks\":\"\"}}],\"histogram2d\":[{\"type\":\"histogram2d\",\"colorbar\":{\"outlinewidth\":0,\"ticks\":\"\"},\"colorscale\":[[0.0,\"#0d0887\"],[0.1111111111111111,\"#46039f\"],[0.2222222222222222,\"#7201a8\"],[0.3333333333333333,\"#9c179e\"],[0.4444444444444444,\"#bd3786\"],[0.5555555555555556,\"#d8576b\"],[0.6666666666666666,\"#ed7953\"],[0.7777777777777778,\"#fb9f3a\"],[0.8888888888888888,\"#fdca26\"],[1.0,\"#f0f921\"]]}],\"heatmap\":[{\"type\":\"heatmap\",\"colorbar\":{\"outlinewidth\":0,\"ticks\":\"\"},\"colorscale\":[[0.0,\"#0d0887\"],[0.1111111111111111,\"#46039f\"],[0.2222222222222222,\"#7201a8\"],[0.3333333333333333,\"#9c179e\"],[0.4444444444444444,\"#bd3786\"],[0.5555555555555556,\"#d8576b\"],[0.6666666666666666,\"#ed7953\"],[0.7777777777777778,\"#fb9f3a\"],[0.8888888888888888,\"#fdca26\"],[1.0,\"#f0f921\"]]}],\"heatmapgl\":[{\"type\":\"heatmapgl\",\"colorbar\":{\"outlinewidth\":0,\"ticks\":\"\"},\"colorscale\":[[0.0,\"#0d0887\"],[0.1111111111111111,\"#46039f\"],[0.2222222222222222,\"#7201a8\"],[0.3333333333333333,\"#9c179e\"],[0.4444444444444444,\"#bd3786\"],[0.5555555555555556,\"#d8576b\"],[0.6666666666666666,\"#ed7953\"],[0.7777777777777778,\"#fb9f3a\"],[0.8888888888888888,\"#fdca26\"],[1.0,\"#f0f921\"]]}],\"contourcarpet\":[{\"type\":\"contourcarpet\",\"colorbar\":{\"outlinewidth\":0,\"ticks\":\"\"}}],\"contour\":[{\"type\":\"contour\",\"colorbar\":{\"outlinewidth\":0,\"ticks\":\"\"},\"colorscale\":[[0.0,\"#0d0887\"],[0.1111111111111111,\"#46039f\"],[0.2222222222222222,\"#7201a8\"],[0.3333333333333333,\"#9c179e\"],[0.4444444444444444,\"#bd3786\"],[0.5555555555555556,\"#d8576b\"],[0.6666666666666666,\"#ed7953\"],[0.7777777777777778,\"#fb9f3a\"],[0.8888888888888888,\"#fdca26\"],[1.0,\"#f0f921\"]]}],\"surface\":[{\"type\":\"surface\",\"colorbar\":{\"outlinewidth\":0,\"ticks\":\"\"},\"colorscale\":[[0.0,\"#0d0887\"],[0.1111111111111111,\"#46039f\"],[0.2222222222222222,\"#7201a8\"],[0.3333333333333333,\"#9c179e\"],[0.4444444444444444,\"#bd3786\"],[0.5555555555555556,\"#d8576b\"],[0.6666666666666666,\"#ed7953\"],[0.7777777777777778,\"#fb9f3a\"],[0.8888888888888888,\"#fdca26\"],[1.0,\"#f0f921\"]]}],\"mesh3d\":[{\"type\":\"mesh3d\",\"colorbar\":{\"outlinewidth\":0,\"ticks\":\"\"}}],\"scatter\":[{\"fillpattern\":{\"fillmode\":\"overlay\",\"size\":10,\"solidity\":0.2},\"type\":\"scatter\"}],\"parcoords\":[{\"type\":\"parcoords\",\"line\":{\"colorbar\":{\"outlinewidth\":0,\"ticks\":\"\"}}}],\"scatterpolargl\":[{\"type\":\"scatterpolargl\",\"marker\":{\"colorbar\":{\"outlinewidth\":0,\"ticks\":\"\"}}}],\"bar\":[{\"error_x\":{\"color\":\"#2a3f5f\"},\"error_y\":{\"color\":\"#2a3f5f\"},\"marker\":{\"line\":{\"color\":\"#E5ECF6\",\"width\":0.5},\"pattern\":{\"fillmode\":\"overlay\",\"size\":10,\"solidity\":0.2}},\"type\":\"bar\"}],\"scattergeo\":[{\"type\":\"scattergeo\",\"marker\":{\"colorbar\":{\"outlinewidth\":0,\"ticks\":\"\"}}}],\"scatterpolar\":[{\"type\":\"scatterpolar\",\"marker\":{\"colorbar\":{\"outlinewidth\":0,\"ticks\":\"\"}}}],\"histogram\":[{\"marker\":{\"pattern\":{\"fillmode\":\"overlay\",\"size\":10,\"solidity\":0.2}},\"type\":\"histogram\"}],\"scattergl\":[{\"type\":\"scattergl\",\"marker\":{\"colorbar\":{\"outlinewidth\":0,\"ticks\":\"\"}}}],\"scatter3d\":[{\"type\":\"scatter3d\",\"line\":{\"colorbar\":{\"outlinewidth\":0,\"ticks\":\"\"}},\"marker\":{\"colorbar\":{\"outlinewidth\":0,\"ticks\":\"\"}}}],\"scattermapbox\":[{\"type\":\"scattermapbox\",\"marker\":{\"colorbar\":{\"outlinewidth\":0,\"ticks\":\"\"}}}],\"scatterternary\":[{\"type\":\"scatterternary\",\"marker\":{\"colorbar\":{\"outlinewidth\":0,\"ticks\":\"\"}}}],\"scattercarpet\":[{\"type\":\"scattercarpet\",\"marker\":{\"colorbar\":{\"outlinewidth\":0,\"ticks\":\"\"}}}],\"carpet\":[{\"aaxis\":{\"endlinecolor\":\"#2a3f5f\",\"gridcolor\":\"white\",\"linecolor\":\"white\",\"minorgridcolor\":\"white\",\"startlinecolor\":\"#2a3f5f\"},\"baxis\":{\"endlinecolor\":\"#2a3f5f\",\"gridcolor\":\"white\",\"linecolor\":\"white\",\"minorgridcolor\":\"white\",\"startlinecolor\":\"#2a3f5f\"},\"type\":\"carpet\"}],\"table\":[{\"cells\":{\"fill\":{\"color\":\"#EBF0F8\"},\"line\":{\"color\":\"white\"}},\"header\":{\"fill\":{\"color\":\"#C8D4E3\"},\"line\":{\"color\":\"white\"}},\"type\":\"table\"}],\"barpolar\":[{\"marker\":{\"line\":{\"color\":\"#E5ECF6\",\"width\":0.5},\"pattern\":{\"fillmode\":\"overlay\",\"size\":10,\"solidity\":0.2}},\"type\":\"barpolar\"}],\"pie\":[{\"automargin\":true,\"type\":\"pie\"}]},\"layout\":{\"autotypenumbers\":\"strict\",\"colorway\":[\"#636efa\",\"#EF553B\",\"#00cc96\",\"#ab63fa\",\"#FFA15A\",\"#19d3f3\",\"#FF6692\",\"#B6E880\",\"#FF97FF\",\"#FECB52\"],\"font\":{\"color\":\"#2a3f5f\"},\"hovermode\":\"closest\",\"hoverlabel\":{\"align\":\"left\"},\"paper_bgcolor\":\"white\",\"plot_bgcolor\":\"#E5ECF6\",\"polar\":{\"bgcolor\":\"#E5ECF6\",\"angularaxis\":{\"gridcolor\":\"white\",\"linecolor\":\"white\",\"ticks\":\"\"},\"radialaxis\":{\"gridcolor\":\"white\",\"linecolor\":\"white\",\"ticks\":\"\"}},\"ternary\":{\"bgcolor\":\"#E5ECF6\",\"aaxis\":{\"gridcolor\":\"white\",\"linecolor\":\"white\",\"ticks\":\"\"},\"baxis\":{\"gridcolor\":\"white\",\"linecolor\":\"white\",\"ticks\":\"\"},\"caxis\":{\"gridcolor\":\"white\",\"linecolor\":\"white\",\"ticks\":\"\"}},\"coloraxis\":{\"colorbar\":{\"outlinewidth\":0,\"ticks\":\"\"}},\"colorscale\":{\"sequential\":[[0.0,\"#0d0887\"],[0.1111111111111111,\"#46039f\"],[0.2222222222222222,\"#7201a8\"],[0.3333333333333333,\"#9c179e\"],[0.4444444444444444,\"#bd3786\"],[0.5555555555555556,\"#d8576b\"],[0.6666666666666666,\"#ed7953\"],[0.7777777777777778,\"#fb9f3a\"],[0.8888888888888888,\"#fdca26\"],[1.0,\"#f0f921\"]],\"sequentialminus\":[[0.0,\"#0d0887\"],[0.1111111111111111,\"#46039f\"],[0.2222222222222222,\"#7201a8\"],[0.3333333333333333,\"#9c179e\"],[0.4444444444444444,\"#bd3786\"],[0.5555555555555556,\"#d8576b\"],[0.6666666666666666,\"#ed7953\"],[0.7777777777777778,\"#fb9f3a\"],[0.8888888888888888,\"#fdca26\"],[1.0,\"#f0f921\"]],\"diverging\":[[0,\"#8e0152\"],[0.1,\"#c51b7d\"],[0.2,\"#de77ae\"],[0.3,\"#f1b6da\"],[0.4,\"#fde0ef\"],[0.5,\"#f7f7f7\"],[0.6,\"#e6f5d0\"],[0.7,\"#b8e186\"],[0.8,\"#7fbc41\"],[0.9,\"#4d9221\"],[1,\"#276419\"]]},\"xaxis\":{\"gridcolor\":\"white\",\"linecolor\":\"white\",\"ticks\":\"\",\"title\":{\"standoff\":15},\"zerolinecolor\":\"white\",\"automargin\":true,\"zerolinewidth\":2},\"yaxis\":{\"gridcolor\":\"white\",\"linecolor\":\"white\",\"ticks\":\"\",\"title\":{\"standoff\":15},\"zerolinecolor\":\"white\",\"automargin\":true,\"zerolinewidth\":2},\"scene\":{\"xaxis\":{\"backgroundcolor\":\"#E5ECF6\",\"gridcolor\":\"white\",\"linecolor\":\"white\",\"showbackground\":true,\"ticks\":\"\",\"zerolinecolor\":\"white\",\"gridwidth\":2},\"yaxis\":{\"backgroundcolor\":\"#E5ECF6\",\"gridcolor\":\"white\",\"linecolor\":\"white\",\"showbackground\":true,\"ticks\":\"\",\"zerolinecolor\":\"white\",\"gridwidth\":2},\"zaxis\":{\"backgroundcolor\":\"#E5ECF6\",\"gridcolor\":\"white\",\"linecolor\":\"white\",\"showbackground\":true,\"ticks\":\"\",\"zerolinecolor\":\"white\",\"gridwidth\":2}},\"shapedefaults\":{\"line\":{\"color\":\"#2a3f5f\"}},\"annotationdefaults\":{\"arrowcolor\":\"#2a3f5f\",\"arrowhead\":0,\"arrowwidth\":1},\"geo\":{\"bgcolor\":\"white\",\"landcolor\":\"#E5ECF6\",\"subunitcolor\":\"white\",\"showland\":true,\"showlakes\":true,\"lakecolor\":\"white\"},\"title\":{\"x\":0.05},\"mapbox\":{\"style\":\"light\"}}},\"shapes\":[{\"line\":{\"color\":\"#F0AB00\",\"dash\":\"dash\"},\"type\":\"line\",\"x0\":7,\"x1\":7,\"xref\":\"x\",\"y0\":0,\"y1\":1,\"yref\":\"y domain\"}],\"title\":{\"text\":\"Fraction Extracted into Desired Phase (Aqueous Phase)\",\"xanchor\":\"left\",\"yanchor\":\"top\"},\"legend\":{\"x\":0.58,\"y\":-0.35,\"traceorder\":\"normal\"},\"xaxis\":{\"title\":{\"text\":\"pH\"},\"tickmode\":\"array\",\"tickvals\":[0,2,4,6,8,10,12,14],\"ticktext\":[\"0\",\"2\",\"4\",\"6\",\"8\",\"10\",\"12\",\"14\"]},\"yaxis\":{\"title\":{\"text\":\"Fraction Extracted\"}},\"width\":580},                        {\"responsive\": true}                    ).then(function(){\n",
       "                            \n",
       "var gd = document.getElementById('623fa5c2-9a50-44a6-9b07-78132ef65d4d');\n",
       "var x = new MutationObserver(function (mutations, observer) {{\n",
       "        var display = window.getComputedStyle(gd).display;\n",
       "        if (!display || display === 'none') {{\n",
       "            console.log([gd, 'removed!']);\n",
       "            Plotly.purge(gd);\n",
       "            observer.disconnect();\n",
       "        }}\n",
       "}});\n",
       "\n",
       "// Listen for the removal of the full notebook cells\n",
       "var notebookContainer = gd.closest('#notebook-container');\n",
       "if (notebookContainer) {{\n",
       "    x.observe(notebookContainer, {childList: true});\n",
       "}}\n",
       "\n",
       "// Listen for the clearing of the current output cell\n",
       "var outputEl = gd.closest('.output');\n",
       "if (outputEl) {{\n",
       "    x.observe(outputEl, {childList: true});\n",
       "}}\n",
       "\n",
       "                        })                };                });            </script>        </div>"
      ]
     },
     "metadata": {},
     "output_type": "display_data"
    }
   ],
   "source": [
    "# generate and plot fraction extracted curves\n",
    "fig2 = PlotFractionExtracted(compounds_panel_values, system_panel_values)\n",
    "display(fig2)"
   ]
  },
  {
   "cell_type": "code",
   "execution_count": 27,
   "id": "5e7d4afd-699d-412e-b0f4-3c11a415c6ad",
   "metadata": {},
   "outputs": [
    {
     "data": {
      "application/vnd.plotly.v1+json": {
       "config": {
        "plotlyServerURL": "https://plot.ly"
       },
       "data": [
        {
         "hovertemplate": "pH: %{x:.2f}, Efficiency: %{y:.1f}%",
         "line": {
          "color": "#003865"
         },
         "mode": "lines",
         "name": "Extraction Efficiency (%) for <br>Product 3 in 2-MeTHF",
         "type": "scatter",
         "x": [
          0,
          0.1,
          0.2,
          0.30000000000000004,
          0.4,
          0.5,
          0.6000000000000001,
          0.7000000000000001,
          0.8,
          0.9,
          1,
          1.1,
          1.2000000000000002,
          1.3,
          1.4000000000000001,
          1.5,
          1.6,
          1.7000000000000002,
          1.8,
          1.9000000000000001,
          2,
          2.1,
          2.2,
          2.3000000000000003,
          2.4000000000000004,
          2.5,
          2.6,
          2.7,
          2.8000000000000003,
          2.9000000000000004,
          3,
          3.1,
          3.2,
          3.3000000000000003,
          3.4000000000000004,
          3.5,
          3.6,
          3.7,
          3.8000000000000003,
          3.9000000000000004,
          4,
          4.1000000000000005,
          4.2,
          4.3,
          4.4,
          4.5,
          4.6000000000000005,
          4.7,
          4.800000000000001,
          4.9,
          5,
          5.1000000000000005,
          5.2,
          5.300000000000001,
          5.4,
          5.5,
          5.6000000000000005,
          5.7,
          5.800000000000001,
          5.9,
          6,
          6.1000000000000005,
          6.2,
          6.300000000000001,
          6.4,
          6.5,
          6.6000000000000005,
          6.7,
          6.800000000000001,
          6.9,
          7,
          7.1000000000000005,
          7.2,
          7.300000000000001,
          7.4,
          7.5,
          7.6000000000000005,
          7.7,
          7.800000000000001,
          7.9,
          8,
          8.1,
          8.200000000000001,
          8.3,
          8.4,
          8.5,
          8.6,
          8.700000000000001,
          8.8,
          8.9,
          9,
          9.1,
          9.200000000000001,
          9.3,
          9.4,
          9.5,
          9.600000000000001,
          9.700000000000001,
          9.8,
          9.9,
          10,
          10.100000000000001,
          10.200000000000001,
          10.3,
          10.4,
          10.5,
          10.600000000000001,
          10.700000000000001,
          10.8,
          10.9,
          11,
          11.100000000000001,
          11.200000000000001,
          11.3,
          11.4,
          11.5,
          11.600000000000001,
          11.700000000000001,
          11.8,
          11.9,
          12,
          12.100000000000001,
          12.200000000000001,
          12.3,
          12.4,
          12.5,
          12.600000000000001,
          12.700000000000001,
          12.8,
          12.9,
          13,
          13.100000000000001,
          13.200000000000001,
          13.3,
          13.4,
          13.5,
          13.600000000000001,
          13.700000000000001,
          13.8,
          13.9,
          14
         ],
         "y": [
          0.024681391516262464,
          0.031068060076339082,
          0.03910607868634612,
          0.049221668260851316,
          0.06195061806729084,
          0.07796619484606188,
          0.09811401049506217,
          0.12345549517459416,
          0.155321960232911,
          0.19538161001708557,
          0.2457222552808854,
          0.3089528560736531,
          0.3883273098891753,
          0.48789398349341734,
          0.6126741716558514,
          0.7688716513799102,
          0.964113332553603,
          1.2077170332126852,
          1.5109757449251133,
          1.8874372954455414,
          2.3531428609409377,
          2.926766386196276,
          3.629569699595361,
          4.485057343407969,
          5.518187539324124,
          6.753984458788756,
          8.215423068431486,
          9.920547805873623,
          11.878962673901453,
          14.088091932805494,
          16.529907311782488,
          19.169035327302364,
          21.95314101113418,
          24.81611252706776,
          27.683869450478504,
          30.481811692168677,
          33.14236593073669,
          35.61104708184559,
          37.84995248350758,
          39.83839517720068,
          41.571106069587564,
          43.05484195094934,
          44.304275338825896,
          45.3378163055524,
          46.1736778255555,
          46.82616167015586,
          47.30186726940165,
          47.595326879196406,
          47.683471327963744,
          47.51843982645906,
          47.01887219087756,
          46.061611278951226,
          44.479654701641664,
          42.07852535793955,
          38.68827569673151,
          34.25934810945426,
          28.9708088351486,
          23.264561401440446,
          17.72899492381552,
          12.879554040165015,
          8.993044003267277,
          6.092798132494495,
          4.0407416135400505,
          2.6422425017334725,
          1.712875052342106,
          1.1052325288397633,
          0.7119006605693943,
          0.4587455724621265,
          0.2962576552486665,
          0.1920301694718329,
          0.12510878193785677,
          0.08204247131138465,
          0.05423197383183653,
          0.0361906411184269,
          0.024419596039735723,
          0.016686292392132766,
          0.011564099910956522,
          0.008139295182896963,
          0.005824848230493592,
          0.004242128892032791,
          0.0031457371894119844,
          0.002375694896064782,
          0.0018269964609008915,
          0.0014301784043997436,
          0.001138887834960166,
          0.0009219013223844002,
          0.0007579768542195309,
          0.0006325122431093712,
          0.0005353586279396235,
          0.0004593765437106989,
          0.0003994737893152464,
          0.00035195999614697865,
          0.0003141123210377088,
          0.0002838833240687434,
          0.00025970479701722786,
          0.00024035588463331412,
          0.00022487372092963806,
          0.00021249179885934644,
          0.00020259629862220645,
          0.00019469410471751111,
          0.00018838859523174792,
          0.00018336079256220223,
          0.0001793543850792156,
          0.00017616367165185445,
          0.00017362379435578563,
          0.0001716028066633204,
          0.0001699952341930967,
          0.0001687168562181078,
          0.00016770048649227307,
          0.00016689257061650717,
          0.00016625044853090998,
          0.00016574015690801633,
          0.0001653346683047915,
          0.0001650124825388364,
          0.00016475650134609713,
          0.00016455313034684772,
          0.00016439156305532104,
          0.00016426321045060282,
          0.00016416124678661457,
          0.00016408024812794027,
          0.0001640159047916343,
          0.0001639647926545201,
          0.00016392419132057838,
          0.00016389193957506081,
          0.00016386632049733037,
          0.00016384597015831398,
          0.0001638298050682325,
          0.00016381696452854525,
          0.0001638067648292677,
          0.00016379866285953359,
          0.0001637922271979703,
          0.0001637871151461481,
          0.00016378305448382045,
          0.00016377982897547346,
          0.00016377726685705933,
          0.0001637752316902369,
          0.00016377361509735375,
          0.00016377233099045964,
          0.00016377131098713627,
          0.00016377050076909076,
          0.00016376985718963825
         ]
        },
        {
         "hovertemplate": "pH: %{x:.2f}, Max_Eff: %{y:.1f}%",
         "line": {
          "color": "#003865",
          "width": 0.8
         },
         "marker": {
          "color": "#68D2DF",
          "size": 8,
          "symbol": "star"
         },
         "name": "Maximum Extraction Efficiency",
         "type": "scatter",
         "x": [
          4.800000000000001
         ],
         "y": [
          47.683471327963744
         ]
        }
       ],
       "layout": {
        "height": 360,
        "legend": {
         "traceorder": "normal",
         "x": 0.65,
         "y": -0.35
        },
        "shapes": [
         {
          "line": {
           "color": "#F0AB00",
           "dash": "dash"
          },
          "type": "line",
          "x0": 7,
          "x1": 7,
          "xref": "x",
          "y0": 0,
          "y1": 1,
          "yref": "y domain"
         }
        ],
        "template": {
         "data": {
          "bar": [
           {
            "error_x": {
             "color": "#2a3f5f"
            },
            "error_y": {
             "color": "#2a3f5f"
            },
            "marker": {
             "line": {
              "color": "#E5ECF6",
              "width": 0.5
             },
             "pattern": {
              "fillmode": "overlay",
              "size": 10,
              "solidity": 0.2
             }
            },
            "type": "bar"
           }
          ],
          "barpolar": [
           {
            "marker": {
             "line": {
              "color": "#E5ECF6",
              "width": 0.5
             },
             "pattern": {
              "fillmode": "overlay",
              "size": 10,
              "solidity": 0.2
             }
            },
            "type": "barpolar"
           }
          ],
          "carpet": [
           {
            "aaxis": {
             "endlinecolor": "#2a3f5f",
             "gridcolor": "white",
             "linecolor": "white",
             "minorgridcolor": "white",
             "startlinecolor": "#2a3f5f"
            },
            "baxis": {
             "endlinecolor": "#2a3f5f",
             "gridcolor": "white",
             "linecolor": "white",
             "minorgridcolor": "white",
             "startlinecolor": "#2a3f5f"
            },
            "type": "carpet"
           }
          ],
          "choropleth": [
           {
            "colorbar": {
             "outlinewidth": 0,
             "ticks": ""
            },
            "type": "choropleth"
           }
          ],
          "contour": [
           {
            "colorbar": {
             "outlinewidth": 0,
             "ticks": ""
            },
            "colorscale": [
             [
              0,
              "#0d0887"
             ],
             [
              0.1111111111111111,
              "#46039f"
             ],
             [
              0.2222222222222222,
              "#7201a8"
             ],
             [
              0.3333333333333333,
              "#9c179e"
             ],
             [
              0.4444444444444444,
              "#bd3786"
             ],
             [
              0.5555555555555556,
              "#d8576b"
             ],
             [
              0.6666666666666666,
              "#ed7953"
             ],
             [
              0.7777777777777778,
              "#fb9f3a"
             ],
             [
              0.8888888888888888,
              "#fdca26"
             ],
             [
              1,
              "#f0f921"
             ]
            ],
            "type": "contour"
           }
          ],
          "contourcarpet": [
           {
            "colorbar": {
             "outlinewidth": 0,
             "ticks": ""
            },
            "type": "contourcarpet"
           }
          ],
          "heatmap": [
           {
            "colorbar": {
             "outlinewidth": 0,
             "ticks": ""
            },
            "colorscale": [
             [
              0,
              "#0d0887"
             ],
             [
              0.1111111111111111,
              "#46039f"
             ],
             [
              0.2222222222222222,
              "#7201a8"
             ],
             [
              0.3333333333333333,
              "#9c179e"
             ],
             [
              0.4444444444444444,
              "#bd3786"
             ],
             [
              0.5555555555555556,
              "#d8576b"
             ],
             [
              0.6666666666666666,
              "#ed7953"
             ],
             [
              0.7777777777777778,
              "#fb9f3a"
             ],
             [
              0.8888888888888888,
              "#fdca26"
             ],
             [
              1,
              "#f0f921"
             ]
            ],
            "type": "heatmap"
           }
          ],
          "heatmapgl": [
           {
            "colorbar": {
             "outlinewidth": 0,
             "ticks": ""
            },
            "colorscale": [
             [
              0,
              "#0d0887"
             ],
             [
              0.1111111111111111,
              "#46039f"
             ],
             [
              0.2222222222222222,
              "#7201a8"
             ],
             [
              0.3333333333333333,
              "#9c179e"
             ],
             [
              0.4444444444444444,
              "#bd3786"
             ],
             [
              0.5555555555555556,
              "#d8576b"
             ],
             [
              0.6666666666666666,
              "#ed7953"
             ],
             [
              0.7777777777777778,
              "#fb9f3a"
             ],
             [
              0.8888888888888888,
              "#fdca26"
             ],
             [
              1,
              "#f0f921"
             ]
            ],
            "type": "heatmapgl"
           }
          ],
          "histogram": [
           {
            "marker": {
             "pattern": {
              "fillmode": "overlay",
              "size": 10,
              "solidity": 0.2
             }
            },
            "type": "histogram"
           }
          ],
          "histogram2d": [
           {
            "colorbar": {
             "outlinewidth": 0,
             "ticks": ""
            },
            "colorscale": [
             [
              0,
              "#0d0887"
             ],
             [
              0.1111111111111111,
              "#46039f"
             ],
             [
              0.2222222222222222,
              "#7201a8"
             ],
             [
              0.3333333333333333,
              "#9c179e"
             ],
             [
              0.4444444444444444,
              "#bd3786"
             ],
             [
              0.5555555555555556,
              "#d8576b"
             ],
             [
              0.6666666666666666,
              "#ed7953"
             ],
             [
              0.7777777777777778,
              "#fb9f3a"
             ],
             [
              0.8888888888888888,
              "#fdca26"
             ],
             [
              1,
              "#f0f921"
             ]
            ],
            "type": "histogram2d"
           }
          ],
          "histogram2dcontour": [
           {
            "colorbar": {
             "outlinewidth": 0,
             "ticks": ""
            },
            "colorscale": [
             [
              0,
              "#0d0887"
             ],
             [
              0.1111111111111111,
              "#46039f"
             ],
             [
              0.2222222222222222,
              "#7201a8"
             ],
             [
              0.3333333333333333,
              "#9c179e"
             ],
             [
              0.4444444444444444,
              "#bd3786"
             ],
             [
              0.5555555555555556,
              "#d8576b"
             ],
             [
              0.6666666666666666,
              "#ed7953"
             ],
             [
              0.7777777777777778,
              "#fb9f3a"
             ],
             [
              0.8888888888888888,
              "#fdca26"
             ],
             [
              1,
              "#f0f921"
             ]
            ],
            "type": "histogram2dcontour"
           }
          ],
          "mesh3d": [
           {
            "colorbar": {
             "outlinewidth": 0,
             "ticks": ""
            },
            "type": "mesh3d"
           }
          ],
          "parcoords": [
           {
            "line": {
             "colorbar": {
              "outlinewidth": 0,
              "ticks": ""
             }
            },
            "type": "parcoords"
           }
          ],
          "pie": [
           {
            "automargin": true,
            "type": "pie"
           }
          ],
          "scatter": [
           {
            "fillpattern": {
             "fillmode": "overlay",
             "size": 10,
             "solidity": 0.2
            },
            "type": "scatter"
           }
          ],
          "scatter3d": [
           {
            "line": {
             "colorbar": {
              "outlinewidth": 0,
              "ticks": ""
             }
            },
            "marker": {
             "colorbar": {
              "outlinewidth": 0,
              "ticks": ""
             }
            },
            "type": "scatter3d"
           }
          ],
          "scattercarpet": [
           {
            "marker": {
             "colorbar": {
              "outlinewidth": 0,
              "ticks": ""
             }
            },
            "type": "scattercarpet"
           }
          ],
          "scattergeo": [
           {
            "marker": {
             "colorbar": {
              "outlinewidth": 0,
              "ticks": ""
             }
            },
            "type": "scattergeo"
           }
          ],
          "scattergl": [
           {
            "marker": {
             "colorbar": {
              "outlinewidth": 0,
              "ticks": ""
             }
            },
            "type": "scattergl"
           }
          ],
          "scattermapbox": [
           {
            "marker": {
             "colorbar": {
              "outlinewidth": 0,
              "ticks": ""
             }
            },
            "type": "scattermapbox"
           }
          ],
          "scatterpolar": [
           {
            "marker": {
             "colorbar": {
              "outlinewidth": 0,
              "ticks": ""
             }
            },
            "type": "scatterpolar"
           }
          ],
          "scatterpolargl": [
           {
            "marker": {
             "colorbar": {
              "outlinewidth": 0,
              "ticks": ""
             }
            },
            "type": "scatterpolargl"
           }
          ],
          "scatterternary": [
           {
            "marker": {
             "colorbar": {
              "outlinewidth": 0,
              "ticks": ""
             }
            },
            "type": "scatterternary"
           }
          ],
          "surface": [
           {
            "colorbar": {
             "outlinewidth": 0,
             "ticks": ""
            },
            "colorscale": [
             [
              0,
              "#0d0887"
             ],
             [
              0.1111111111111111,
              "#46039f"
             ],
             [
              0.2222222222222222,
              "#7201a8"
             ],
             [
              0.3333333333333333,
              "#9c179e"
             ],
             [
              0.4444444444444444,
              "#bd3786"
             ],
             [
              0.5555555555555556,
              "#d8576b"
             ],
             [
              0.6666666666666666,
              "#ed7953"
             ],
             [
              0.7777777777777778,
              "#fb9f3a"
             ],
             [
              0.8888888888888888,
              "#fdca26"
             ],
             [
              1,
              "#f0f921"
             ]
            ],
            "type": "surface"
           }
          ],
          "table": [
           {
            "cells": {
             "fill": {
              "color": "#EBF0F8"
             },
             "line": {
              "color": "white"
             }
            },
            "header": {
             "fill": {
              "color": "#C8D4E3"
             },
             "line": {
              "color": "white"
             }
            },
            "type": "table"
           }
          ]
         },
         "layout": {
          "annotationdefaults": {
           "arrowcolor": "#2a3f5f",
           "arrowhead": 0,
           "arrowwidth": 1
          },
          "autotypenumbers": "strict",
          "coloraxis": {
           "colorbar": {
            "outlinewidth": 0,
            "ticks": ""
           }
          },
          "colorscale": {
           "diverging": [
            [
             0,
             "#8e0152"
            ],
            [
             0.1,
             "#c51b7d"
            ],
            [
             0.2,
             "#de77ae"
            ],
            [
             0.3,
             "#f1b6da"
            ],
            [
             0.4,
             "#fde0ef"
            ],
            [
             0.5,
             "#f7f7f7"
            ],
            [
             0.6,
             "#e6f5d0"
            ],
            [
             0.7,
             "#b8e186"
            ],
            [
             0.8,
             "#7fbc41"
            ],
            [
             0.9,
             "#4d9221"
            ],
            [
             1,
             "#276419"
            ]
           ],
           "sequential": [
            [
             0,
             "#0d0887"
            ],
            [
             0.1111111111111111,
             "#46039f"
            ],
            [
             0.2222222222222222,
             "#7201a8"
            ],
            [
             0.3333333333333333,
             "#9c179e"
            ],
            [
             0.4444444444444444,
             "#bd3786"
            ],
            [
             0.5555555555555556,
             "#d8576b"
            ],
            [
             0.6666666666666666,
             "#ed7953"
            ],
            [
             0.7777777777777778,
             "#fb9f3a"
            ],
            [
             0.8888888888888888,
             "#fdca26"
            ],
            [
             1,
             "#f0f921"
            ]
           ],
           "sequentialminus": [
            [
             0,
             "#0d0887"
            ],
            [
             0.1111111111111111,
             "#46039f"
            ],
            [
             0.2222222222222222,
             "#7201a8"
            ],
            [
             0.3333333333333333,
             "#9c179e"
            ],
            [
             0.4444444444444444,
             "#bd3786"
            ],
            [
             0.5555555555555556,
             "#d8576b"
            ],
            [
             0.6666666666666666,
             "#ed7953"
            ],
            [
             0.7777777777777778,
             "#fb9f3a"
            ],
            [
             0.8888888888888888,
             "#fdca26"
            ],
            [
             1,
             "#f0f921"
            ]
           ]
          },
          "colorway": [
           "#636efa",
           "#EF553B",
           "#00cc96",
           "#ab63fa",
           "#FFA15A",
           "#19d3f3",
           "#FF6692",
           "#B6E880",
           "#FF97FF",
           "#FECB52"
          ],
          "font": {
           "color": "#2a3f5f"
          },
          "geo": {
           "bgcolor": "white",
           "lakecolor": "white",
           "landcolor": "#E5ECF6",
           "showlakes": true,
           "showland": true,
           "subunitcolor": "white"
          },
          "hoverlabel": {
           "align": "left"
          },
          "hovermode": "closest",
          "mapbox": {
           "style": "light"
          },
          "paper_bgcolor": "white",
          "plot_bgcolor": "#E5ECF6",
          "polar": {
           "angularaxis": {
            "gridcolor": "white",
            "linecolor": "white",
            "ticks": ""
           },
           "bgcolor": "#E5ECF6",
           "radialaxis": {
            "gridcolor": "white",
            "linecolor": "white",
            "ticks": ""
           }
          },
          "scene": {
           "xaxis": {
            "backgroundcolor": "#E5ECF6",
            "gridcolor": "white",
            "gridwidth": 2,
            "linecolor": "white",
            "showbackground": true,
            "ticks": "",
            "zerolinecolor": "white"
           },
           "yaxis": {
            "backgroundcolor": "#E5ECF6",
            "gridcolor": "white",
            "gridwidth": 2,
            "linecolor": "white",
            "showbackground": true,
            "ticks": "",
            "zerolinecolor": "white"
           },
           "zaxis": {
            "backgroundcolor": "#E5ECF6",
            "gridcolor": "white",
            "gridwidth": 2,
            "linecolor": "white",
            "showbackground": true,
            "ticks": "",
            "zerolinecolor": "white"
           }
          },
          "shapedefaults": {
           "line": {
            "color": "#2a3f5f"
           }
          },
          "ternary": {
           "aaxis": {
            "gridcolor": "white",
            "linecolor": "white",
            "ticks": ""
           },
           "baxis": {
            "gridcolor": "white",
            "linecolor": "white",
            "ticks": ""
           },
           "bgcolor": "#E5ECF6",
           "caxis": {
            "gridcolor": "white",
            "linecolor": "white",
            "ticks": ""
           }
          },
          "title": {
           "x": 0.05
          },
          "xaxis": {
           "automargin": true,
           "gridcolor": "white",
           "linecolor": "white",
           "ticks": "",
           "title": {
            "standoff": 15
           },
           "zerolinecolor": "white",
           "zerolinewidth": 2
          },
          "yaxis": {
           "automargin": true,
           "gridcolor": "white",
           "linecolor": "white",
           "ticks": "",
           "title": {
            "standoff": 15
           },
           "zerolinecolor": "white",
           "zerolinewidth": 2
          }
         }
        },
        "title": {
         "text": "Extraction Efficiency of Product 3 into Desired Phase (Aqueous Phase)",
         "xanchor": "left",
         "yanchor": "top"
        },
        "width": 580,
        "xaxis": {
         "autorange": true,
         "range": [
          0,
          14
         ],
         "showspikes": false,
         "tickmode": "array",
         "ticktext": [
          "0",
          "2",
          "4",
          "6",
          "8",
          "10",
          "12",
          "14"
         ],
         "tickvals": [
          0,
          2,
          4,
          6,
          8,
          10,
          12,
          14
         ],
         "title": {
          "text": "pH"
         },
         "type": "linear"
        },
        "yaxis": {
         "autorange": false,
         "range": [
          -5,
          105
         ],
         "showspikes": false,
         "title": {
          "text": "Extraction Efficiency (%)"
         },
         "type": "linear"
        }
       }
      },
      "image/png": "[encoded data removed]",
      "text/html": [
       "<div>                            <div id=\"c642b2e5-fdf8-4746-85c4-59b47077618f\" class=\"plotly-graph-div\" style=\"height:525px; width:580px;\"></div>            <script type=\"text/javascript\">                require([\"plotly\"], function(Plotly) {                    window.PLOTLYENV=window.PLOTLYENV || {};                                    if (document.getElementById(\"c642b2e5-fdf8-4746-85c4-59b47077618f\")) {                    Plotly.newPlot(                        \"c642b2e5-fdf8-4746-85c4-59b47077618f\",                        [{\"hovertemplate\":\"pH: %{x:.2f}, Efficiency: %{y:.1f}%\",\"line\":{\"color\":\"#003865\"},\"mode\":\"lines\",\"name\":\"Extraction Efficiency (%) for \\u003cbr\\u003eProduct 3 in 2-MeTHF\",\"x\":[0.0,0.1,0.2,0.30000000000000004,0.4,0.5,0.6000000000000001,0.7000000000000001,0.8,0.9,1.0,1.1,1.2000000000000002,1.3,1.4000000000000001,1.5,1.6,1.7000000000000002,1.8,1.9000000000000001,2.0,2.1,2.2,2.3000000000000003,2.4000000000000004,2.5,2.6,2.7,2.8000000000000003,2.9000000000000004,3.0,3.1,3.2,3.3000000000000003,3.4000000000000004,3.5,3.6,3.7,3.8000000000000003,3.9000000000000004,4.0,4.1000000000000005,4.2,4.3,4.4,4.5,4.6000000000000005,4.7,4.800000000000001,4.9,5.0,5.1000000000000005,5.2,5.300000000000001,5.4,5.5,5.6000000000000005,5.7,5.800000000000001,5.9,6.0,6.1000000000000005,6.2,6.300000000000001,6.4,6.5,6.6000000000000005,6.7,6.800000000000001,6.9,7.0,7.1000000000000005,7.2,7.300000000000001,7.4,7.5,7.6000000000000005,7.7,7.800000000000001,7.9,8.0,8.1,8.200000000000001,8.3,8.4,8.5,8.6,8.700000000000001,8.8,8.9,9.0,9.1,9.200000000000001,9.3,9.4,9.5,9.600000000000001,9.700000000000001,9.8,9.9,10.0,10.100000000000001,10.200000000000001,10.3,10.4,10.5,10.600000000000001,10.700000000000001,10.8,10.9,11.0,11.100000000000001,11.200000000000001,11.3,11.4,11.5,11.600000000000001,11.700000000000001,11.8,11.9,12.0,12.100000000000001,12.200000000000001,12.3,12.4,12.5,12.600000000000001,12.700000000000001,12.8,12.9,13.0,13.100000000000001,13.200000000000001,13.3,13.4,13.5,13.600000000000001,13.700000000000001,13.8,13.9,14.0],\"y\":[0.024681391516262464,0.031068060076339082,0.03910607868634612,0.049221668260851316,0.06195061806729084,0.07796619484606188,0.09811401049506217,0.12345549517459416,0.155321960232911,0.19538161001708557,0.2457222552808854,0.3089528560736531,0.3883273098891753,0.48789398349341734,0.6126741716558514,0.7688716513799102,0.964113332553603,1.2077170332126852,1.5109757449251133,1.8874372954455414,2.3531428609409377,2.926766386196276,3.629569699595361,4.485057343407969,5.518187539324124,6.753984458788756,8.215423068431486,9.920547805873623,11.878962673901453,14.088091932805494,16.529907311782488,19.169035327302364,21.95314101113418,24.81611252706776,27.683869450478504,30.481811692168677,33.14236593073669,35.61104708184559,37.84995248350758,39.83839517720068,41.571106069587564,43.05484195094934,44.304275338825896,45.3378163055524,46.1736778255555,46.82616167015586,47.30186726940165,47.595326879196406,47.683471327963744,47.51843982645906,47.01887219087756,46.061611278951226,44.479654701641664,42.07852535793955,38.68827569673151,34.25934810945426,28.9708088351486,23.264561401440446,17.72899492381552,12.879554040165015,8.993044003267277,6.092798132494495,4.0407416135400505,2.6422425017334725,1.712875052342106,1.1052325288397633,0.7119006605693943,0.4587455724621265,0.2962576552486665,0.1920301694718329,0.12510878193785677,0.08204247131138465,0.05423197383183653,0.0361906411184269,0.024419596039735723,0.016686292392132766,0.011564099910956522,0.008139295182896963,0.005824848230493592,0.004242128892032791,0.0031457371894119844,0.002375694896064782,0.0018269964609008915,0.0014301784043997436,0.001138887834960166,0.0009219013223844002,0.0007579768542195309,0.0006325122431093712,0.0005353586279396235,0.0004593765437106989,0.0003994737893152464,0.00035195999614697865,0.0003141123210377088,0.0002838833240687434,0.00025970479701722786,0.00024035588463331412,0.00022487372092963806,0.00021249179885934644,0.00020259629862220645,0.00019469410471751111,0.00018838859523174792,0.00018336079256220223,0.0001793543850792156,0.00017616367165185445,0.00017362379435578563,0.0001716028066633204,0.0001699952341930967,0.0001687168562181078,0.00016770048649227307,0.00016689257061650717,0.00016625044853090998,0.00016574015690801633,0.0001653346683047915,0.0001650124825388364,0.00016475650134609713,0.00016455313034684772,0.00016439156305532104,0.00016426321045060282,0.00016416124678661457,0.00016408024812794027,0.0001640159047916343,0.0001639647926545201,0.00016392419132057838,0.00016389193957506081,0.00016386632049733037,0.00016384597015831398,0.0001638298050682325,0.00016381696452854525,0.0001638067648292677,0.00016379866285953359,0.0001637922271979703,0.0001637871151461481,0.00016378305448382045,0.00016377982897547346,0.00016377726685705933,0.0001637752316902369,0.00016377361509735375,0.00016377233099045964,0.00016377131098713627,0.00016377050076909076,0.00016376985718963825],\"type\":\"scatter\"},{\"hovertemplate\":\"pH: %{x:.2f}, Max_Eff: %{y:.1f}%\",\"line\":{\"color\":\"#003865\",\"width\":0.8},\"marker\":{\"color\":\"#68D2DF\",\"size\":8,\"symbol\":\"star\"},\"name\":\"Maximum Extraction Efficiency\",\"x\":[4.800000000000001],\"y\":[47.683471327963744],\"type\":\"scatter\"}],                        {\"template\":{\"data\":{\"histogram2dcontour\":[{\"type\":\"histogram2dcontour\",\"colorbar\":{\"outlinewidth\":0,\"ticks\":\"\"},\"colorscale\":[[0.0,\"#0d0887\"],[0.1111111111111111,\"#46039f\"],[0.2222222222222222,\"#7201a8\"],[0.3333333333333333,\"#9c179e\"],[0.4444444444444444,\"#bd3786\"],[0.5555555555555556,\"#d8576b\"],[0.6666666666666666,\"#ed7953\"],[0.7777777777777778,\"#fb9f3a\"],[0.8888888888888888,\"#fdca26\"],[1.0,\"#f0f921\"]]}],\"choropleth\":[{\"type\":\"choropleth\",\"colorbar\":{\"outlinewidth\":0,\"ticks\":\"\"}}],\"histogram2d\":[{\"type\":\"histogram2d\",\"colorbar\":{\"outlinewidth\":0,\"ticks\":\"\"},\"colorscale\":[[0.0,\"#0d0887\"],[0.1111111111111111,\"#46039f\"],[0.2222222222222222,\"#7201a8\"],[0.3333333333333333,\"#9c179e\"],[0.4444444444444444,\"#bd3786\"],[0.5555555555555556,\"#d8576b\"],[0.6666666666666666,\"#ed7953\"],[0.7777777777777778,\"#fb9f3a\"],[0.8888888888888888,\"#fdca26\"],[1.0,\"#f0f921\"]]}],\"heatmap\":[{\"type\":\"heatmap\",\"colorbar\":{\"outlinewidth\":0,\"ticks\":\"\"},\"colorscale\":[[0.0,\"#0d0887\"],[0.1111111111111111,\"#46039f\"],[0.2222222222222222,\"#7201a8\"],[0.3333333333333333,\"#9c179e\"],[0.4444444444444444,\"#bd3786\"],[0.5555555555555556,\"#d8576b\"],[0.6666666666666666,\"#ed7953\"],[0.7777777777777778,\"#fb9f3a\"],[0.8888888888888888,\"#fdca26\"],[1.0,\"#f0f921\"]]}],\"heatmapgl\":[{\"type\":\"heatmapgl\",\"colorbar\":{\"outlinewidth\":0,\"ticks\":\"\"},\"colorscale\":[[0.0,\"#0d0887\"],[0.1111111111111111,\"#46039f\"],[0.2222222222222222,\"#7201a8\"],[0.3333333333333333,\"#9c179e\"],[0.4444444444444444,\"#bd3786\"],[0.5555555555555556,\"#d8576b\"],[0.6666666666666666,\"#ed7953\"],[0.7777777777777778,\"#fb9f3a\"],[0.8888888888888888,\"#fdca26\"],[1.0,\"#f0f921\"]]}],\"contourcarpet\":[{\"type\":\"contourcarpet\",\"colorbar\":{\"outlinewidth\":0,\"ticks\":\"\"}}],\"contour\":[{\"type\":\"contour\",\"colorbar\":{\"outlinewidth\":0,\"ticks\":\"\"},\"colorscale\":[[0.0,\"#0d0887\"],[0.1111111111111111,\"#46039f\"],[0.2222222222222222,\"#7201a8\"],[0.3333333333333333,\"#9c179e\"],[0.4444444444444444,\"#bd3786\"],[0.5555555555555556,\"#d8576b\"],[0.6666666666666666,\"#ed7953\"],[0.7777777777777778,\"#fb9f3a\"],[0.8888888888888888,\"#fdca26\"],[1.0,\"#f0f921\"]]}],\"surface\":[{\"type\":\"surface\",\"colorbar\":{\"outlinewidth\":0,\"ticks\":\"\"},\"colorscale\":[[0.0,\"#0d0887\"],[0.1111111111111111,\"#46039f\"],[0.2222222222222222,\"#7201a8\"],[0.3333333333333333,\"#9c179e\"],[0.4444444444444444,\"#bd3786\"],[0.5555555555555556,\"#d8576b\"],[0.6666666666666666,\"#ed7953\"],[0.7777777777777778,\"#fb9f3a\"],[0.8888888888888888,\"#fdca26\"],[1.0,\"#f0f921\"]]}],\"mesh3d\":[{\"type\":\"mesh3d\",\"colorbar\":{\"outlinewidth\":0,\"ticks\":\"\"}}],\"scatter\":[{\"fillpattern\":{\"fillmode\":\"overlay\",\"size\":10,\"solidity\":0.2},\"type\":\"scatter\"}],\"parcoords\":[{\"type\":\"parcoords\",\"line\":{\"colorbar\":{\"outlinewidth\":0,\"ticks\":\"\"}}}],\"scatterpolargl\":[{\"type\":\"scatterpolargl\",\"marker\":{\"colorbar\":{\"outlinewidth\":0,\"ticks\":\"\"}}}],\"bar\":[{\"error_x\":{\"color\":\"#2a3f5f\"},\"error_y\":{\"color\":\"#2a3f5f\"},\"marker\":{\"line\":{\"color\":\"#E5ECF6\",\"width\":0.5},\"pattern\":{\"fillmode\":\"overlay\",\"size\":10,\"solidity\":0.2}},\"type\":\"bar\"}],\"scattergeo\":[{\"type\":\"scattergeo\",\"marker\":{\"colorbar\":{\"outlinewidth\":0,\"ticks\":\"\"}}}],\"scatterpolar\":[{\"type\":\"scatterpolar\",\"marker\":{\"colorbar\":{\"outlinewidth\":0,\"ticks\":\"\"}}}],\"histogram\":[{\"marker\":{\"pattern\":{\"fillmode\":\"overlay\",\"size\":10,\"solidity\":0.2}},\"type\":\"histogram\"}],\"scattergl\":[{\"type\":\"scattergl\",\"marker\":{\"colorbar\":{\"outlinewidth\":0,\"ticks\":\"\"}}}],\"scatter3d\":[{\"type\":\"scatter3d\",\"line\":{\"colorbar\":{\"outlinewidth\":0,\"ticks\":\"\"}},\"marker\":{\"colorbar\":{\"outlinewidth\":0,\"ticks\":\"\"}}}],\"scattermapbox\":[{\"type\":\"scattermapbox\",\"marker\":{\"colorbar\":{\"outlinewidth\":0,\"ticks\":\"\"}}}],\"scatterternary\":[{\"type\":\"scatterternary\",\"marker\":{\"colorbar\":{\"outlinewidth\":0,\"ticks\":\"\"}}}],\"scattercarpet\":[{\"type\":\"scattercarpet\",\"marker\":{\"colorbar\":{\"outlinewidth\":0,\"ticks\":\"\"}}}],\"carpet\":[{\"aaxis\":{\"endlinecolor\":\"#2a3f5f\",\"gridcolor\":\"white\",\"linecolor\":\"white\",\"minorgridcolor\":\"white\",\"startlinecolor\":\"#2a3f5f\"},\"baxis\":{\"endlinecolor\":\"#2a3f5f\",\"gridcolor\":\"white\",\"linecolor\":\"white\",\"minorgridcolor\":\"white\",\"startlinecolor\":\"#2a3f5f\"},\"type\":\"carpet\"}],\"table\":[{\"cells\":{\"fill\":{\"color\":\"#EBF0F8\"},\"line\":{\"color\":\"white\"}},\"header\":{\"fill\":{\"color\":\"#C8D4E3\"},\"line\":{\"color\":\"white\"}},\"type\":\"table\"}],\"barpolar\":[{\"marker\":{\"line\":{\"color\":\"#E5ECF6\",\"width\":0.5},\"pattern\":{\"fillmode\":\"overlay\",\"size\":10,\"solidity\":0.2}},\"type\":\"barpolar\"}],\"pie\":[{\"automargin\":true,\"type\":\"pie\"}]},\"layout\":{\"autotypenumbers\":\"strict\",\"colorway\":[\"#636efa\",\"#EF553B\",\"#00cc96\",\"#ab63fa\",\"#FFA15A\",\"#19d3f3\",\"#FF6692\",\"#B6E880\",\"#FF97FF\",\"#FECB52\"],\"font\":{\"color\":\"#2a3f5f\"},\"hovermode\":\"closest\",\"hoverlabel\":{\"align\":\"left\"},\"paper_bgcolor\":\"white\",\"plot_bgcolor\":\"#E5ECF6\",\"polar\":{\"bgcolor\":\"#E5ECF6\",\"angularaxis\":{\"gridcolor\":\"white\",\"linecolor\":\"white\",\"ticks\":\"\"},\"radialaxis\":{\"gridcolor\":\"white\",\"linecolor\":\"white\",\"ticks\":\"\"}},\"ternary\":{\"bgcolor\":\"#E5ECF6\",\"aaxis\":{\"gridcolor\":\"white\",\"linecolor\":\"white\",\"ticks\":\"\"},\"baxis\":{\"gridcolor\":\"white\",\"linecolor\":\"white\",\"ticks\":\"\"},\"caxis\":{\"gridcolor\":\"white\",\"linecolor\":\"white\",\"ticks\":\"\"}},\"coloraxis\":{\"colorbar\":{\"outlinewidth\":0,\"ticks\":\"\"}},\"colorscale\":{\"sequential\":[[0.0,\"#0d0887\"],[0.1111111111111111,\"#46039f\"],[0.2222222222222222,\"#7201a8\"],[0.3333333333333333,\"#9c179e\"],[0.4444444444444444,\"#bd3786\"],[0.5555555555555556,\"#d8576b\"],[0.6666666666666666,\"#ed7953\"],[0.7777777777777778,\"#fb9f3a\"],[0.8888888888888888,\"#fdca26\"],[1.0,\"#f0f921\"]],\"sequentialminus\":[[0.0,\"#0d0887\"],[0.1111111111111111,\"#46039f\"],[0.2222222222222222,\"#7201a8\"],[0.3333333333333333,\"#9c179e\"],[0.4444444444444444,\"#bd3786\"],[0.5555555555555556,\"#d8576b\"],[0.6666666666666666,\"#ed7953\"],[0.7777777777777778,\"#fb9f3a\"],[0.8888888888888888,\"#fdca26\"],[1.0,\"#f0f921\"]],\"diverging\":[[0,\"#8e0152\"],[0.1,\"#c51b7d\"],[0.2,\"#de77ae\"],[0.3,\"#f1b6da\"],[0.4,\"#fde0ef\"],[0.5,\"#f7f7f7\"],[0.6,\"#e6f5d0\"],[0.7,\"#b8e186\"],[0.8,\"#7fbc41\"],[0.9,\"#4d9221\"],[1,\"#276419\"]]},\"xaxis\":{\"gridcolor\":\"white\",\"linecolor\":\"white\",\"ticks\":\"\",\"title\":{\"standoff\":15},\"zerolinecolor\":\"white\",\"automargin\":true,\"zerolinewidth\":2},\"yaxis\":{\"gridcolor\":\"white\",\"linecolor\":\"white\",\"ticks\":\"\",\"title\":{\"standoff\":15},\"zerolinecolor\":\"white\",\"automargin\":true,\"zerolinewidth\":2},\"scene\":{\"xaxis\":{\"backgroundcolor\":\"#E5ECF6\",\"gridcolor\":\"white\",\"linecolor\":\"white\",\"showbackground\":true,\"ticks\":\"\",\"zerolinecolor\":\"white\",\"gridwidth\":2},\"yaxis\":{\"backgroundcolor\":\"#E5ECF6\",\"gridcolor\":\"white\",\"linecolor\":\"white\",\"showbackground\":true,\"ticks\":\"\",\"zerolinecolor\":\"white\",\"gridwidth\":2},\"zaxis\":{\"backgroundcolor\":\"#E5ECF6\",\"gridcolor\":\"white\",\"linecolor\":\"white\",\"showbackground\":true,\"ticks\":\"\",\"zerolinecolor\":\"white\",\"gridwidth\":2}},\"shapedefaults\":{\"line\":{\"color\":\"#2a3f5f\"}},\"annotationdefaults\":{\"arrowcolor\":\"#2a3f5f\",\"arrowhead\":0,\"arrowwidth\":1},\"geo\":{\"bgcolor\":\"white\",\"landcolor\":\"#E5ECF6\",\"subunitcolor\":\"white\",\"showland\":true,\"showlakes\":true,\"lakecolor\":\"white\"},\"title\":{\"x\":0.05},\"mapbox\":{\"style\":\"light\"}}},\"shapes\":[{\"line\":{\"color\":\"#F0AB00\",\"dash\":\"dash\"},\"type\":\"line\",\"x0\":7,\"x1\":7,\"xref\":\"x\",\"y0\":0,\"y1\":1,\"yref\":\"y domain\"}],\"title\":{\"text\":\"Extraction Efficiency of Product 3 into Desired Phase (Aqueous Phase)\",\"xanchor\":\"left\",\"yanchor\":\"top\"},\"legend\":{\"x\":0.65,\"y\":-0.35,\"traceorder\":\"normal\"},\"xaxis\":{\"title\":{\"text\":\"pH\"},\"tickmode\":\"array\",\"tickvals\":[0,2,4,6,8,10,12,14],\"ticktext\":[\"0\",\"2\",\"4\",\"6\",\"8\",\"10\",\"12\",\"14\"]},\"yaxis\":{\"title\":{\"text\":\"Extraction Efficiency (%)\"},\"range\":[-5,105]},\"width\":580},                        {\"responsive\": true}                    ).then(function(){\n",
       "                            \n",
       "var gd = document.getElementById('c642b2e5-fdf8-4746-85c4-59b47077618f');\n",
       "var x = new MutationObserver(function (mutations, observer) {{\n",
       "        var display = window.getComputedStyle(gd).display;\n",
       "        if (!display || display === 'none') {{\n",
       "            console.log([gd, 'removed!']);\n",
       "            Plotly.purge(gd);\n",
       "            observer.disconnect();\n",
       "        }}\n",
       "}});\n",
       "\n",
       "// Listen for the removal of the full notebook cells\n",
       "var notebookContainer = gd.closest('#notebook-container');\n",
       "if (notebookContainer) {{\n",
       "    x.observe(notebookContainer, {childList: true});\n",
       "}}\n",
       "\n",
       "// Listen for the clearing of the current output cell\n",
       "var outputEl = gd.closest('.output');\n",
       "if (outputEl) {{\n",
       "    x.observe(outputEl, {childList: true});\n",
       "}}\n",
       "\n",
       "                        })                };                });            </script>        </div>"
      ]
     },
     "metadata": {},
     "output_type": "display_data"
    }
   ],
   "source": [
    "# generate and plot extraction efficiency\n",
    "fig3 = PlotExtractionEfficiency(compounds_panel_values, system_panel_values)\n",
    "display(fig3)"
   ]
  },
  {
   "cell_type": "markdown",
   "id": "4eac7117-d650-48af-8c65-8c82269073a1",
   "metadata": {},
   "source": [
    "### Generate Results"
   ]
  },
  {
   "cell_type": "code",
   "execution_count": 28,
   "id": "9e590290-5335-48b5-a575-0bcd9cc7fc92",
   "metadata": {},
   "outputs": [],
   "source": [
    "# Calculate extractions\n",
    "_, results = CalculateExhaustiveExtractions(solvents, compounds_panel_values, system_panel_values)"
   ]
  },
  {
   "cell_type": "code",
   "execution_count": 29,
   "id": "f2e75278-dbd7-4b77-a7d1-4d27839c6a83",
   "metadata": {},
   "outputs": [
    {
     "data": {
      "text/html": [
       "<div>\n",
       "<style scoped>\n",
       "    .dataframe tbody tr th:only-of-type {\n",
       "        vertical-align: middle;\n",
       "    }\n",
       "\n",
       "    .dataframe tbody tr th {\n",
       "        vertical-align: top;\n",
       "    }\n",
       "\n",
       "    .dataframe thead th {\n",
       "        text-align: right;\n",
       "    }\n",
       "</style>\n",
       "<table border=\"1\" class=\"dataframe\">\n",
       "  <thead>\n",
       "    <tr style=\"text-align: right;\">\n",
       "      <th></th>\n",
       "      <th>pH</th>\n",
       "      <th>Solvent</th>\n",
       "      <th>Product 3_logP</th>\n",
       "      <th>Amine 2_logP</th>\n",
       "      <th>Aryl Bromide 1_logP</th>\n",
       "      <th>Extraction_eff_Product 3_aq</th>\n",
       "      <th>Fraction_extracted_Product 3_aq</th>\n",
       "      <th>Fraction_extracted_Amine 2_aq</th>\n",
       "      <th>Fraction_extracted_Aryl Bromide 1_aq</th>\n",
       "      <th>Volume_ratio</th>\n",
       "    </tr>\n",
       "  </thead>\n",
       "  <tbody>\n",
       "    <tr>\n",
       "      <th>0</th>\n",
       "      <td>0.0</td>\n",
       "      <td>1,1,1-Trichloroethane</td>\n",
       "      <td>6.083062</td>\n",
       "      <td>-0.705796</td>\n",
       "      <td>6.639175</td>\n",
       "      <td>0.202480</td>\n",
       "      <td>1.0</td>\n",
       "      <td>1.0</td>\n",
       "      <td>0.995950</td>\n",
       "      <td>1.0</td>\n",
       "    </tr>\n",
       "    <tr>\n",
       "      <th>1</th>\n",
       "      <td>0.1</td>\n",
       "      <td>1,1,1-Trichloroethane</td>\n",
       "      <td>6.083062</td>\n",
       "      <td>-0.705796</td>\n",
       "      <td>6.639175</td>\n",
       "      <td>0.254640</td>\n",
       "      <td>1.0</td>\n",
       "      <td>1.0</td>\n",
       "      <td>0.994907</td>\n",
       "      <td>1.0</td>\n",
       "    </tr>\n",
       "    <tr>\n",
       "      <th>2</th>\n",
       "      <td>0.2</td>\n",
       "      <td>1,1,1-Trichloroethane</td>\n",
       "      <td>6.083062</td>\n",
       "      <td>-0.705796</td>\n",
       "      <td>6.639175</td>\n",
       "      <td>0.320151</td>\n",
       "      <td>1.0</td>\n",
       "      <td>1.0</td>\n",
       "      <td>0.993597</td>\n",
       "      <td>1.0</td>\n",
       "    </tr>\n",
       "    <tr>\n",
       "      <th>3</th>\n",
       "      <td>0.3</td>\n",
       "      <td>1,1,1-Trichloroethane</td>\n",
       "      <td>6.083062</td>\n",
       "      <td>-0.705796</td>\n",
       "      <td>6.639175</td>\n",
       "      <td>0.402379</td>\n",
       "      <td>1.0</td>\n",
       "      <td>1.0</td>\n",
       "      <td>0.991952</td>\n",
       "      <td>1.0</td>\n",
       "    </tr>\n",
       "    <tr>\n",
       "      <th>4</th>\n",
       "      <td>0.4</td>\n",
       "      <td>1,1,1-Trichloroethane</td>\n",
       "      <td>6.083062</td>\n",
       "      <td>-0.705796</td>\n",
       "      <td>6.639175</td>\n",
       "      <td>0.505512</td>\n",
       "      <td>1.0</td>\n",
       "      <td>1.0</td>\n",
       "      <td>0.989890</td>\n",
       "      <td>1.0</td>\n",
       "    </tr>\n",
       "  </tbody>\n",
       "</table>\n",
       "</div>"
      ],
      "text/plain": [
       "    pH                Solvent  Product 3_logP  Amine 2_logP  \\\n",
       "0  0.0  1,1,1-Trichloroethane        6.083062     -0.705796   \n",
       "1  0.1  1,1,1-Trichloroethane        6.083062     -0.705796   \n",
       "2  0.2  1,1,1-Trichloroethane        6.083062     -0.705796   \n",
       "3  0.3  1,1,1-Trichloroethane        6.083062     -0.705796   \n",
       "4  0.4  1,1,1-Trichloroethane        6.083062     -0.705796   \n",
       "\n",
       "   Aryl Bromide 1_logP  Extraction_eff_Product 3_aq  \\\n",
       "0             6.639175                     0.202480   \n",
       "1             6.639175                     0.254640   \n",
       "2             6.639175                     0.320151   \n",
       "3             6.639175                     0.402379   \n",
       "4             6.639175                     0.505512   \n",
       "\n",
       "   Fraction_extracted_Product 3_aq  Fraction_extracted_Amine 2_aq  \\\n",
       "0                              1.0                            1.0   \n",
       "1                              1.0                            1.0   \n",
       "2                              1.0                            1.0   \n",
       "3                              1.0                            1.0   \n",
       "4                              1.0                            1.0   \n",
       "\n",
       "   Fraction_extracted_Aryl Bromide 1_aq  Volume_ratio  \n",
       "0                              0.995950           1.0  \n",
       "1                              0.994907           1.0  \n",
       "2                              0.993597           1.0  \n",
       "3                              0.991952           1.0  \n",
       "4                              0.989890           1.0  "
      ]
     },
     "execution_count": 29,
     "metadata": {},
     "output_type": "execute_result"
    }
   ],
   "source": [
    "results.head()"
   ]
  },
  {
   "cell_type": "code",
   "execution_count": 30,
   "id": "9ce595bd-7efd-4004-a6e2-cef2bca67da5",
   "metadata": {},
   "outputs": [
    {
     "data": {
      "text/plain": [
       "(24252, 10)"
      ]
     },
     "execution_count": 30,
     "metadata": {},
     "output_type": "execute_result"
    }
   ],
   "source": [
    "results.shape"
   ]
  },
  {
   "cell_type": "code",
   "execution_count": 61,
   "id": "4260e0b6-4f58-4c8d-b6c9-e9a5613aa72e",
   "metadata": {},
   "outputs": [],
   "source": [
    "# The same can be done looking at different volume ratios and calculating maximum extraction efficiency at each volume ratio:\n",
    "# Define Valume Ratio limits\n",
    "volume_ratios = (0.1, 5.0)\n",
    "\n",
    "_, vr_results = CalculateExtractions(solvents, compounds_panel_values, system_panel_values, volume_ratios)"
   ]
  },
  {
   "cell_type": "code",
   "execution_count": 62,
   "id": "a1b58414-c844-4cda-aa97-8f3475c591fe",
   "metadata": {},
   "outputs": [
    {
     "data": {
      "text/html": [
       "<div>\n",
       "<style scoped>\n",
       "    .dataframe tbody tr th:only-of-type {\n",
       "        vertical-align: middle;\n",
       "    }\n",
       "\n",
       "    .dataframe tbody tr th {\n",
       "        vertical-align: top;\n",
       "    }\n",
       "\n",
       "    .dataframe thead th {\n",
       "        text-align: right;\n",
       "    }\n",
       "</style>\n",
       "<table border=\"1\" class=\"dataframe\">\n",
       "  <thead>\n",
       "    <tr style=\"text-align: right;\">\n",
       "      <th></th>\n",
       "      <th>Product 3_logP</th>\n",
       "      <th>Amine 2_logP</th>\n",
       "      <th>Aryl Bromide 1_logP</th>\n",
       "      <th>Max_eff_pH</th>\n",
       "      <th>Max_ext_eff</th>\n",
       "      <th>PRODUCT 3_fraction_org</th>\n",
       "      <th>AMINE 2_fraction_org</th>\n",
       "      <th>ARYL BROMIDE 1_fraction_org</th>\n",
       "      <th>Volume_ratio</th>\n",
       "    </tr>\n",
       "  </thead>\n",
       "  <tbody>\n",
       "    <tr>\n",
       "      <th>1,1,1-Trichloroethane</th>\n",
       "      <td>6.083062</td>\n",
       "      <td>-0.705796</td>\n",
       "      <td>6.639175</td>\n",
       "      <td>5.0</td>\n",
       "      <td>48.326346</td>\n",
       "      <td>0.990299</td>\n",
       "      <td>8.638695e-07</td>\n",
       "      <td>0.975994</td>\n",
       "      <td>0.1</td>\n",
       "    </tr>\n",
       "    <tr>\n",
       "      <th>1,1-Dichloroethane</th>\n",
       "      <td>6.417474</td>\n",
       "      <td>-0.202966</td>\n",
       "      <td>6.693888</td>\n",
       "      <td>4.9</td>\n",
       "      <td>48.044607</td>\n",
       "      <td>0.987121</td>\n",
       "      <td>2.085380e-06</td>\n",
       "      <td>0.973427</td>\n",
       "      <td>0.1</td>\n",
       "    </tr>\n",
       "    <tr>\n",
       "      <th>1,1-Dichloroethene</th>\n",
       "      <td>6.544878</td>\n",
       "      <td>-0.476505</td>\n",
       "      <td>7.012580</td>\n",
       "      <td>4.8</td>\n",
       "      <td>48.666290</td>\n",
       "      <td>0.989383</td>\n",
       "      <td>8.348416e-07</td>\n",
       "      <td>0.983769</td>\n",
       "      <td>0.1</td>\n",
       "    </tr>\n",
       "    <tr>\n",
       "      <th>1,2-Dichlorobenzene</th>\n",
       "      <td>5.912347</td>\n",
       "      <td>-0.879814</td>\n",
       "      <td>6.725937</td>\n",
       "      <td>5.1</td>\n",
       "      <td>48.692852</td>\n",
       "      <td>0.989438</td>\n",
       "      <td>7.569705e-07</td>\n",
       "      <td>0.984252</td>\n",
       "      <td>0.1</td>\n",
       "    </tr>\n",
       "    <tr>\n",
       "      <th>1,2-Dichloroethane</th>\n",
       "      <td>6.303173</td>\n",
       "      <td>-0.180649</td>\n",
       "      <td>6.589213</td>\n",
       "      <td>5.0</td>\n",
       "      <td>47.878858</td>\n",
       "      <td>0.983998</td>\n",
       "      <td>2.894641e-06</td>\n",
       "      <td>0.973146</td>\n",
       "      <td>0.1</td>\n",
       "    </tr>\n",
       "  </tbody>\n",
       "</table>\n",
       "</div>"
      ],
      "text/plain": [
       "                       Product 3_logP  Amine 2_logP  Aryl Bromide 1_logP  \\\n",
       "1,1,1-Trichloroethane        6.083062     -0.705796             6.639175   \n",
       "1,1-Dichloroethane           6.417474     -0.202966             6.693888   \n",
       "1,1-Dichloroethene           6.544878     -0.476505             7.012580   \n",
       "1,2-Dichlorobenzene          5.912347     -0.879814             6.725937   \n",
       "1,2-Dichloroethane           6.303173     -0.180649             6.589213   \n",
       "\n",
       "                       Max_eff_pH  Max_ext_eff  PRODUCT 3_fraction_org  \\\n",
       "1,1,1-Trichloroethane         5.0    48.326346                0.990299   \n",
       "1,1-Dichloroethane            4.9    48.044607                0.987121   \n",
       "1,1-Dichloroethene            4.8    48.666290                0.989383   \n",
       "1,2-Dichlorobenzene           5.1    48.692852                0.989438   \n",
       "1,2-Dichloroethane            5.0    47.878858                0.983998   \n",
       "\n",
       "                       AMINE 2_fraction_org  ARYL BROMIDE 1_fraction_org  \\\n",
       "1,1,1-Trichloroethane          8.638695e-07                     0.975994   \n",
       "1,1-Dichloroethane             2.085380e-06                     0.973427   \n",
       "1,1-Dichloroethene             8.348416e-07                     0.983769   \n",
       "1,2-Dichlorobenzene            7.569705e-07                     0.984252   \n",
       "1,2-Dichloroethane             2.894641e-06                     0.973146   \n",
       "\n",
       "                       Volume_ratio  \n",
       "1,1,1-Trichloroethane           0.1  \n",
       "1,1-Dichloroethane              0.1  \n",
       "1,1-Dichloroethene              0.1  \n",
       "1,2-Dichlorobenzene             0.1  \n",
       "1,2-Dichloroethane              0.1  "
      ]
     },
     "execution_count": 62,
     "metadata": {},
     "output_type": "execute_result"
    }
   ],
   "source": [
    "vr_results.head()"
   ]
  },
  {
   "cell_type": "code",
   "execution_count": 63,
   "id": "89c60cd0-1869-48c6-90cd-d4b1a981e5a9",
   "metadata": {},
   "outputs": [
    {
     "data": {
      "text/plain": [
       "(2064, 9)"
      ]
     },
     "execution_count": 63,
     "metadata": {},
     "output_type": "execute_result"
    }
   ],
   "source": [
    "vr_results.shape"
   ]
  }
 ],
 "metadata": {
  "kernelspec": {
   "display_name": "Python 3 (ipykernel)",
   "language": "python",
   "name": "python3"
  },
  "language_info": {
   "codemirror_mode": {
    "name": "ipython",
    "version": 3
   },
   "file_extension": ".py",
   "mimetype": "text/x-python",
   "name": "python",
   "nbconvert_exporter": "python",
   "pygments_lexer": "ipython3",
   "version": "3.9.7"
  }
 },
 "nbformat": 4,
 "nbformat_minor": 5
}
